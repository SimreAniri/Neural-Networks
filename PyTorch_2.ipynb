{
  "nbformat": 4,
  "nbformat_minor": 0,
  "metadata": {
    "kernelspec": {
      "display_name": "Python 3",
      "language": "python",
      "name": "python3"
    },
    "language_info": {
      "codemirror_mode": {
        "name": "ipython",
        "version": 3
      },
      "file_extension": ".py",
      "mimetype": "text/x-python",
      "name": "python",
      "nbconvert_exporter": "python",
      "pygments_lexer": "ipython3",
      "version": "3.8.3"
    },
    "colab": {
      "name": "PyTorch_2.ipynb",
      "provenance": [],
      "include_colab_link": true
    },
    "accelerator": "GPU"
  },
  "cells": [
    {
      "cell_type": "markdown",
      "metadata": {
        "id": "view-in-github",
        "colab_type": "text"
      },
      "source": [
        "<a href=\"https://colab.research.google.com/github/SimreAniri/Neural-Networks/blob/master/PyTorch_2.ipynb\" target=\"_parent\"><img src=\"https://colab.research.google.com/assets/colab-badge.svg\" alt=\"Open In Colab\"/></a>"
      ]
    },
    {
      "cell_type": "code",
      "metadata": {
        "id": "XmwrFywGiO9M",
        "outputId": "ac75fa40-d3f9-4457-de78-02f0b2e6c0d6",
        "colab": {
          "base_uri": "https://localhost:8080/",
          "height": 34
        }
      },
      "source": [
        "import torch\n",
        "from torch import nn\n",
        "import numpy as np\n",
        "import matplotlib.pyplot as plt\n",
        "\n",
        "use_cuda = torch.cuda.is_available()\n",
        "# device = torch.device(\"cpu\")\n",
        "device = torch.device('cuda') if torch.cuda.is_available() else torch.device('cpu')\n",
        "print(device)"
      ],
      "execution_count": 1,
      "outputs": [
        {
          "output_type": "stream",
          "text": [
            "cuda\n"
          ],
          "name": "stdout"
        }
      ]
    },
    {
      "cell_type": "code",
      "metadata": {
        "id": "EeW8dMSMiO9Q"
      },
      "source": [
        "class LSTM_net(nn.Module):\n",
        "    def __init__(self,input_dim,hidden_dim,output_dim,layer_num):\n",
        "        super().__init__()\n",
        "        self.hidden_dim = hidden_dim\n",
        "        self.output_dim = output_dim\n",
        "        self.lstm = torch.nn.LSTM(input_dim, hidden_dim,layer_num,batch_first=True)\n",
        "#         self.dr = torch.nn.Dropout2d(0.25)\n",
        "        self.fc = torch.nn.Linear(hidden_dim,output_dim)\n",
        "        \n",
        "        \n",
        "    def forward(self,inputs):\n",
        "        x = inputs\n",
        "        lstm_out,(hn,cn) = self.lstm(x)\n",
        "        out = self.fc(lstm_out[:,-1,:])\n",
        "        return out"
      ],
      "execution_count": 2,
      "outputs": []
    },
    {
      "cell_type": "code",
      "metadata": {
        "id": "8NWlMGFIiO9S"
      },
      "source": [
        "import pandas as pd\n",
        "\n",
        "skeletons = pd.read_csv(\"skels.csv\")"
      ],
      "execution_count": 19,
      "outputs": []
    },
    {
      "cell_type": "code",
      "metadata": {
        "id": "LAQZD31siO9T"
      },
      "source": [
        "LABELS = {0: \"cheer up\", 1: \"jump up\", 2:  \"hand waving\", 3: \"sitting down\", 4: \"clapping\"}"
      ],
      "execution_count": 20,
      "outputs": []
    },
    {
      "cell_type": "code",
      "metadata": {
        "scrolled": true,
        "id": "4-T1nJBjiO9V",
        "outputId": "659c16ad-b811-47fa-b49e-27197b2f7e2f",
        "colab": {
          "base_uri": "https://localhost:8080/",
          "height": 253
        }
      },
      "source": [
        "skeletons.head()"
      ],
      "execution_count": 21,
      "outputs": [
        {
          "output_type": "execute_result",
          "data": {
            "text/html": [
              "<div>\n",
              "<style scoped>\n",
              "    .dataframe tbody tr th:only-of-type {\n",
              "        vertical-align: middle;\n",
              "    }\n",
              "\n",
              "    .dataframe tbody tr th {\n",
              "        vertical-align: top;\n",
              "    }\n",
              "\n",
              "    .dataframe thead th {\n",
              "        text-align: right;\n",
              "    }\n",
              "</style>\n",
              "<table border=\"1\" class=\"dataframe\">\n",
              "  <thead>\n",
              "    <tr style=\"text-align: right;\">\n",
              "      <th></th>\n",
              "      <th>0</th>\n",
              "      <th>1</th>\n",
              "      <th>2</th>\n",
              "      <th>3</th>\n",
              "      <th>4</th>\n",
              "      <th>5</th>\n",
              "      <th>6</th>\n",
              "      <th>7</th>\n",
              "      <th>8</th>\n",
              "      <th>9</th>\n",
              "      <th>10</th>\n",
              "      <th>11</th>\n",
              "      <th>12</th>\n",
              "      <th>13</th>\n",
              "      <th>14</th>\n",
              "      <th>15</th>\n",
              "      <th>16</th>\n",
              "      <th>17</th>\n",
              "      <th>18</th>\n",
              "      <th>19</th>\n",
              "      <th>20</th>\n",
              "      <th>21</th>\n",
              "      <th>22</th>\n",
              "      <th>23</th>\n",
              "      <th>24</th>\n",
              "      <th>25</th>\n",
              "      <th>26</th>\n",
              "      <th>27</th>\n",
              "      <th>28</th>\n",
              "      <th>29</th>\n",
              "      <th>30</th>\n",
              "      <th>31</th>\n",
              "      <th>32</th>\n",
              "      <th>33</th>\n",
              "      <th>34</th>\n",
              "      <th>35</th>\n",
              "      <th>36</th>\n",
              "      <th>37</th>\n",
              "      <th>38</th>\n",
              "      <th>39</th>\n",
              "      <th>...</th>\n",
              "      <th>3336</th>\n",
              "      <th>3337</th>\n",
              "      <th>3338</th>\n",
              "      <th>3339</th>\n",
              "      <th>3340</th>\n",
              "      <th>3341</th>\n",
              "      <th>3342</th>\n",
              "      <th>3343</th>\n",
              "      <th>3344</th>\n",
              "      <th>3345</th>\n",
              "      <th>3346</th>\n",
              "      <th>3347</th>\n",
              "      <th>3348</th>\n",
              "      <th>3349</th>\n",
              "      <th>3350</th>\n",
              "      <th>3351</th>\n",
              "      <th>3352</th>\n",
              "      <th>3353</th>\n",
              "      <th>3354</th>\n",
              "      <th>3355</th>\n",
              "      <th>3356</th>\n",
              "      <th>3357</th>\n",
              "      <th>3358</th>\n",
              "      <th>3359</th>\n",
              "      <th>3360</th>\n",
              "      <th>3361</th>\n",
              "      <th>3362</th>\n",
              "      <th>3363</th>\n",
              "      <th>3364</th>\n",
              "      <th>3365</th>\n",
              "      <th>3366</th>\n",
              "      <th>3367</th>\n",
              "      <th>3368</th>\n",
              "      <th>3369</th>\n",
              "      <th>3370</th>\n",
              "      <th>3371</th>\n",
              "      <th>3372</th>\n",
              "      <th>3373</th>\n",
              "      <th>3374</th>\n",
              "      <th>labels</th>\n",
              "    </tr>\n",
              "  </thead>\n",
              "  <tbody>\n",
              "    <tr>\n",
              "      <th>0</th>\n",
              "      <td>-0.526048</td>\n",
              "      <td>-0.277147</td>\n",
              "      <td>2.987706</td>\n",
              "      <td>-0.606184</td>\n",
              "      <td>-0.010056</td>\n",
              "      <td>3.010000</td>\n",
              "      <td>-0.681454</td>\n",
              "      <td>0.251614</td>\n",
              "      <td>3.020046</td>\n",
              "      <td>-0.708330</td>\n",
              "      <td>0.386629</td>\n",
              "      <td>3.087164</td>\n",
              "      <td>-0.704835</td>\n",
              "      <td>0.111742</td>\n",
              "      <td>2.856311</td>\n",
              "      <td>-0.515683</td>\n",
              "      <td>-0.024701</td>\n",
              "      <td>2.727949</td>\n",
              "      <td>-0.353615</td>\n",
              "      <td>-0.123308</td>\n",
              "      <td>2.706112</td>\n",
              "      <td>-0.327895</td>\n",
              "      <td>-0.141611</td>\n",
              "      <td>2.749221</td>\n",
              "      <td>-0.511823</td>\n",
              "      <td>0.157910</td>\n",
              "      <td>3.311851</td>\n",
              "      <td>-0.543163</td>\n",
              "      <td>-0.013495</td>\n",
              "      <td>3.108863</td>\n",
              "      <td>-0.496480</td>\n",
              "      <td>-0.181723</td>\n",
              "      <td>2.912678</td>\n",
              "      <td>-0.424105</td>\n",
              "      <td>-0.341968</td>\n",
              "      <td>2.685757</td>\n",
              "      <td>-0.559787</td>\n",
              "      <td>-0.277896</td>\n",
              "      <td>2.867135</td>\n",
              "      <td>-0.187794</td>\n",
              "      <td>...</td>\n",
              "      <td>-0.570154</td>\n",
              "      <td>-0.290760</td>\n",
              "      <td>2.955790</td>\n",
              "      <td>-0.255583</td>\n",
              "      <td>-0.187767</td>\n",
              "      <td>2.804032</td>\n",
              "      <td>-0.094777</td>\n",
              "      <td>-0.625936</td>\n",
              "      <td>2.721997</td>\n",
              "      <td>0.002962</td>\n",
              "      <td>-0.660430</td>\n",
              "      <td>2.645224</td>\n",
              "      <td>-0.491591</td>\n",
              "      <td>-0.281821</td>\n",
              "      <td>2.985380</td>\n",
              "      <td>-0.109749</td>\n",
              "      <td>-0.353734</td>\n",
              "      <td>2.758277</td>\n",
              "      <td>-0.016498</td>\n",
              "      <td>-0.707223</td>\n",
              "      <td>3.037502</td>\n",
              "      <td>0.080172</td>\n",
              "      <td>-0.741614</td>\n",
              "      <td>2.960732</td>\n",
              "      <td>-0.713666</td>\n",
              "      <td>0.178025</td>\n",
              "      <td>2.969061</td>\n",
              "      <td>-0.599133</td>\n",
              "      <td>0.702776</td>\n",
              "      <td>2.722800</td>\n",
              "      <td>-0.619659</td>\n",
              "      <td>0.647852</td>\n",
              "      <td>2.708625</td>\n",
              "      <td>-0.598600</td>\n",
              "      <td>0.593635</td>\n",
              "      <td>2.707864</td>\n",
              "      <td>-0.601837</td>\n",
              "      <td>0.592191</td>\n",
              "      <td>2.697301</td>\n",
              "      <td>0</td>\n",
              "    </tr>\n",
              "    <tr>\n",
              "      <th>1</th>\n",
              "      <td>-0.325320</td>\n",
              "      <td>-0.560200</td>\n",
              "      <td>3.244968</td>\n",
              "      <td>-0.296753</td>\n",
              "      <td>-0.312155</td>\n",
              "      <td>3.234485</td>\n",
              "      <td>-0.267607</td>\n",
              "      <td>-0.066345</td>\n",
              "      <td>3.212031</td>\n",
              "      <td>-0.286594</td>\n",
              "      <td>0.049026</td>\n",
              "      <td>3.222926</td>\n",
              "      <td>-0.412259</td>\n",
              "      <td>-0.156479</td>\n",
              "      <td>3.294798</td>\n",
              "      <td>-0.467307</td>\n",
              "      <td>-0.373163</td>\n",
              "      <td>3.353605</td>\n",
              "      <td>-0.452381</td>\n",
              "      <td>-0.607216</td>\n",
              "      <td>3.276438</td>\n",
              "      <td>-0.459716</td>\n",
              "      <td>-0.668793</td>\n",
              "      <td>3.282482</td>\n",
              "      <td>-0.160399</td>\n",
              "      <td>-0.179870</td>\n",
              "      <td>3.150078</td>\n",
              "      <td>-0.136725</td>\n",
              "      <td>-0.403121</td>\n",
              "      <td>3.128864</td>\n",
              "      <td>-0.160573</td>\n",
              "      <td>-0.601392</td>\n",
              "      <td>3.074458</td>\n",
              "      <td>-0.177965</td>\n",
              "      <td>-0.641335</td>\n",
              "      <td>3.074898</td>\n",
              "      <td>-0.368195</td>\n",
              "      <td>-0.549674</td>\n",
              "      <td>3.236222</td>\n",
              "      <td>-0.341016</td>\n",
              "      <td>...</td>\n",
              "      <td>-0.257144</td>\n",
              "      <td>-0.549525</td>\n",
              "      <td>3.252231</td>\n",
              "      <td>-0.284481</td>\n",
              "      <td>-0.867219</td>\n",
              "      <td>3.254666</td>\n",
              "      <td>-0.260625</td>\n",
              "      <td>-1.214738</td>\n",
              "      <td>3.346629</td>\n",
              "      <td>-0.287114</td>\n",
              "      <td>-1.243873</td>\n",
              "      <td>3.252890</td>\n",
              "      <td>-0.167253</td>\n",
              "      <td>-0.557715</td>\n",
              "      <td>3.216227</td>\n",
              "      <td>-0.177271</td>\n",
              "      <td>-0.884009</td>\n",
              "      <td>3.205395</td>\n",
              "      <td>-0.126542</td>\n",
              "      <td>-1.207360</td>\n",
              "      <td>3.246551</td>\n",
              "      <td>-0.155615</td>\n",
              "      <td>-1.256368</td>\n",
              "      <td>3.249898</td>\n",
              "      <td>-0.198894</td>\n",
              "      <td>-0.136859</td>\n",
              "      <td>3.196666</td>\n",
              "      <td>-0.064467</td>\n",
              "      <td>-0.539597</td>\n",
              "      <td>3.214681</td>\n",
              "      <td>-0.066076</td>\n",
              "      <td>-0.459657</td>\n",
              "      <td>3.206000</td>\n",
              "      <td>-0.227804</td>\n",
              "      <td>-0.654428</td>\n",
              "      <td>3.002556</td>\n",
              "      <td>-0.231687</td>\n",
              "      <td>-0.655208</td>\n",
              "      <td>3.000000</td>\n",
              "      <td>1</td>\n",
              "    </tr>\n",
              "    <tr>\n",
              "      <th>2</th>\n",
              "      <td>-0.134503</td>\n",
              "      <td>0.387048</td>\n",
              "      <td>3.797468</td>\n",
              "      <td>-0.135835</td>\n",
              "      <td>0.648782</td>\n",
              "      <td>3.669347</td>\n",
              "      <td>-0.137341</td>\n",
              "      <td>0.904024</td>\n",
              "      <td>3.529603</td>\n",
              "      <td>-0.131990</td>\n",
              "      <td>1.040210</td>\n",
              "      <td>3.459599</td>\n",
              "      <td>-0.305457</td>\n",
              "      <td>0.803356</td>\n",
              "      <td>3.557507</td>\n",
              "      <td>-0.347566</td>\n",
              "      <td>0.584975</td>\n",
              "      <td>3.688359</td>\n",
              "      <td>-0.388565</td>\n",
              "      <td>0.400258</td>\n",
              "      <td>3.742037</td>\n",
              "      <td>-0.379674</td>\n",
              "      <td>0.323533</td>\n",
              "      <td>3.767783</td>\n",
              "      <td>0.034142</td>\n",
              "      <td>0.812697</td>\n",
              "      <td>3.575421</td>\n",
              "      <td>0.083355</td>\n",
              "      <td>0.608419</td>\n",
              "      <td>3.697207</td>\n",
              "      <td>0.079156</td>\n",
              "      <td>0.419270</td>\n",
              "      <td>3.766705</td>\n",
              "      <td>0.059876</td>\n",
              "      <td>0.361420</td>\n",
              "      <td>3.788075</td>\n",
              "      <td>-0.211784</td>\n",
              "      <td>0.380342</td>\n",
              "      <td>3.759820</td>\n",
              "      <td>-0.271761</td>\n",
              "      <td>...</td>\n",
              "      <td>-0.250673</td>\n",
              "      <td>0.606249</td>\n",
              "      <td>3.497178</td>\n",
              "      <td>-0.311035</td>\n",
              "      <td>0.334250</td>\n",
              "      <td>3.712313</td>\n",
              "      <td>-0.343928</td>\n",
              "      <td>0.063761</td>\n",
              "      <td>4.068970</td>\n",
              "      <td>-0.354147</td>\n",
              "      <td>-0.027281</td>\n",
              "      <td>3.967637</td>\n",
              "      <td>-0.095314</td>\n",
              "      <td>0.609818</td>\n",
              "      <td>3.490057</td>\n",
              "      <td>-0.045545</td>\n",
              "      <td>0.354838</td>\n",
              "      <td>3.724567</td>\n",
              "      <td>-0.035290</td>\n",
              "      <td>0.029367</td>\n",
              "      <td>4.036292</td>\n",
              "      <td>-0.048035</td>\n",
              "      <td>-0.061396</td>\n",
              "      <td>3.934838</td>\n",
              "      <td>-0.160851</td>\n",
              "      <td>1.087236</td>\n",
              "      <td>3.319579</td>\n",
              "      <td>-0.358098</td>\n",
              "      <td>0.506673</td>\n",
              "      <td>3.490695</td>\n",
              "      <td>-0.332011</td>\n",
              "      <td>0.576840</td>\n",
              "      <td>3.451273</td>\n",
              "      <td>0.011452</td>\n",
              "      <td>0.521624</td>\n",
              "      <td>3.528420</td>\n",
              "      <td>-0.011325</td>\n",
              "      <td>0.589017</td>\n",
              "      <td>3.480000</td>\n",
              "      <td>1</td>\n",
              "    </tr>\n",
              "    <tr>\n",
              "      <th>3</th>\n",
              "      <td>0.371560</td>\n",
              "      <td>-0.187321</td>\n",
              "      <td>2.853457</td>\n",
              "      <td>0.388124</td>\n",
              "      <td>0.118966</td>\n",
              "      <td>2.756247</td>\n",
              "      <td>0.402399</td>\n",
              "      <td>0.418116</td>\n",
              "      <td>2.643035</td>\n",
              "      <td>0.354668</td>\n",
              "      <td>0.559822</td>\n",
              "      <td>2.625852</td>\n",
              "      <td>0.286102</td>\n",
              "      <td>0.348658</td>\n",
              "      <td>2.812573</td>\n",
              "      <td>0.241775</td>\n",
              "      <td>0.077759</td>\n",
              "      <td>2.934890</td>\n",
              "      <td>0.153760</td>\n",
              "      <td>-0.150245</td>\n",
              "      <td>2.875890</td>\n",
              "      <td>0.157503</td>\n",
              "      <td>-0.176863</td>\n",
              "      <td>2.863508</td>\n",
              "      <td>0.485513</td>\n",
              "      <td>0.267053</td>\n",
              "      <td>2.568110</td>\n",
              "      <td>0.518208</td>\n",
              "      <td>0.020373</td>\n",
              "      <td>2.588219</td>\n",
              "      <td>0.423660</td>\n",
              "      <td>-0.210078</td>\n",
              "      <td>2.590119</td>\n",
              "      <td>0.397967</td>\n",
              "      <td>-0.293417</td>\n",
              "      <td>2.620825</td>\n",
              "      <td>0.321781</td>\n",
              "      <td>-0.177898</td>\n",
              "      <td>2.866281</td>\n",
              "      <td>0.343763</td>\n",
              "      <td>...</td>\n",
              "      <td>0.329269</td>\n",
              "      <td>-0.174708</td>\n",
              "      <td>2.878668</td>\n",
              "      <td>0.336804</td>\n",
              "      <td>-0.538840</td>\n",
              "      <td>3.011136</td>\n",
              "      <td>0.415498</td>\n",
              "      <td>-0.883922</td>\n",
              "      <td>3.156997</td>\n",
              "      <td>0.344501</td>\n",
              "      <td>-0.925589</td>\n",
              "      <td>3.085428</td>\n",
              "      <td>0.418745</td>\n",
              "      <td>-0.186306</td>\n",
              "      <td>2.767760</td>\n",
              "      <td>0.473212</td>\n",
              "      <td>-0.551371</td>\n",
              "      <td>2.765115</td>\n",
              "      <td>0.550901</td>\n",
              "      <td>-0.958713</td>\n",
              "      <td>2.980955</td>\n",
              "      <td>0.478178</td>\n",
              "      <td>-0.999143</td>\n",
              "      <td>2.910031</td>\n",
              "      <td>0.389971</td>\n",
              "      <td>0.338643</td>\n",
              "      <td>2.666431</td>\n",
              "      <td>0.089315</td>\n",
              "      <td>0.707141</td>\n",
              "      <td>2.796196</td>\n",
              "      <td>0.106246</td>\n",
              "      <td>0.619960</td>\n",
              "      <td>2.735462</td>\n",
              "      <td>0.352891</td>\n",
              "      <td>-0.375651</td>\n",
              "      <td>2.625237</td>\n",
              "      <td>0.465385</td>\n",
              "      <td>-0.316062</td>\n",
              "      <td>2.651301</td>\n",
              "      <td>2</td>\n",
              "    </tr>\n",
              "    <tr>\n",
              "      <th>4</th>\n",
              "      <td>-0.193082</td>\n",
              "      <td>-0.178566</td>\n",
              "      <td>2.814345</td>\n",
              "      <td>-0.196894</td>\n",
              "      <td>0.114788</td>\n",
              "      <td>2.849780</td>\n",
              "      <td>-0.198289</td>\n",
              "      <td>0.400548</td>\n",
              "      <td>2.872416</td>\n",
              "      <td>-0.178771</td>\n",
              "      <td>0.542473</td>\n",
              "      <td>2.863049</td>\n",
              "      <td>-0.360317</td>\n",
              "      <td>0.275860</td>\n",
              "      <td>2.827222</td>\n",
              "      <td>-0.401500</td>\n",
              "      <td>0.038034</td>\n",
              "      <td>2.808956</td>\n",
              "      <td>-0.396649</td>\n",
              "      <td>-0.183429</td>\n",
              "      <td>2.708269</td>\n",
              "      <td>-0.390095</td>\n",
              "      <td>-0.255567</td>\n",
              "      <td>2.687460</td>\n",
              "      <td>-0.017156</td>\n",
              "      <td>0.265163</td>\n",
              "      <td>2.868467</td>\n",
              "      <td>0.011366</td>\n",
              "      <td>0.025235</td>\n",
              "      <td>2.858697</td>\n",
              "      <td>0.022230</td>\n",
              "      <td>-0.202932</td>\n",
              "      <td>2.776967</td>\n",
              "      <td>0.016230</td>\n",
              "      <td>-0.287072</td>\n",
              "      <td>2.753526</td>\n",
              "      <td>-0.258041</td>\n",
              "      <td>-0.174188</td>\n",
              "      <td>2.773036</td>\n",
              "      <td>-0.297204</td>\n",
              "      <td>...</td>\n",
              "      <td>-0.333521</td>\n",
              "      <td>-0.585503</td>\n",
              "      <td>3.089381</td>\n",
              "      <td>-0.355346</td>\n",
              "      <td>-0.564656</td>\n",
              "      <td>2.722364</td>\n",
              "      <td>-0.329321</td>\n",
              "      <td>-0.946284</td>\n",
              "      <td>2.762316</td>\n",
              "      <td>-0.323542</td>\n",
              "      <td>-0.986492</td>\n",
              "      <td>2.630332</td>\n",
              "      <td>-0.160405</td>\n",
              "      <td>-0.595503</td>\n",
              "      <td>3.097269</td>\n",
              "      <td>-0.071415</td>\n",
              "      <td>-0.572318</td>\n",
              "      <td>2.738775</td>\n",
              "      <td>-0.107231</td>\n",
              "      <td>-0.941284</td>\n",
              "      <td>2.766737</td>\n",
              "      <td>-0.103634</td>\n",
              "      <td>-0.981497</td>\n",
              "      <td>2.634580</td>\n",
              "      <td>-0.215003</td>\n",
              "      <td>-0.162058</td>\n",
              "      <td>3.060165</td>\n",
              "      <td>-0.551289</td>\n",
              "      <td>-0.465856</td>\n",
              "      <td>2.999218</td>\n",
              "      <td>-0.567993</td>\n",
              "      <td>-0.426740</td>\n",
              "      <td>2.994171</td>\n",
              "      <td>0.102882</td>\n",
              "      <td>-0.492025</td>\n",
              "      <td>3.011537</td>\n",
              "      <td>0.063065</td>\n",
              "      <td>-0.435819</td>\n",
              "      <td>3.055625</td>\n",
              "      <td>3</td>\n",
              "    </tr>\n",
              "  </tbody>\n",
              "</table>\n",
              "<p>5 rows × 3376 columns</p>\n",
              "</div>"
            ],
            "text/plain": [
              "          0         1         2         3  ...      3372      3373      3374  labels\n",
              "0 -0.526048 -0.277147  2.987706 -0.606184  ... -0.601837  0.592191  2.697301       0\n",
              "1 -0.325320 -0.560200  3.244968 -0.296753  ... -0.231687 -0.655208  3.000000       1\n",
              "2 -0.134503  0.387048  3.797468 -0.135835  ... -0.011325  0.589017  3.480000       1\n",
              "3  0.371560 -0.187321  2.853457  0.388124  ...  0.465385 -0.316062  2.651301       2\n",
              "4 -0.193082 -0.178566  2.814345 -0.196894  ...  0.063065 -0.435819  3.055625       3\n",
              "\n",
              "[5 rows x 3376 columns]"
            ]
          },
          "metadata": {
            "tags": []
          },
          "execution_count": 21
        }
      ]
    },
    {
      "cell_type": "code",
      "metadata": {
        "id": "zzTtBIx7iO9Y"
      },
      "source": [
        "import torchvision\n",
        "from torchvision import datasets, transforms"
      ],
      "execution_count": 22,
      "outputs": []
    },
    {
      "cell_type": "code",
      "metadata": {
        "id": "noWjCWzWiO9Z"
      },
      "source": [
        "from torch.utils.data import DataLoader, Dataset"
      ],
      "execution_count": 23,
      "outputs": []
    },
    {
      "cell_type": "code",
      "metadata": {
        "id": "wtr6DPk7iO9b"
      },
      "source": [
        "from sklearn.preprocessing import MinMaxScaler\n",
        "\n",
        "class Skeleton_Dataset(Dataset):\n",
        "    def __init__(self, file_path, transform=None):\n",
        "      #transforms.Compose([transforms.ToTensor(), transforms.Normalize(mean=[0.5,], std=[0.5, ])])\n",
        "        self.data = pd.read_csv(file_path)\n",
        "        self.transform = transform\n",
        "\n",
        "\n",
        "    def __len__(self):\n",
        "        return len(self.data) \n",
        "    \n",
        "    \n",
        "    def __getitem__(self, idx):\n",
        "        item = np.asarray(self.data.iloc[idx,:-1]).reshape(45,75).astype(float)\n",
        "        label = self.data.iloc[idx,-1]\n",
        "        \n",
        "        if self.transform != None:\n",
        "          scaler = MinMaxScaler()\n",
        "          item = scaler.fit_transform(item)\n",
        "\n",
        "        return (item, label) "
      ],
      "execution_count": 63,
      "outputs": []
    },
    {
      "cell_type": "code",
      "metadata": {
        "id": "R57WiwZTiO9e"
      },
      "source": [
        "dataset = Skeleton_Dataset(file_path = \"skels.csv\", transform=1)"
      ],
      "execution_count": 64,
      "outputs": []
    },
    {
      "cell_type": "code",
      "metadata": {
        "id": "f3mrg2_ZiO9f"
      },
      "source": [
        "skel, lab = dataset.__getitem__(41)"
      ],
      "execution_count": 65,
      "outputs": []
    },
    {
      "cell_type": "code",
      "metadata": {
        "id": "Ue4o_kquiO9h",
        "outputId": "6e64e7d3-63a4-46bd-d4b7-5d88417c48f4",
        "colab": {
          "base_uri": "https://localhost:8080/",
          "height": 34
        }
      },
      "source": [
        "type(skel)"
      ],
      "execution_count": 66,
      "outputs": [
        {
          "output_type": "execute_result",
          "data": {
            "text/plain": [
              "numpy.ndarray"
            ]
          },
          "metadata": {
            "tags": []
          },
          "execution_count": 66
        }
      ]
    },
    {
      "cell_type": "code",
      "metadata": {
        "id": "spXpQer6iO9j",
        "outputId": "97abfa1d-dfab-4b40-b35c-6a57540c8bed",
        "colab": {
          "base_uri": "https://localhost:8080/",
          "height": 35
        }
      },
      "source": [
        "LABELS[lab]"
      ],
      "execution_count": 67,
      "outputs": [
        {
          "output_type": "execute_result",
          "data": {
            "application/vnd.google.colaboratory.intrinsic+json": {
              "type": "string"
            },
            "text/plain": [
              "'sitting down'"
            ]
          },
          "metadata": {
            "tags": []
          },
          "execution_count": 67
        }
      ]
    },
    {
      "cell_type": "code",
      "metadata": {
        "id": "1MUPjECYiO9k",
        "outputId": "4d5fb16f-d2d6-4c1b-eba5-8c559c72f87e",
        "colab": {
          "base_uri": "https://localhost:8080/",
          "height": 34
        }
      },
      "source": [
        "skel.shape"
      ],
      "execution_count": 68,
      "outputs": [
        {
          "output_type": "execute_result",
          "data": {
            "text/plain": [
              "(45, 75)"
            ]
          },
          "metadata": {
            "tags": []
          },
          "execution_count": 68
        }
      ]
    },
    {
      "cell_type": "code",
      "metadata": {
        "id": "B1FovD3ZMuQK",
        "outputId": "925e5c3e-fb95-415d-d05f-242a7c26ba08",
        "colab": {
          "base_uri": "https://localhost:8080/",
          "height": 272
        }
      },
      "source": [
        "skel[0,:]"
      ],
      "execution_count": 69,
      "outputs": [
        {
          "output_type": "execute_result",
          "data": {
            "text/plain": [
              "array([0.        , 1.        , 0.00357006, 0.        , 1.        ,\n",
              "       0.01374204, 0.04745576, 1.        , 0.58960748, 0.11201294,\n",
              "       1.        , 0.66482027, 0.04001214, 1.        , 0.28048836,\n",
              "       0.00343252, 0.87713012, 0.89022071, 0.06363368, 1.        ,\n",
              "       0.72339289, 0.14927283, 0.90904587, 0.56749881, 0.        ,\n",
              "       1.        , 0.        , 0.        , 1.        , 0.        ,\n",
              "       0.        , 0.92002709, 0.05096689, 0.        , 0.87570022,\n",
              "       0.27361627, 0.00979859, 1.        , 0.        , 0.00817097,\n",
              "       0.33387325, 0.30404188, 0.73874708, 0.72540257, 0.34087558,\n",
              "       0.17518292, 0.73894458, 0.82396104, 0.        , 0.92565211,\n",
              "       0.07299601, 0.        , 0.46050607, 0.95749286, 0.026661  ,\n",
              "       0.268803  , 0.88219459, 0.07033861, 0.2243074 , 0.87833603,\n",
              "       0.        , 1.        , 0.43662636, 0.17014975, 0.96064868,\n",
              "       0.58653185, 0.11974122, 0.97472043, 0.57523967, 0.01674393,\n",
              "       0.83171555, 0.64387806, 0.        , 0.8831566 , 0.12225306])"
            ]
          },
          "metadata": {
            "tags": []
          },
          "execution_count": 69
        }
      ]
    },
    {
      "cell_type": "code",
      "metadata": {
        "id": "QYra1fw6iO9m"
      },
      "source": [
        "skels_for_draw = skel.reshape(-1,25,3)"
      ],
      "execution_count": 70,
      "outputs": []
    },
    {
      "cell_type": "code",
      "metadata": {
        "scrolled": false,
        "id": "vMbKFZVFiO9o",
        "outputId": "072acb04-dc33-4824-fdb3-2e0933ea804c",
        "colab": {
          "base_uri": "https://localhost:8080/",
          "height": 248
        }
      },
      "source": [
        "from mpl_toolkits.mplot3d import Axes3D  # noqa: F401 unused import\n",
        "import mpl_toolkits.mplot3d as plt3d\n",
        "import matplotlib.animation as animation\n",
        "\n",
        "import matplotlib.pyplot as plt\n",
        "import numpy as np\n",
        "from time import sleep\n",
        "\n",
        "%matplotlib inline\n",
        "\n",
        "\n",
        "bone_pairs = (\n",
        "    (1, 2), (2, 21), (3, 21), (4, 3), (5, 21), (6, 5),\n",
        "    (7, 6), (8, 7), (9, 21), (10, 9), (11, 10), (12, 11),\n",
        "    (13, 1), (14, 13), (15, 14), (16, 15), (17, 1), (18, 17),\n",
        "    (19, 18), (20, 19), (22, 23), (21, 21), (23, 8), (24, 25),(25, 12)\n",
        ")\n",
        "\n",
        "i = 0\n",
        "# for for_draw in skels_for_draw:\n",
        "i = i + 1\n",
        "fig = plt.figure()\n",
        "ax = fig.add_subplot(111, projection='3d')\n",
        "for_draw = skels_for_draw[10]\n",
        "\n",
        "for pair in bone_pairs:\n",
        "    xs = for_draw[pair[0]-1][0], for_draw[pair[1]-1][0]\n",
        "    ys = for_draw[pair[0]-1][1], for_draw[pair[1]-1][1]\n",
        "    zs = for_draw[pair[0]-1][2], for_draw[pair[1]-1][2]\n",
        "\n",
        "    line = plt3d.art3d.Line3D(zs, xs, ys)\n",
        "    ax.add_line(line)\n",
        "\n",
        "\n",
        "for x,y,z in for_draw:\n",
        "    ax.scatter(z, x, y, color='black', marker='s')\n",
        "\n",
        "    ax.set_ylim((0, 1))\n",
        "    ax.set_zlim((0, 1))\n",
        "    ax.set_xlim((0, 1))\n",
        "\n",
        "\n",
        "    ax.set_xlabel('X Label')\n",
        "    ax.set_ylabel('Y Label')\n",
        "    ax.set_zlabel('Z Label')\n",
        "\n",
        "\n",
        "    plt.show()\n",
        "\n",
        "#     plt.savefig('pics_1/test_' +str(i)+'.png', bbox_inches='tight')\n",
        "#     plt.clf()"
      ],
      "execution_count": 72,
      "outputs": [
        {
          "output_type": "display_data",
          "data": {
            "image/png": "[encoded data removed]",
            "text/plain": [
              "<Figure size 432x288 with 1 Axes>"
            ]
          },
          "metadata": {
            "tags": [],
            "needs_background": "light"
          }
        }
      ]
    },
    {
      "cell_type": "code",
      "metadata": {
        "id": "KsdQncxvLvLp",
        "outputId": "82860aa2-5683-4852-ec5b-f42c2cd7cfa5",
        "colab": {
          "base_uri": "https://localhost:8080/",
          "height": 34
        }
      },
      "source": [
        "len(dataset)"
      ],
      "execution_count": 73,
      "outputs": [
        {
          "output_type": "execute_result",
          "data": {
            "text/plain": [
              "636"
            ]
          },
          "metadata": {
            "tags": []
          },
          "execution_count": 73
        }
      ]
    },
    {
      "cell_type": "code",
      "metadata": {
        "id": "mgkGBO67iO9r"
      },
      "source": [
        "train_dataset, test_dataset = torch.utils.data.random_split(dataset, [424,212])\n",
        "train_loader = DataLoader(train_dataset, batch_size = 16, shuffle=True)\n",
        "test_loader = DataLoader(test_dataset, batch_size = 16, shuffle=True)"
      ],
      "execution_count": 74,
      "outputs": []
    },
    {
      "cell_type": "code",
      "metadata": {
        "scrolled": true,
        "id": "3vZ4mG10iO9s",
        "outputId": "b47567bb-f087-43d5-bfd9-05dc45edae32",
        "colab": {
          "base_uri": "https://localhost:8080/",
          "height": 85
        }
      },
      "source": [
        "n_hidden = 128\n",
        "n_joints = 25*3\n",
        "n_categories = len(LABELS)\n",
        "n_layer = 2\n",
        "rnn = LSTM_net(n_joints,n_hidden,n_categories,n_layer)\n",
        "rnn.to(device)"
      ],
      "execution_count": 75,
      "outputs": [
        {
          "output_type": "execute_result",
          "data": {
            "text/plain": [
              "LSTM_net(\n",
              "  (lstm): LSTM(75, 128, num_layers=2, batch_first=True)\n",
              "  (fc): Linear(in_features=128, out_features=5, bias=True)\n",
              ")"
            ]
          },
          "metadata": {
            "tags": []
          },
          "execution_count": 75
        }
      ]
    },
    {
      "cell_type": "code",
      "metadata": {
        "id": "qY8lvl-AiO9u"
      },
      "source": [
        "def categoryFromOutput(output):\n",
        "    top_n, top_i = output.topk(1)\n",
        "    category_i = top_i[0].item()\n",
        "    return LABELS[category_i], category_i\n",
        "\n",
        "def timeSince(since):\n",
        "    now = time.time()\n",
        "    s = now - since\n",
        "    m = math.floor(s / 60)\n",
        "    s -= m * 60\n",
        "    return '%dm %ds' % (m, s)"
      ],
      "execution_count": 76,
      "outputs": []
    },
    {
      "cell_type": "code",
      "metadata": {
        "id": "pfcA3t0niO9w"
      },
      "source": [
        "sket_tensor = torch.from_numpy(skel).unsqueeze(0).float()"
      ],
      "execution_count": 77,
      "outputs": []
    },
    {
      "cell_type": "code",
      "metadata": {
        "id": "WdvDSycIiO9x",
        "outputId": "26f48cfb-d93a-4e84-a5af-6678ef793f6d",
        "colab": {
          "base_uri": "https://localhost:8080/",
          "height": 34
        }
      },
      "source": [
        "sket_tensor.size()"
      ],
      "execution_count": 78,
      "outputs": [
        {
          "output_type": "execute_result",
          "data": {
            "text/plain": [
              "torch.Size([1, 45, 75])"
            ]
          },
          "metadata": {
            "tags": []
          },
          "execution_count": 78
        }
      ]
    },
    {
      "cell_type": "code",
      "metadata": {
        "id": "BmtpXqNziO9z"
      },
      "source": [
        "output = rnn(sket_tensor.to(device))"
      ],
      "execution_count": 79,
      "outputs": []
    },
    {
      "cell_type": "code",
      "metadata": {
        "id": "6UD1f9seiO91",
        "outputId": "2470d84d-0c7d-4f8e-8ae6-71099ddef580",
        "colab": {
          "base_uri": "https://localhost:8080/",
          "height": 51
        }
      },
      "source": [
        "output.topk(5)"
      ],
      "execution_count": 80,
      "outputs": [
        {
          "output_type": "execute_result",
          "data": {
            "text/plain": [
              "torch.return_types.topk(values=tensor([[ 0.1120,  0.0954,  0.0147,  0.0083, -0.0041]], device='cuda:0',\n",
              "       grad_fn=<TopkBackward>), indices=tensor([[1, 3, 0, 2, 4]], device='cuda:0'))"
            ]
          },
          "metadata": {
            "tags": []
          },
          "execution_count": 80
        }
      ]
    },
    {
      "cell_type": "code",
      "metadata": {
        "scrolled": true,
        "id": "J16u2PyfiO92",
        "outputId": "ba00bba7-5a67-42e3-a0c1-f7d5eb679778",
        "colab": {
          "base_uri": "https://localhost:8080/",
          "height": 765
        }
      },
      "source": [
        "from torch import optim\n",
        "import time\n",
        "import math\n",
        "\n",
        "criterion = nn.CrossEntropyLoss()\n",
        "learning_rate = 0.0007\n",
        "optimizer = optim.SGD(rnn.parameters(),lr=learning_rate,momentum=0.9)\n",
        "\n",
        "all_losses = []\n",
        "start = time.time()\n",
        "counter = 0\n",
        "for epoch in range(800):  \n",
        "    current_loss = 0\n",
        "    running_loss = 0.0\n",
        "    for i, data in enumerate(train_loader, 0):\n",
        "        \n",
        "        inputs, labels = data[0].to(device), data[1].to(device)\n",
        "    \n",
        "        optimizer.zero_grad()\n",
        "    \n",
        "        output = rnn(inputs.float())\n",
        "        loss = criterion(output, labels)\n",
        "        loss.backward()\n",
        "        optimizer.step() \n",
        "\n",
        "\n",
        "        current_loss += loss.item()\n",
        "        category = LABELS[int(labels[0])]\n",
        "\n",
        "        if counter % 500 == 0:\n",
        "            guess, guess_i = categoryFromOutput(output)\n",
        "            correct = '✓' if guess == category else '✗ (%s)' % category\n",
        "            #####сделать более аккуратный вывод для каждой эпохии\n",
        "            ######сделать обновление графика loss по ходу обучению  \n",
        "            print('epoch : %d iter : %d (%s) %.4f  / %s %s' % (epoch, i, timeSince(start), loss, guess, correct))\n",
        "\n",
        "        \n",
        "        counter = counter + 1\n",
        "    if counter % 100 == 0:\n",
        "        all_losses.append(current_loss / 25)\n",
        "        current_loss = 0\n",
        "    "
      ],
      "execution_count": 81,
      "outputs": [
        {
          "output_type": "stream",
          "text": [
            "epoch : 0 iter : 0 (0m 0s) 1.5970  / jump up ✗ (clapping)\n",
            "epoch : 18 iter : 14 (0m 17s) 1.5886  / sitting down ✗ (cheer up)\n",
            "epoch : 37 iter : 1 (0m 34s) 1.4644  / sitting down ✓\n",
            "epoch : 55 iter : 15 (0m 52s) 1.4611  / cheer up ✗ (hand waving)\n",
            "epoch : 74 iter : 2 (1m 9s) 1.1926  / cheer up ✓\n",
            "epoch : 92 iter : 16 (1m 27s) 0.9661  / sitting down ✓\n",
            "epoch : 111 iter : 3 (1m 44s) 1.1591  / clapping ✓\n",
            "epoch : 129 iter : 17 (2m 1s) 1.2036  / jump up ✗ (clapping)\n",
            "epoch : 148 iter : 4 (2m 19s) 0.9700  / jump up ✗ (cheer up)\n",
            "epoch : 166 iter : 18 (2m 36s) 0.8513  / cheer up ✓\n",
            "epoch : 185 iter : 5 (2m 53s) 0.4764  / clapping ✗ (cheer up)\n",
            "epoch : 203 iter : 19 (3m 11s) 0.6315  / hand waving ✓\n",
            "epoch : 222 iter : 6 (3m 28s) 0.2797  / sitting down ✓\n",
            "epoch : 240 iter : 20 (3m 45s) 0.1446  / clapping ✓\n",
            "epoch : 259 iter : 7 (4m 3s) 0.0400  / sitting down ✓\n",
            "epoch : 277 iter : 21 (4m 20s) 0.3607  / sitting down ✓\n",
            "epoch : 296 iter : 8 (4m 37s) 0.0252  / cheer up ✓\n",
            "epoch : 314 iter : 22 (4m 55s) 0.0186  / cheer up ✓\n",
            "epoch : 333 iter : 9 (5m 12s) 0.2937  / clapping ✓\n",
            "epoch : 351 iter : 23 (5m 29s) 0.0125  / clapping ✓\n",
            "epoch : 370 iter : 10 (5m 47s) 0.0033  / clapping ✓\n",
            "epoch : 388 iter : 24 (6m 4s) 0.0061  / hand waving ✓\n",
            "epoch : 407 iter : 11 (6m 22s) 0.0043  / sitting down ✓\n",
            "epoch : 425 iter : 25 (6m 39s) 0.0039  / sitting down ✓\n",
            "epoch : 444 iter : 12 (6m 56s) 0.0063  / clapping ✓\n",
            "epoch : 462 iter : 26 (7m 14s) 0.0045  / hand waving ✓\n",
            "epoch : 481 iter : 13 (7m 31s) 0.0025  / jump up ✓\n",
            "epoch : 500 iter : 0 (7m 48s) 0.0023  / cheer up ✓\n",
            "epoch : 518 iter : 14 (8m 6s) 0.0020  / cheer up ✓\n",
            "epoch : 537 iter : 1 (8m 23s) 0.0029  / cheer up ✓\n",
            "epoch : 555 iter : 15 (8m 40s) 0.0018  / clapping ✓\n",
            "epoch : 574 iter : 2 (8m 57s) 0.0024  / hand waving ✓\n",
            "epoch : 592 iter : 16 (9m 15s) 0.0009  / jump up ✓\n",
            "epoch : 611 iter : 3 (9m 32s) 0.0042  / clapping ✓\n",
            "epoch : 629 iter : 17 (9m 49s) 0.0015  / sitting down ✓\n",
            "epoch : 648 iter : 4 (10m 7s) 0.0015  / jump up ✓\n",
            "epoch : 666 iter : 18 (10m 24s) 0.0015  / sitting down ✓\n",
            "epoch : 685 iter : 5 (10m 41s) 0.0018  / hand waving ✓\n",
            "epoch : 703 iter : 19 (10m 59s) 0.0010  / sitting down ✓\n",
            "epoch : 722 iter : 6 (11m 16s) 0.0008  / clapping ✓\n",
            "epoch : 740 iter : 20 (11m 33s) 0.0017  / jump up ✓\n",
            "epoch : 759 iter : 7 (11m 51s) 0.0012  / clapping ✓\n",
            "epoch : 777 iter : 21 (12m 8s) 0.0012  / clapping ✓\n",
            "epoch : 796 iter : 8 (12m 25s) 0.0007  / hand waving ✓\n"
          ],
          "name": "stdout"
        }
      ]
    },
    {
      "cell_type": "code",
      "metadata": {
        "scrolled": false,
        "id": "q4okObhLiO94",
        "outputId": "c62133cb-a57f-4f1e-c5bb-31c154e11597",
        "colab": {
          "base_uri": "https://localhost:8080/",
          "height": 265
        }
      },
      "source": [
        "%matplotlib inline\n",
        "plt.plot(list(range(0,len(all_losses))),all_losses)\n",
        "plt.show()"
      ],
      "execution_count": 82,
      "outputs": [
        {
          "output_type": "display_data",
          "data": {
            "image/png": "[encoded data removed]",
            "text/plain": [
              "<Figure size 432x288 with 1 Axes>"
            ]
          },
          "metadata": {
            "tags": [],
            "needs_background": "light"
          }
        }
      ]
    },
    {
      "cell_type": "code",
      "metadata": {
        "id": "D81jYafPiO96",
        "outputId": "5493943a-74b1-4958-e4a0-9b467b01fcd3",
        "colab": {
          "base_uri": "https://localhost:8080/",
          "height": 34
        }
      },
      "source": [
        "total = 0\n",
        "right = 0\n",
        "counter = 0\n",
        "with torch.no_grad():\n",
        "    for i, data in enumerate(test_loader, 0):\n",
        "        counter = counter + 1\n",
        "        inputs, labels = data[0].to(device), data[1].to(device)   \n",
        "        output = rnn(inputs.float())\n",
        "        guess, guess_i = categoryFromOutput(output)\n",
        "        category = LABELS[int(labels[0])]\n",
        "        \n",
        "        if guess == category:\n",
        "            right = right + 1\n",
        "\n",
        "\n",
        "print('Accuracy of the network:  ',  (100 * right / counter))"
      ],
      "execution_count": 83,
      "outputs": [
        {
          "output_type": "stream",
          "text": [
            "Accuracy of the network:   85.71428571428571\n"
          ],
          "name": "stdout"
        }
      ]
    },
    {
      "cell_type": "code",
      "metadata": {
        "id": "HPZXuZkoL-aJ"
      },
      "source": [
        ""
      ],
      "execution_count": 83,
      "outputs": []
    }
  ]
}