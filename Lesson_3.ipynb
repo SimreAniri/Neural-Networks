{
  "nbformat": 4,
  "nbformat_minor": 0,
  "metadata": {
    "colab": {
      "name": "Lesson 3.ipynb\"",
      "provenance": [],
      "collapsed_sections": [],
      "authorship_tag": "ABX9TyOrH56RczcX7XJ/OIUOcQSg",
      "include_colab_link": true
    },
    "kernelspec": {
      "name": "python3",
      "display_name": "Python 3"
    }
  },
  "cells": [
    {
      "cell_type": "markdown",
      "metadata": {
        "id": "view-in-github",
        "colab_type": "text"
      },
      "source": [
        "<a href=\"https://colab.research.google.com/github/SimreAniri/Neural-Networks/blob/master/Lesson_3.ipynb\" target=\"_parent\"><img src=\"https://colab.research.google.com/assets/colab-badge.svg\" alt=\"Open In Colab\"/></a>"
      ]
    },
    {
      "cell_type": "code",
      "metadata": {
        "id": "3gVH5O4HBurk",
        "colab_type": "code",
        "colab": {}
      },
      "source": [
        "import tensorflow as tf\n",
        "from tensorflow import keras\n",
        "\n",
        "from sklearn.datasets import load_boston\n",
        "\n",
        "import numpy as np\n",
        "import pandas as pd\n",
        "import matplotlib.pyplot as plt"
      ],
      "execution_count": 24,
      "outputs": []
    },
    {
      "cell_type": "code",
      "metadata": {
        "id": "sd6atRk-NtD8",
        "colab_type": "code",
        "colab": {
          "base_uri": "https://localhost:8080/",
          "height": 34
        },
        "outputId": "c3beb75e-35a7-4d3e-f343-b5dfc274adae"
      },
      "source": [
        "boston = load_boston()\n",
        "boston.keys()"
      ],
      "execution_count": 4,
      "outputs": [
        {
          "output_type": "execute_result",
          "data": {
            "text/plain": [
              "dict_keys(['data', 'target', 'feature_names', 'DESCR', 'filename'])"
            ]
          },
          "metadata": {
            "tags": []
          },
          "execution_count": 4
        }
      ]
    },
    {
      "cell_type": "code",
      "metadata": {
        "id": "UiCo1Uw5PK-O",
        "colab_type": "code",
        "colab": {
          "base_uri": "https://localhost:8080/",
          "height": 34
        },
        "outputId": "e8b07872-7c13-42b3-e163-e1ca80df9463"
      },
      "source": [
        "data = boston[\"data\"]\n",
        "data.shape"
      ],
      "execution_count": 5,
      "outputs": [
        {
          "output_type": "execute_result",
          "data": {
            "text/plain": [
              "(506, 13)"
            ]
          },
          "metadata": {
            "tags": []
          },
          "execution_count": 5
        }
      ]
    },
    {
      "cell_type": "code",
      "metadata": {
        "id": "bryD9Z8pPXEb",
        "colab_type": "code",
        "colab": {}
      },
      "source": [
        "data = pd.DataFrame(data, columns=boston[\"feature_names\"])\n",
        "target = boston[\"target\"]"
      ],
      "execution_count": 10,
      "outputs": []
    },
    {
      "cell_type": "code",
      "metadata": {
        "id": "EsvRE5gbPb8d",
        "colab_type": "code",
        "colab": {
          "base_uri": "https://localhost:8080/",
          "height": 357
        },
        "outputId": "1fff160c-656e-43ec-8990-17d3a71082df"
      },
      "source": [
        "data.info()"
      ],
      "execution_count": 11,
      "outputs": [
        {
          "output_type": "stream",
          "text": [
            "<class 'pandas.core.frame.DataFrame'>\n",
            "RangeIndex: 506 entries, 0 to 505\n",
            "Data columns (total 13 columns):\n",
            " #   Column   Non-Null Count  Dtype  \n",
            "---  ------   --------------  -----  \n",
            " 0   CRIM     506 non-null    float64\n",
            " 1   ZN       506 non-null    float64\n",
            " 2   INDUS    506 non-null    float64\n",
            " 3   CHAS     506 non-null    float64\n",
            " 4   NOX      506 non-null    float64\n",
            " 5   RM       506 non-null    float64\n",
            " 6   AGE      506 non-null    float64\n",
            " 7   DIS      506 non-null    float64\n",
            " 8   RAD      506 non-null    float64\n",
            " 9   TAX      506 non-null    float64\n",
            " 10  PTRATIO  506 non-null    float64\n",
            " 11  B        506 non-null    float64\n",
            " 12  LSTAT    506 non-null    float64\n",
            "dtypes: float64(13)\n",
            "memory usage: 51.5 KB\n"
          ],
          "name": "stdout"
        }
      ]
    },
    {
      "cell_type": "code",
      "metadata": {
        "id": "EbBnd5Y5QKHK",
        "colab_type": "code",
        "colab": {
          "base_uri": "https://localhost:8080/",
          "height": 297
        },
        "outputId": "15ced761-19d1-453a-c340-c9c3fcfc25d8"
      },
      "source": [
        "data.describe()"
      ],
      "execution_count": 13,
      "outputs": [
        {
          "output_type": "execute_result",
          "data": {
            "text/html": [
              "<div>\n",
              "<style scoped>\n",
              "    .dataframe tbody tr th:only-of-type {\n",
              "        vertical-align: middle;\n",
              "    }\n",
              "\n",
              "    .dataframe tbody tr th {\n",
              "        vertical-align: top;\n",
              "    }\n",
              "\n",
              "    .dataframe thead th {\n",
              "        text-align: right;\n",
              "    }\n",
              "</style>\n",
              "<table border=\"1\" class=\"dataframe\">\n",
              "  <thead>\n",
              "    <tr style=\"text-align: right;\">\n",
              "      <th></th>\n",
              "      <th>CRIM</th>\n",
              "      <th>ZN</th>\n",
              "      <th>INDUS</th>\n",
              "      <th>CHAS</th>\n",
              "      <th>NOX</th>\n",
              "      <th>RM</th>\n",
              "      <th>AGE</th>\n",
              "      <th>DIS</th>\n",
              "      <th>RAD</th>\n",
              "      <th>TAX</th>\n",
              "      <th>PTRATIO</th>\n",
              "      <th>B</th>\n",
              "      <th>LSTAT</th>\n",
              "    </tr>\n",
              "  </thead>\n",
              "  <tbody>\n",
              "    <tr>\n",
              "      <th>count</th>\n",
              "      <td>506.000000</td>\n",
              "      <td>506.000000</td>\n",
              "      <td>506.000000</td>\n",
              "      <td>506.000000</td>\n",
              "      <td>506.000000</td>\n",
              "      <td>506.000000</td>\n",
              "      <td>506.000000</td>\n",
              "      <td>506.000000</td>\n",
              "      <td>506.000000</td>\n",
              "      <td>506.000000</td>\n",
              "      <td>506.000000</td>\n",
              "      <td>506.000000</td>\n",
              "      <td>506.000000</td>\n",
              "    </tr>\n",
              "    <tr>\n",
              "      <th>mean</th>\n",
              "      <td>3.613524</td>\n",
              "      <td>11.363636</td>\n",
              "      <td>11.136779</td>\n",
              "      <td>0.069170</td>\n",
              "      <td>0.554695</td>\n",
              "      <td>6.284634</td>\n",
              "      <td>68.574901</td>\n",
              "      <td>3.795043</td>\n",
              "      <td>9.549407</td>\n",
              "      <td>408.237154</td>\n",
              "      <td>18.455534</td>\n",
              "      <td>356.674032</td>\n",
              "      <td>12.653063</td>\n",
              "    </tr>\n",
              "    <tr>\n",
              "      <th>std</th>\n",
              "      <td>8.601545</td>\n",
              "      <td>23.322453</td>\n",
              "      <td>6.860353</td>\n",
              "      <td>0.253994</td>\n",
              "      <td>0.115878</td>\n",
              "      <td>0.702617</td>\n",
              "      <td>28.148861</td>\n",
              "      <td>2.105710</td>\n",
              "      <td>8.707259</td>\n",
              "      <td>168.537116</td>\n",
              "      <td>2.164946</td>\n",
              "      <td>91.294864</td>\n",
              "      <td>7.141062</td>\n",
              "    </tr>\n",
              "    <tr>\n",
              "      <th>min</th>\n",
              "      <td>0.006320</td>\n",
              "      <td>0.000000</td>\n",
              "      <td>0.460000</td>\n",
              "      <td>0.000000</td>\n",
              "      <td>0.385000</td>\n",
              "      <td>3.561000</td>\n",
              "      <td>2.900000</td>\n",
              "      <td>1.129600</td>\n",
              "      <td>1.000000</td>\n",
              "      <td>187.000000</td>\n",
              "      <td>12.600000</td>\n",
              "      <td>0.320000</td>\n",
              "      <td>1.730000</td>\n",
              "    </tr>\n",
              "    <tr>\n",
              "      <th>25%</th>\n",
              "      <td>0.082045</td>\n",
              "      <td>0.000000</td>\n",
              "      <td>5.190000</td>\n",
              "      <td>0.000000</td>\n",
              "      <td>0.449000</td>\n",
              "      <td>5.885500</td>\n",
              "      <td>45.025000</td>\n",
              "      <td>2.100175</td>\n",
              "      <td>4.000000</td>\n",
              "      <td>279.000000</td>\n",
              "      <td>17.400000</td>\n",
              "      <td>375.377500</td>\n",
              "      <td>6.950000</td>\n",
              "    </tr>\n",
              "    <tr>\n",
              "      <th>50%</th>\n",
              "      <td>0.256510</td>\n",
              "      <td>0.000000</td>\n",
              "      <td>9.690000</td>\n",
              "      <td>0.000000</td>\n",
              "      <td>0.538000</td>\n",
              "      <td>6.208500</td>\n",
              "      <td>77.500000</td>\n",
              "      <td>3.207450</td>\n",
              "      <td>5.000000</td>\n",
              "      <td>330.000000</td>\n",
              "      <td>19.050000</td>\n",
              "      <td>391.440000</td>\n",
              "      <td>11.360000</td>\n",
              "    </tr>\n",
              "    <tr>\n",
              "      <th>75%</th>\n",
              "      <td>3.677083</td>\n",
              "      <td>12.500000</td>\n",
              "      <td>18.100000</td>\n",
              "      <td>0.000000</td>\n",
              "      <td>0.624000</td>\n",
              "      <td>6.623500</td>\n",
              "      <td>94.075000</td>\n",
              "      <td>5.188425</td>\n",
              "      <td>24.000000</td>\n",
              "      <td>666.000000</td>\n",
              "      <td>20.200000</td>\n",
              "      <td>396.225000</td>\n",
              "      <td>16.955000</td>\n",
              "    </tr>\n",
              "    <tr>\n",
              "      <th>max</th>\n",
              "      <td>88.976200</td>\n",
              "      <td>100.000000</td>\n",
              "      <td>27.740000</td>\n",
              "      <td>1.000000</td>\n",
              "      <td>0.871000</td>\n",
              "      <td>8.780000</td>\n",
              "      <td>100.000000</td>\n",
              "      <td>12.126500</td>\n",
              "      <td>24.000000</td>\n",
              "      <td>711.000000</td>\n",
              "      <td>22.000000</td>\n",
              "      <td>396.900000</td>\n",
              "      <td>37.970000</td>\n",
              "    </tr>\n",
              "  </tbody>\n",
              "</table>\n",
              "</div>"
            ],
            "text/plain": [
              "             CRIM          ZN       INDUS  ...     PTRATIO           B       LSTAT\n",
              "count  506.000000  506.000000  506.000000  ...  506.000000  506.000000  506.000000\n",
              "mean     3.613524   11.363636   11.136779  ...   18.455534  356.674032   12.653063\n",
              "std      8.601545   23.322453    6.860353  ...    2.164946   91.294864    7.141062\n",
              "min      0.006320    0.000000    0.460000  ...   12.600000    0.320000    1.730000\n",
              "25%      0.082045    0.000000    5.190000  ...   17.400000  375.377500    6.950000\n",
              "50%      0.256510    0.000000    9.690000  ...   19.050000  391.440000   11.360000\n",
              "75%      3.677083   12.500000   18.100000  ...   20.200000  396.225000   16.955000\n",
              "max     88.976200  100.000000   27.740000  ...   22.000000  396.900000   37.970000\n",
              "\n",
              "[8 rows x 13 columns]"
            ]
          },
          "metadata": {
            "tags": []
          },
          "execution_count": 13
        }
      ]
    },
    {
      "cell_type": "code",
      "metadata": {
        "id": "kCoS5OorQPww",
        "colab_type": "code",
        "colab": {
          "base_uri": "https://localhost:8080/",
          "height": 204
        },
        "outputId": "aa267140-5fbf-4398-a95a-c09e1fea1b2a"
      },
      "source": [
        "data.head()"
      ],
      "execution_count": 14,
      "outputs": [
        {
          "output_type": "execute_result",
          "data": {
            "text/html": [
              "<div>\n",
              "<style scoped>\n",
              "    .dataframe tbody tr th:only-of-type {\n",
              "        vertical-align: middle;\n",
              "    }\n",
              "\n",
              "    .dataframe tbody tr th {\n",
              "        vertical-align: top;\n",
              "    }\n",
              "\n",
              "    .dataframe thead th {\n",
              "        text-align: right;\n",
              "    }\n",
              "</style>\n",
              "<table border=\"1\" class=\"dataframe\">\n",
              "  <thead>\n",
              "    <tr style=\"text-align: right;\">\n",
              "      <th></th>\n",
              "      <th>CRIM</th>\n",
              "      <th>ZN</th>\n",
              "      <th>INDUS</th>\n",
              "      <th>CHAS</th>\n",
              "      <th>NOX</th>\n",
              "      <th>RM</th>\n",
              "      <th>AGE</th>\n",
              "      <th>DIS</th>\n",
              "      <th>RAD</th>\n",
              "      <th>TAX</th>\n",
              "      <th>PTRATIO</th>\n",
              "      <th>B</th>\n",
              "      <th>LSTAT</th>\n",
              "    </tr>\n",
              "  </thead>\n",
              "  <tbody>\n",
              "    <tr>\n",
              "      <th>0</th>\n",
              "      <td>0.00632</td>\n",
              "      <td>18.0</td>\n",
              "      <td>2.31</td>\n",
              "      <td>0.0</td>\n",
              "      <td>0.538</td>\n",
              "      <td>6.575</td>\n",
              "      <td>65.2</td>\n",
              "      <td>4.0900</td>\n",
              "      <td>1.0</td>\n",
              "      <td>296.0</td>\n",
              "      <td>15.3</td>\n",
              "      <td>396.90</td>\n",
              "      <td>4.98</td>\n",
              "    </tr>\n",
              "    <tr>\n",
              "      <th>1</th>\n",
              "      <td>0.02731</td>\n",
              "      <td>0.0</td>\n",
              "      <td>7.07</td>\n",
              "      <td>0.0</td>\n",
              "      <td>0.469</td>\n",
              "      <td>6.421</td>\n",
              "      <td>78.9</td>\n",
              "      <td>4.9671</td>\n",
              "      <td>2.0</td>\n",
              "      <td>242.0</td>\n",
              "      <td>17.8</td>\n",
              "      <td>396.90</td>\n",
              "      <td>9.14</td>\n",
              "    </tr>\n",
              "    <tr>\n",
              "      <th>2</th>\n",
              "      <td>0.02729</td>\n",
              "      <td>0.0</td>\n",
              "      <td>7.07</td>\n",
              "      <td>0.0</td>\n",
              "      <td>0.469</td>\n",
              "      <td>7.185</td>\n",
              "      <td>61.1</td>\n",
              "      <td>4.9671</td>\n",
              "      <td>2.0</td>\n",
              "      <td>242.0</td>\n",
              "      <td>17.8</td>\n",
              "      <td>392.83</td>\n",
              "      <td>4.03</td>\n",
              "    </tr>\n",
              "    <tr>\n",
              "      <th>3</th>\n",
              "      <td>0.03237</td>\n",
              "      <td>0.0</td>\n",
              "      <td>2.18</td>\n",
              "      <td>0.0</td>\n",
              "      <td>0.458</td>\n",
              "      <td>6.998</td>\n",
              "      <td>45.8</td>\n",
              "      <td>6.0622</td>\n",
              "      <td>3.0</td>\n",
              "      <td>222.0</td>\n",
              "      <td>18.7</td>\n",
              "      <td>394.63</td>\n",
              "      <td>2.94</td>\n",
              "    </tr>\n",
              "    <tr>\n",
              "      <th>4</th>\n",
              "      <td>0.06905</td>\n",
              "      <td>0.0</td>\n",
              "      <td>2.18</td>\n",
              "      <td>0.0</td>\n",
              "      <td>0.458</td>\n",
              "      <td>7.147</td>\n",
              "      <td>54.2</td>\n",
              "      <td>6.0622</td>\n",
              "      <td>3.0</td>\n",
              "      <td>222.0</td>\n",
              "      <td>18.7</td>\n",
              "      <td>396.90</td>\n",
              "      <td>5.33</td>\n",
              "    </tr>\n",
              "  </tbody>\n",
              "</table>\n",
              "</div>"
            ],
            "text/plain": [
              "      CRIM    ZN  INDUS  CHAS    NOX  ...  RAD    TAX  PTRATIO       B  LSTAT\n",
              "0  0.00632  18.0   2.31   0.0  0.538  ...  1.0  296.0     15.3  396.90   4.98\n",
              "1  0.02731   0.0   7.07   0.0  0.469  ...  2.0  242.0     17.8  396.90   9.14\n",
              "2  0.02729   0.0   7.07   0.0  0.469  ...  2.0  242.0     17.8  392.83   4.03\n",
              "3  0.03237   0.0   2.18   0.0  0.458  ...  3.0  222.0     18.7  394.63   2.94\n",
              "4  0.06905   0.0   2.18   0.0  0.458  ...  3.0  222.0     18.7  396.90   5.33\n",
              "\n",
              "[5 rows x 13 columns]"
            ]
          },
          "metadata": {
            "tags": []
          },
          "execution_count": 14
        }
      ]
    },
    {
      "cell_type": "code",
      "metadata": {
        "id": "da25GqgMQ23o",
        "colab_type": "code",
        "colab": {}
      },
      "source": [
        "from sklearn.preprocessing import MinMaxScaler\n",
        "\n",
        "scaler_data = MinMaxScaler()\n",
        "\n",
        "train_data = scaler_data.fit_transform(data)"
      ],
      "execution_count": 15,
      "outputs": []
    },
    {
      "cell_type": "code",
      "metadata": {
        "id": "U6cCPuqcSqEx",
        "colab_type": "code",
        "colab": {
          "base_uri": "https://localhost:8080/",
          "height": 238
        },
        "outputId": "d722e5eb-b763-4746-d6fd-f260010e49c4"
      },
      "source": [
        "train_data"
      ],
      "execution_count": 16,
      "outputs": [
        {
          "output_type": "execute_result",
          "data": {
            "text/plain": [
              "array([[0.00000000e+00, 1.80000000e-01, 6.78152493e-02, ...,\n",
              "        2.87234043e-01, 1.00000000e+00, 8.96799117e-02],\n",
              "       [2.35922539e-04, 0.00000000e+00, 2.42302053e-01, ...,\n",
              "        5.53191489e-01, 1.00000000e+00, 2.04470199e-01],\n",
              "       [2.35697744e-04, 0.00000000e+00, 2.42302053e-01, ...,\n",
              "        5.53191489e-01, 9.89737254e-01, 6.34657837e-02],\n",
              "       ...,\n",
              "       [6.11892474e-04, 0.00000000e+00, 4.20454545e-01, ...,\n",
              "        8.93617021e-01, 1.00000000e+00, 1.07891832e-01],\n",
              "       [1.16072990e-03, 0.00000000e+00, 4.20454545e-01, ...,\n",
              "        8.93617021e-01, 9.91300620e-01, 1.31070640e-01],\n",
              "       [4.61841693e-04, 0.00000000e+00, 4.20454545e-01, ...,\n",
              "        8.93617021e-01, 1.00000000e+00, 1.69701987e-01]])"
            ]
          },
          "metadata": {
            "tags": []
          },
          "execution_count": 16
        }
      ]
    },
    {
      "cell_type": "code",
      "metadata": {
        "id": "1-E54FlXSrMn",
        "colab_type": "code",
        "colab": {}
      },
      "source": [
        "from sklearn.model_selection import train_test_split\n",
        "\n",
        "X_train, X_test, y_train, y_test = train_test_split(train_data, target, test_size=0.25)"
      ],
      "execution_count": 17,
      "outputs": []
    },
    {
      "cell_type": "code",
      "metadata": {
        "id": "QXGVtzktY3vM",
        "colab_type": "code",
        "colab": {
          "base_uri": "https://localhost:8080/",
          "height": 34
        },
        "outputId": "94da1b34-ecd0-4f0f-923e-c4dbc2dfcff1"
      },
      "source": [
        "X_train.shape"
      ],
      "execution_count": 30,
      "outputs": [
        {
          "output_type": "execute_result",
          "data": {
            "text/plain": [
              "(379, 13)"
            ]
          },
          "metadata": {
            "tags": []
          },
          "execution_count": 30
        }
      ]
    },
    {
      "cell_type": "code",
      "metadata": {
        "id": "lLe3Z8BITREB",
        "colab_type": "code",
        "colab": {
          "base_uri": "https://localhost:8080/",
          "height": 1000
        },
        "outputId": "b984bbd5-284c-48cb-b552-39660f09658d"
      },
      "source": [
        "neural = [250, 300, 350]\n",
        "\n",
        "for i in neural:\n",
        "  print(i)\n",
        "  x_input = keras.layers.Input(shape=(1,13))\n",
        "  x = keras.layers.Dense(i, activation='relu')(x_input)\n",
        "  x_output = keras.layers.Dense(1)(x)\n",
        "  model = keras.models.Model(x_input, x_output)\n",
        "\n",
        "  model.compile(optimizer='adam',\n",
        "                loss='mse',\n",
        "                metrics=['mae'])\n",
        "\n",
        "  hist1 = model.fit(X_train, y_train, epochs=10, batch_size=1)"
      ],
      "execution_count": 51,
      "outputs": [
        {
          "output_type": "stream",
          "text": [
            "250\n",
            "Epoch 1/10\n",
            "WARNING:tensorflow:Model was constructed with shape (None, 1, 13) for input Tensor(\"input_37:0\", shape=(None, 1, 13), dtype=float32), but it was called on an input with incompatible shape (1, 13).\n",
            "WARNING:tensorflow:Model was constructed with shape (None, 1, 13) for input Tensor(\"input_37:0\", shape=(None, 1, 13), dtype=float32), but it was called on an input with incompatible shape (1, 13).\n",
            "379/379 [==============================] - 0s 1ms/step - loss: 199.6191 - mae: 10.8756\n",
            "Epoch 2/10\n",
            "379/379 [==============================] - 0s 1ms/step - loss: 58.7699 - mae: 5.2857\n",
            "Epoch 3/10\n",
            "379/379 [==============================] - 0s 1ms/step - loss: 43.5865 - mae: 4.6412\n",
            "Epoch 4/10\n",
            "379/379 [==============================] - 0s 1ms/step - loss: 35.8335 - mae: 4.2448\n",
            "Epoch 5/10\n",
            "379/379 [==============================] - 0s 1ms/step - loss: 31.1704 - mae: 3.8215\n",
            "Epoch 6/10\n",
            "379/379 [==============================] - 0s 1ms/step - loss: 27.2225 - mae: 3.6226\n",
            "Epoch 7/10\n",
            "379/379 [==============================] - 0s 1ms/step - loss: 24.9337 - mae: 3.4275\n",
            "Epoch 8/10\n",
            "379/379 [==============================] - 0s 1ms/step - loss: 23.5994 - mae: 3.3470\n",
            "Epoch 9/10\n",
            "379/379 [==============================] - 0s 1ms/step - loss: 21.9849 - mae: 3.2303\n",
            "Epoch 10/10\n",
            "379/379 [==============================] - 0s 1ms/step - loss: 20.6376 - mae: 3.1696\n",
            "300\n",
            "Epoch 1/10\n",
            "WARNING:tensorflow:Model was constructed with shape (None, 1, 13) for input Tensor(\"input_38:0\", shape=(None, 1, 13), dtype=float32), but it was called on an input with incompatible shape (1, 13).\n",
            "WARNING:tensorflow:Model was constructed with shape (None, 1, 13) for input Tensor(\"input_38:0\", shape=(None, 1, 13), dtype=float32), but it was called on an input with incompatible shape (1, 13).\n",
            "379/379 [==============================] - 0s 1ms/step - loss: 198.0116 - mae: 10.5527\n",
            "Epoch 2/10\n",
            "379/379 [==============================] - 0s 1ms/step - loss: 57.8814 - mae: 5.3121\n",
            "Epoch 3/10\n",
            "379/379 [==============================] - 0s 1ms/step - loss: 42.0342 - mae: 4.4646\n",
            "Epoch 4/10\n",
            "379/379 [==============================] - 0s 1ms/step - loss: 35.0606 - mae: 4.1989\n",
            "Epoch 5/10\n",
            "379/379 [==============================] - 0s 1ms/step - loss: 28.8877 - mae: 3.7755\n",
            "Epoch 6/10\n",
            "379/379 [==============================] - 0s 1ms/step - loss: 25.4605 - mae: 3.5530\n",
            "Epoch 7/10\n",
            "379/379 [==============================] - 0s 1ms/step - loss: 23.0345 - mae: 3.3001\n",
            "Epoch 8/10\n",
            "379/379 [==============================] - 0s 1ms/step - loss: 22.2478 - mae: 3.3152\n",
            "Epoch 9/10\n",
            "379/379 [==============================] - 0s 1ms/step - loss: 21.0350 - mae: 3.1316\n",
            "Epoch 10/10\n",
            "379/379 [==============================] - 0s 1ms/step - loss: 20.2755 - mae: 3.0507\n",
            "350\n",
            "Epoch 1/10\n",
            "WARNING:tensorflow:Model was constructed with shape (None, 1, 13) for input Tensor(\"input_39:0\", shape=(None, 1, 13), dtype=float32), but it was called on an input with incompatible shape (1, 13).\n",
            "WARNING:tensorflow:Model was constructed with shape (None, 1, 13) for input Tensor(\"input_39:0\", shape=(None, 1, 13), dtype=float32), but it was called on an input with incompatible shape (1, 13).\n",
            "379/379 [==============================] - 0s 1ms/step - loss: 178.2133 - mae: 9.8783\n",
            "Epoch 2/10\n",
            "379/379 [==============================] - 0s 978us/step - loss: 52.6817 - mae: 5.0591\n",
            "Epoch 3/10\n",
            "379/379 [==============================] - 0s 1ms/step - loss: 38.5615 - mae: 4.3842\n",
            "Epoch 4/10\n",
            "379/379 [==============================] - 0s 1ms/step - loss: 32.3268 - mae: 4.0011\n",
            "Epoch 5/10\n",
            "379/379 [==============================] - 0s 1ms/step - loss: 27.5014 - mae: 3.6213\n",
            "Epoch 6/10\n",
            "379/379 [==============================] - 0s 1ms/step - loss: 24.6174 - mae: 3.4460\n",
            "Epoch 7/10\n",
            "379/379 [==============================] - 0s 1ms/step - loss: 22.5188 - mae: 3.2144\n",
            "Epoch 8/10\n",
            "379/379 [==============================] - 0s 1ms/step - loss: 21.7463 - mae: 3.1928\n",
            "Epoch 9/10\n",
            "379/379 [==============================] - 0s 1ms/step - loss: 21.0254 - mae: 3.2013\n",
            "Epoch 10/10\n",
            "379/379 [==============================] - 0s 1ms/step - loss: 21.2381 - mae: 3.1076\n"
          ],
          "name": "stdout"
        }
      ]
    },
    {
      "cell_type": "code",
      "metadata": {
        "id": "ybt-TByHeGEc",
        "colab_type": "code",
        "colab": {
          "base_uri": "https://localhost:8080/",
          "height": 493
        },
        "outputId": "edc0278a-f3c2-4f82-bfa7-a4ff2e99b1c4"
      },
      "source": [
        "x_input = keras.layers.Input(shape=(1,13))\n",
        "x = keras.layers.Dense(300, activation='relu')(x_input)\n",
        "x_output = keras.layers.Dense(1)(x)\n",
        "model = keras.models.Model(x_input, x_output)\n",
        "\n",
        "model.compile(optimizer='adam',\n",
        "                loss='mse',\n",
        "                metrics=['mae'])\n",
        "\n",
        "hist1 = model.fit(X_train, y_train, epochs=13, batch_size=1)"
      ],
      "execution_count": 64,
      "outputs": [
        {
          "output_type": "stream",
          "text": [
            "Epoch 1/13\n",
            "WARNING:tensorflow:Model was constructed with shape (None, 1, 13) for input Tensor(\"input_43:0\", shape=(None, 1, 13), dtype=float32), but it was called on an input with incompatible shape (1, 13).\n",
            "WARNING:tensorflow:Model was constructed with shape (None, 1, 13) for input Tensor(\"input_43:0\", shape=(None, 1, 13), dtype=float32), but it was called on an input with incompatible shape (1, 13).\n",
            "379/379 [==============================] - 0s 1ms/step - loss: 173.4251 - mae: 10.1573\n",
            "Epoch 2/13\n",
            "379/379 [==============================] - 0s 1ms/step - loss: 53.3680 - mae: 5.2262\n",
            "Epoch 3/13\n",
            "379/379 [==============================] - 0s 1ms/step - loss: 39.3951 - mae: 4.3939\n",
            "Epoch 4/13\n",
            "379/379 [==============================] - 0s 1ms/step - loss: 32.7569 - mae: 4.0110\n",
            "Epoch 5/13\n",
            "379/379 [==============================] - 0s 1ms/step - loss: 27.3312 - mae: 3.6630\n",
            "Epoch 6/13\n",
            "379/379 [==============================] - 0s 1ms/step - loss: 24.5840 - mae: 3.4002\n",
            "Epoch 7/13\n",
            "379/379 [==============================] - 0s 1ms/step - loss: 23.2211 - mae: 3.3480\n",
            "Epoch 8/13\n",
            "379/379 [==============================] - 0s 1ms/step - loss: 22.1553 - mae: 3.2840\n",
            "Epoch 9/13\n",
            "379/379 [==============================] - 0s 1ms/step - loss: 20.7177 - mae: 3.0640\n",
            "Epoch 10/13\n",
            "379/379 [==============================] - 0s 1ms/step - loss: 20.4492 - mae: 3.0538\n",
            "Epoch 11/13\n",
            "379/379 [==============================] - 0s 1ms/step - loss: 19.8304 - mae: 3.0320\n",
            "Epoch 12/13\n",
            "379/379 [==============================] - 0s 1ms/step - loss: 19.4762 - mae: 2.9776\n",
            "Epoch 13/13\n",
            "379/379 [==============================] - 0s 1ms/step - loss: 18.8709 - mae: 2.9748\n"
          ],
          "name": "stdout"
        }
      ]
    },
    {
      "cell_type": "code",
      "metadata": {
        "id": "gwG8D0tWVsMh",
        "colab_type": "code",
        "colab": {
          "base_uri": "https://localhost:8080/",
          "height": 265
        },
        "outputId": "97cc97af-16f1-4204-912d-9cab773b7a0e"
      },
      "source": [
        "plt.plot(hist1.history['mae'],label ='model')\n",
        "plt.legend()\n",
        "plt.show()"
      ],
      "execution_count": 65,
      "outputs": [
        {
          "output_type": "display_data",
          "data": {
            "image/png": "[encoded data removed]",
            "text/plain": [
              "<Figure size 432x288 with 1 Axes>"
            ]
          },
          "metadata": {
            "tags": [],
            "needs_background": "light"
          }
        }
      ]
    },
    {
      "cell_type": "code",
      "metadata": {
        "id": "TBF4oYcTYdfD",
        "colab_type": "code",
        "colab": {
          "base_uri": "https://localhost:8080/",
          "height": 34
        },
        "outputId": "1016b2d4-8eb7-459a-81cb-076bd34ad9d2"
      },
      "source": [
        "y_pred = model.predict(X_test)"
      ],
      "execution_count": 66,
      "outputs": [
        {
          "output_type": "stream",
          "text": [
            "WARNING:tensorflow:Model was constructed with shape (None, 1, 13) for input Tensor(\"input_43:0\", shape=(None, 1, 13), dtype=float32), but it was called on an input with incompatible shape (None, 13).\n"
          ],
          "name": "stdout"
        }
      ]
    },
    {
      "cell_type": "code",
      "metadata": {
        "id": "igwMTfGaaOSf",
        "colab_type": "code",
        "colab": {
          "base_uri": "https://localhost:8080/",
          "height": 204
        },
        "outputId": "77464f6b-79e5-4e1e-e1ee-cadf158598cb"
      },
      "source": [
        "d = pd.DataFrame()\n",
        "d['test'] = y_test\n",
        "d['pred'] = y_pred\n",
        "d.head()"
      ],
      "execution_count": 67,
      "outputs": [
        {
          "output_type": "execute_result",
          "data": {
            "text/html": [
              "<div>\n",
              "<style scoped>\n",
              "    .dataframe tbody tr th:only-of-type {\n",
              "        vertical-align: middle;\n",
              "    }\n",
              "\n",
              "    .dataframe tbody tr th {\n",
              "        vertical-align: top;\n",
              "    }\n",
              "\n",
              "    .dataframe thead th {\n",
              "        text-align: right;\n",
              "    }\n",
              "</style>\n",
              "<table border=\"1\" class=\"dataframe\">\n",
              "  <thead>\n",
              "    <tr style=\"text-align: right;\">\n",
              "      <th></th>\n",
              "      <th>test</th>\n",
              "      <th>pred</th>\n",
              "    </tr>\n",
              "  </thead>\n",
              "  <tbody>\n",
              "    <tr>\n",
              "      <th>0</th>\n",
              "      <td>16.5</td>\n",
              "      <td>12.243778</td>\n",
              "    </tr>\n",
              "    <tr>\n",
              "      <th>1</th>\n",
              "      <td>21.9</td>\n",
              "      <td>25.424652</td>\n",
              "    </tr>\n",
              "    <tr>\n",
              "      <th>2</th>\n",
              "      <td>21.6</td>\n",
              "      <td>25.514137</td>\n",
              "    </tr>\n",
              "    <tr>\n",
              "      <th>3</th>\n",
              "      <td>17.4</td>\n",
              "      <td>17.044201</td>\n",
              "    </tr>\n",
              "    <tr>\n",
              "      <th>4</th>\n",
              "      <td>13.8</td>\n",
              "      <td>20.305841</td>\n",
              "    </tr>\n",
              "  </tbody>\n",
              "</table>\n",
              "</div>"
            ],
            "text/plain": [
              "   test       pred\n",
              "0  16.5  12.243778\n",
              "1  21.9  25.424652\n",
              "2  21.6  25.514137\n",
              "3  17.4  17.044201\n",
              "4  13.8  20.305841"
            ]
          },
          "metadata": {
            "tags": []
          },
          "execution_count": 67
        }
      ]
    },
    {
      "cell_type": "code",
      "metadata": {
        "id": "s6_wW5qzag_d",
        "colab_type": "code",
        "colab": {
          "base_uri": "https://localhost:8080/",
          "height": 34
        },
        "outputId": "35e8a4c7-76bd-4e22-8229-dbcf32612996"
      },
      "source": [
        "from sklearn.metrics import r2_score\n",
        "\n",
        "r2_score(y_test, y_pred)"
      ],
      "execution_count": 68,
      "outputs": [
        {
          "output_type": "execute_result",
          "data": {
            "text/plain": [
              "0.7015677581420224"
            ]
          },
          "metadata": {
            "tags": []
          },
          "execution_count": 68
        }
      ]
    },
    {
      "cell_type": "code",
      "metadata": {
        "id": "q1xIN8qJbQ4B",
        "colab_type": "code",
        "colab": {}
      },
      "source": [
        ""
      ],
      "execution_count": null,
      "outputs": []
    }
  ]
}