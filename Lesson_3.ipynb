{
  "nbformat": 4,
  "nbformat_minor": 0,
  "metadata": {
    "colab": {
      "name": "Lesson 3.ipynb\"",
      "provenance": [],
      "collapsed_sections": [],
      "authorship_tag": "ABX9TyM8mDQhXRk5v9b5rZtxw4PL",
      "include_colab_link": true
    },
    "kernelspec": {
      "name": "python3",
      "display_name": "Python 3"
    },
    "accelerator": "GPU"
  },
  "cells": [
    {
      "cell_type": "markdown",
      "metadata": {
        "id": "view-in-github",
        "colab_type": "text"
      },
      "source": [
        "<a href=\"https://colab.research.google.com/github/SimreAniri/Neural-Networks/blob/master/Lesson_3.ipynb\" target=\"_parent\"><img src=\"https://colab.research.google.com/assets/colab-badge.svg\" alt=\"Open In Colab\"/></a>"
      ]
    },
    {
      "cell_type": "code",
      "metadata": {
        "id": "3gVH5O4HBurk"
      },
      "source": [
        "import tensorflow as tf\n",
        "from tensorflow import keras\n",
        "\n",
        "from sklearn.datasets import load_boston\n",
        "\n",
        "from sklearn.metrics import r2_score\n",
        "\n",
        "import numpy as np\n",
        "import pandas as pd\n",
        "import matplotlib.pyplot as plt"
      ],
      "execution_count": 1,
      "outputs": []
    },
    {
      "cell_type": "code",
      "metadata": {
        "id": "sd6atRk-NtD8",
        "colab": {
          "base_uri": "https://localhost:8080/"
        },
        "outputId": "0dacd6d4-7d37-49e4-c829-63bf4e00f8be"
      },
      "source": [
        "boston = load_boston()\n",
        "boston.keys()"
      ],
      "execution_count": 2,
      "outputs": [
        {
          "output_type": "execute_result",
          "data": {
            "text/plain": [
              "dict_keys(['data', 'target', 'feature_names', 'DESCR', 'filename'])"
            ]
          },
          "metadata": {
            "tags": []
          },
          "execution_count": 2
        }
      ]
    },
    {
      "cell_type": "code",
      "metadata": {
        "id": "UiCo1Uw5PK-O",
        "colab": {
          "base_uri": "https://localhost:8080/"
        },
        "outputId": "22d0888d-b92d-4875-d98f-9777574ac59d"
      },
      "source": [
        "data = boston[\"data\"]\n",
        "data.shape"
      ],
      "execution_count": 3,
      "outputs": [
        {
          "output_type": "execute_result",
          "data": {
            "text/plain": [
              "(506, 13)"
            ]
          },
          "metadata": {
            "tags": []
          },
          "execution_count": 3
        }
      ]
    },
    {
      "cell_type": "code",
      "metadata": {
        "id": "bryD9Z8pPXEb"
      },
      "source": [
        "data = pd.DataFrame(data, columns=boston[\"feature_names\"])\n",
        "target = boston[\"target\"]"
      ],
      "execution_count": 4,
      "outputs": []
    },
    {
      "cell_type": "code",
      "metadata": {
        "id": "EsvRE5gbPb8d",
        "colab": {
          "base_uri": "https://localhost:8080/"
        },
        "outputId": "4bd20d04-bc10-4645-d84f-90ac5b16f4c6"
      },
      "source": [
        "data.info()"
      ],
      "execution_count": 5,
      "outputs": [
        {
          "output_type": "stream",
          "text": [
            "<class 'pandas.core.frame.DataFrame'>\n",
            "RangeIndex: 506 entries, 0 to 505\n",
            "Data columns (total 13 columns):\n",
            " #   Column   Non-Null Count  Dtype  \n",
            "---  ------   --------------  -----  \n",
            " 0   CRIM     506 non-null    float64\n",
            " 1   ZN       506 non-null    float64\n",
            " 2   INDUS    506 non-null    float64\n",
            " 3   CHAS     506 non-null    float64\n",
            " 4   NOX      506 non-null    float64\n",
            " 5   RM       506 non-null    float64\n",
            " 6   AGE      506 non-null    float64\n",
            " 7   DIS      506 non-null    float64\n",
            " 8   RAD      506 non-null    float64\n",
            " 9   TAX      506 non-null    float64\n",
            " 10  PTRATIO  506 non-null    float64\n",
            " 11  B        506 non-null    float64\n",
            " 12  LSTAT    506 non-null    float64\n",
            "dtypes: float64(13)\n",
            "memory usage: 51.5 KB\n"
          ],
          "name": "stdout"
        }
      ]
    },
    {
      "cell_type": "code",
      "metadata": {
        "id": "EbBnd5Y5QKHK",
        "colab": {
          "base_uri": "https://localhost:8080/",
          "height": 294
        },
        "outputId": "e38d9fb3-f32c-428b-dee2-ea9a5b54ef0c"
      },
      "source": [
        "data.describe()"
      ],
      "execution_count": 6,
      "outputs": [
        {
          "output_type": "execute_result",
          "data": {
            "text/html": [
              "<div>\n",
              "<style scoped>\n",
              "    .dataframe tbody tr th:only-of-type {\n",
              "        vertical-align: middle;\n",
              "    }\n",
              "\n",
              "    .dataframe tbody tr th {\n",
              "        vertical-align: top;\n",
              "    }\n",
              "\n",
              "    .dataframe thead th {\n",
              "        text-align: right;\n",
              "    }\n",
              "</style>\n",
              "<table border=\"1\" class=\"dataframe\">\n",
              "  <thead>\n",
              "    <tr style=\"text-align: right;\">\n",
              "      <th></th>\n",
              "      <th>CRIM</th>\n",
              "      <th>ZN</th>\n",
              "      <th>INDUS</th>\n",
              "      <th>CHAS</th>\n",
              "      <th>NOX</th>\n",
              "      <th>RM</th>\n",
              "      <th>AGE</th>\n",
              "      <th>DIS</th>\n",
              "      <th>RAD</th>\n",
              "      <th>TAX</th>\n",
              "      <th>PTRATIO</th>\n",
              "      <th>B</th>\n",
              "      <th>LSTAT</th>\n",
              "    </tr>\n",
              "  </thead>\n",
              "  <tbody>\n",
              "    <tr>\n",
              "      <th>count</th>\n",
              "      <td>506.000000</td>\n",
              "      <td>506.000000</td>\n",
              "      <td>506.000000</td>\n",
              "      <td>506.000000</td>\n",
              "      <td>506.000000</td>\n",
              "      <td>506.000000</td>\n",
              "      <td>506.000000</td>\n",
              "      <td>506.000000</td>\n",
              "      <td>506.000000</td>\n",
              "      <td>506.000000</td>\n",
              "      <td>506.000000</td>\n",
              "      <td>506.000000</td>\n",
              "      <td>506.000000</td>\n",
              "    </tr>\n",
              "    <tr>\n",
              "      <th>mean</th>\n",
              "      <td>3.613524</td>\n",
              "      <td>11.363636</td>\n",
              "      <td>11.136779</td>\n",
              "      <td>0.069170</td>\n",
              "      <td>0.554695</td>\n",
              "      <td>6.284634</td>\n",
              "      <td>68.574901</td>\n",
              "      <td>3.795043</td>\n",
              "      <td>9.549407</td>\n",
              "      <td>408.237154</td>\n",
              "      <td>18.455534</td>\n",
              "      <td>356.674032</td>\n",
              "      <td>12.653063</td>\n",
              "    </tr>\n",
              "    <tr>\n",
              "      <th>std</th>\n",
              "      <td>8.601545</td>\n",
              "      <td>23.322453</td>\n",
              "      <td>6.860353</td>\n",
              "      <td>0.253994</td>\n",
              "      <td>0.115878</td>\n",
              "      <td>0.702617</td>\n",
              "      <td>28.148861</td>\n",
              "      <td>2.105710</td>\n",
              "      <td>8.707259</td>\n",
              "      <td>168.537116</td>\n",
              "      <td>2.164946</td>\n",
              "      <td>91.294864</td>\n",
              "      <td>7.141062</td>\n",
              "    </tr>\n",
              "    <tr>\n",
              "      <th>min</th>\n",
              "      <td>0.006320</td>\n",
              "      <td>0.000000</td>\n",
              "      <td>0.460000</td>\n",
              "      <td>0.000000</td>\n",
              "      <td>0.385000</td>\n",
              "      <td>3.561000</td>\n",
              "      <td>2.900000</td>\n",
              "      <td>1.129600</td>\n",
              "      <td>1.000000</td>\n",
              "      <td>187.000000</td>\n",
              "      <td>12.600000</td>\n",
              "      <td>0.320000</td>\n",
              "      <td>1.730000</td>\n",
              "    </tr>\n",
              "    <tr>\n",
              "      <th>25%</th>\n",
              "      <td>0.082045</td>\n",
              "      <td>0.000000</td>\n",
              "      <td>5.190000</td>\n",
              "      <td>0.000000</td>\n",
              "      <td>0.449000</td>\n",
              "      <td>5.885500</td>\n",
              "      <td>45.025000</td>\n",
              "      <td>2.100175</td>\n",
              "      <td>4.000000</td>\n",
              "      <td>279.000000</td>\n",
              "      <td>17.400000</td>\n",
              "      <td>375.377500</td>\n",
              "      <td>6.950000</td>\n",
              "    </tr>\n",
              "    <tr>\n",
              "      <th>50%</th>\n",
              "      <td>0.256510</td>\n",
              "      <td>0.000000</td>\n",
              "      <td>9.690000</td>\n",
              "      <td>0.000000</td>\n",
              "      <td>0.538000</td>\n",
              "      <td>6.208500</td>\n",
              "      <td>77.500000</td>\n",
              "      <td>3.207450</td>\n",
              "      <td>5.000000</td>\n",
              "      <td>330.000000</td>\n",
              "      <td>19.050000</td>\n",
              "      <td>391.440000</td>\n",
              "      <td>11.360000</td>\n",
              "    </tr>\n",
              "    <tr>\n",
              "      <th>75%</th>\n",
              "      <td>3.677083</td>\n",
              "      <td>12.500000</td>\n",
              "      <td>18.100000</td>\n",
              "      <td>0.000000</td>\n",
              "      <td>0.624000</td>\n",
              "      <td>6.623500</td>\n",
              "      <td>94.075000</td>\n",
              "      <td>5.188425</td>\n",
              "      <td>24.000000</td>\n",
              "      <td>666.000000</td>\n",
              "      <td>20.200000</td>\n",
              "      <td>396.225000</td>\n",
              "      <td>16.955000</td>\n",
              "    </tr>\n",
              "    <tr>\n",
              "      <th>max</th>\n",
              "      <td>88.976200</td>\n",
              "      <td>100.000000</td>\n",
              "      <td>27.740000</td>\n",
              "      <td>1.000000</td>\n",
              "      <td>0.871000</td>\n",
              "      <td>8.780000</td>\n",
              "      <td>100.000000</td>\n",
              "      <td>12.126500</td>\n",
              "      <td>24.000000</td>\n",
              "      <td>711.000000</td>\n",
              "      <td>22.000000</td>\n",
              "      <td>396.900000</td>\n",
              "      <td>37.970000</td>\n",
              "    </tr>\n",
              "  </tbody>\n",
              "</table>\n",
              "</div>"
            ],
            "text/plain": [
              "             CRIM          ZN       INDUS  ...     PTRATIO           B       LSTAT\n",
              "count  506.000000  506.000000  506.000000  ...  506.000000  506.000000  506.000000\n",
              "mean     3.613524   11.363636   11.136779  ...   18.455534  356.674032   12.653063\n",
              "std      8.601545   23.322453    6.860353  ...    2.164946   91.294864    7.141062\n",
              "min      0.006320    0.000000    0.460000  ...   12.600000    0.320000    1.730000\n",
              "25%      0.082045    0.000000    5.190000  ...   17.400000  375.377500    6.950000\n",
              "50%      0.256510    0.000000    9.690000  ...   19.050000  391.440000   11.360000\n",
              "75%      3.677083   12.500000   18.100000  ...   20.200000  396.225000   16.955000\n",
              "max     88.976200  100.000000   27.740000  ...   22.000000  396.900000   37.970000\n",
              "\n",
              "[8 rows x 13 columns]"
            ]
          },
          "metadata": {
            "tags": []
          },
          "execution_count": 6
        }
      ]
    },
    {
      "cell_type": "code",
      "metadata": {
        "id": "kCoS5OorQPww",
        "colab": {
          "base_uri": "https://localhost:8080/",
          "height": 202
        },
        "outputId": "36fe742c-5710-42b9-a19c-575a4c974601"
      },
      "source": [
        "data.head()"
      ],
      "execution_count": 7,
      "outputs": [
        {
          "output_type": "execute_result",
          "data": {
            "text/html": [
              "<div>\n",
              "<style scoped>\n",
              "    .dataframe tbody tr th:only-of-type {\n",
              "        vertical-align: middle;\n",
              "    }\n",
              "\n",
              "    .dataframe tbody tr th {\n",
              "        vertical-align: top;\n",
              "    }\n",
              "\n",
              "    .dataframe thead th {\n",
              "        text-align: right;\n",
              "    }\n",
              "</style>\n",
              "<table border=\"1\" class=\"dataframe\">\n",
              "  <thead>\n",
              "    <tr style=\"text-align: right;\">\n",
              "      <th></th>\n",
              "      <th>CRIM</th>\n",
              "      <th>ZN</th>\n",
              "      <th>INDUS</th>\n",
              "      <th>CHAS</th>\n",
              "      <th>NOX</th>\n",
              "      <th>RM</th>\n",
              "      <th>AGE</th>\n",
              "      <th>DIS</th>\n",
              "      <th>RAD</th>\n",
              "      <th>TAX</th>\n",
              "      <th>PTRATIO</th>\n",
              "      <th>B</th>\n",
              "      <th>LSTAT</th>\n",
              "    </tr>\n",
              "  </thead>\n",
              "  <tbody>\n",
              "    <tr>\n",
              "      <th>0</th>\n",
              "      <td>0.00632</td>\n",
              "      <td>18.0</td>\n",
              "      <td>2.31</td>\n",
              "      <td>0.0</td>\n",
              "      <td>0.538</td>\n",
              "      <td>6.575</td>\n",
              "      <td>65.2</td>\n",
              "      <td>4.0900</td>\n",
              "      <td>1.0</td>\n",
              "      <td>296.0</td>\n",
              "      <td>15.3</td>\n",
              "      <td>396.90</td>\n",
              "      <td>4.98</td>\n",
              "    </tr>\n",
              "    <tr>\n",
              "      <th>1</th>\n",
              "      <td>0.02731</td>\n",
              "      <td>0.0</td>\n",
              "      <td>7.07</td>\n",
              "      <td>0.0</td>\n",
              "      <td>0.469</td>\n",
              "      <td>6.421</td>\n",
              "      <td>78.9</td>\n",
              "      <td>4.9671</td>\n",
              "      <td>2.0</td>\n",
              "      <td>242.0</td>\n",
              "      <td>17.8</td>\n",
              "      <td>396.90</td>\n",
              "      <td>9.14</td>\n",
              "    </tr>\n",
              "    <tr>\n",
              "      <th>2</th>\n",
              "      <td>0.02729</td>\n",
              "      <td>0.0</td>\n",
              "      <td>7.07</td>\n",
              "      <td>0.0</td>\n",
              "      <td>0.469</td>\n",
              "      <td>7.185</td>\n",
              "      <td>61.1</td>\n",
              "      <td>4.9671</td>\n",
              "      <td>2.0</td>\n",
              "      <td>242.0</td>\n",
              "      <td>17.8</td>\n",
              "      <td>392.83</td>\n",
              "      <td>4.03</td>\n",
              "    </tr>\n",
              "    <tr>\n",
              "      <th>3</th>\n",
              "      <td>0.03237</td>\n",
              "      <td>0.0</td>\n",
              "      <td>2.18</td>\n",
              "      <td>0.0</td>\n",
              "      <td>0.458</td>\n",
              "      <td>6.998</td>\n",
              "      <td>45.8</td>\n",
              "      <td>6.0622</td>\n",
              "      <td>3.0</td>\n",
              "      <td>222.0</td>\n",
              "      <td>18.7</td>\n",
              "      <td>394.63</td>\n",
              "      <td>2.94</td>\n",
              "    </tr>\n",
              "    <tr>\n",
              "      <th>4</th>\n",
              "      <td>0.06905</td>\n",
              "      <td>0.0</td>\n",
              "      <td>2.18</td>\n",
              "      <td>0.0</td>\n",
              "      <td>0.458</td>\n",
              "      <td>7.147</td>\n",
              "      <td>54.2</td>\n",
              "      <td>6.0622</td>\n",
              "      <td>3.0</td>\n",
              "      <td>222.0</td>\n",
              "      <td>18.7</td>\n",
              "      <td>396.90</td>\n",
              "      <td>5.33</td>\n",
              "    </tr>\n",
              "  </tbody>\n",
              "</table>\n",
              "</div>"
            ],
            "text/plain": [
              "      CRIM    ZN  INDUS  CHAS    NOX  ...  RAD    TAX  PTRATIO       B  LSTAT\n",
              "0  0.00632  18.0   2.31   0.0  0.538  ...  1.0  296.0     15.3  396.90   4.98\n",
              "1  0.02731   0.0   7.07   0.0  0.469  ...  2.0  242.0     17.8  396.90   9.14\n",
              "2  0.02729   0.0   7.07   0.0  0.469  ...  2.0  242.0     17.8  392.83   4.03\n",
              "3  0.03237   0.0   2.18   0.0  0.458  ...  3.0  222.0     18.7  394.63   2.94\n",
              "4  0.06905   0.0   2.18   0.0  0.458  ...  3.0  222.0     18.7  396.90   5.33\n",
              "\n",
              "[5 rows x 13 columns]"
            ]
          },
          "metadata": {
            "tags": []
          },
          "execution_count": 7
        }
      ]
    },
    {
      "cell_type": "code",
      "metadata": {
        "id": "da25GqgMQ23o"
      },
      "source": [
        "from sklearn.preprocessing import MinMaxScaler\n",
        "\n",
        "scaler_data = MinMaxScaler()\n",
        "\n",
        "train_data = scaler_data.fit_transform(data)"
      ],
      "execution_count": 8,
      "outputs": []
    },
    {
      "cell_type": "code",
      "metadata": {
        "id": "U6cCPuqcSqEx",
        "colab": {
          "base_uri": "https://localhost:8080/"
        },
        "outputId": "5206f1ef-f8e0-4bac-88fc-80a86175810a"
      },
      "source": [
        "train_data"
      ],
      "execution_count": 9,
      "outputs": [
        {
          "output_type": "execute_result",
          "data": {
            "text/plain": [
              "array([[0.00000000e+00, 1.80000000e-01, 6.78152493e-02, ...,\n",
              "        2.87234043e-01, 1.00000000e+00, 8.96799117e-02],\n",
              "       [2.35922539e-04, 0.00000000e+00, 2.42302053e-01, ...,\n",
              "        5.53191489e-01, 1.00000000e+00, 2.04470199e-01],\n",
              "       [2.35697744e-04, 0.00000000e+00, 2.42302053e-01, ...,\n",
              "        5.53191489e-01, 9.89737254e-01, 6.34657837e-02],\n",
              "       ...,\n",
              "       [6.11892474e-04, 0.00000000e+00, 4.20454545e-01, ...,\n",
              "        8.93617021e-01, 1.00000000e+00, 1.07891832e-01],\n",
              "       [1.16072990e-03, 0.00000000e+00, 4.20454545e-01, ...,\n",
              "        8.93617021e-01, 9.91300620e-01, 1.31070640e-01],\n",
              "       [4.61841693e-04, 0.00000000e+00, 4.20454545e-01, ...,\n",
              "        8.93617021e-01, 1.00000000e+00, 1.69701987e-01]])"
            ]
          },
          "metadata": {
            "tags": []
          },
          "execution_count": 9
        }
      ]
    },
    {
      "cell_type": "code",
      "metadata": {
        "id": "1-E54FlXSrMn"
      },
      "source": [
        "from sklearn.model_selection import train_test_split\n",
        "\n",
        "X_train, X_test, y_train, y_test = train_test_split(train_data, target, test_size=0.25)"
      ],
      "execution_count": 10,
      "outputs": []
    },
    {
      "cell_type": "code",
      "metadata": {
        "id": "QXGVtzktY3vM",
        "colab": {
          "base_uri": "https://localhost:8080/"
        },
        "outputId": "f5961abd-f081-4b79-a5d4-157b968d7332"
      },
      "source": [
        "X_train.shape"
      ],
      "execution_count": 11,
      "outputs": [
        {
          "output_type": "execute_result",
          "data": {
            "text/plain": [
              "(379, 13)"
            ]
          },
          "metadata": {
            "tags": []
          },
          "execution_count": 11
        }
      ]
    },
    {
      "cell_type": "code",
      "metadata": {
        "id": "d0dkufLrs4i-"
      },
      "source": [
        "res = pd.DataFrame(columns=['n_neurons', 'optimizer', 'metrics', 'res_metrics', 'loss', 'r2'])"
      ],
      "execution_count": 21,
      "outputs": []
    },
    {
      "cell_type": "code",
      "metadata": {
        "id": "lLe3Z8BITREB",
        "colab": {
          "base_uri": "https://localhost:8080/"
        },
        "outputId": "45ffc20b-8ec9-4aa9-bd76-da5dfdb900e7"
      },
      "source": [
        "opt = ['RMSprop', 'SGD', 'Adam', 'Nadam']\n",
        "\n",
        "for i in [64, 128, 256]:\n",
        "  for j, i_optim in enumerate([keras.optimizers.RMSprop(),keras.optimizers.SGD(),keras.optimizers.Adam(),keras.optimizers.Nadam()]):\n",
        "    for k_metric in ['MSE', 'MAE']:\n",
        "      \n",
        "      x_input = keras.layers.Input(shape=(13))\n",
        "      x = keras.layers.Dense(256, activation='relu')(x_input)\n",
        "      x_output = keras.layers.Dense(1)(x)\n",
        "      model = keras.models.Model(x_input, x_output)\n",
        "\n",
        "      model.compile(optimizer=i_optim,\n",
        "                    loss='mse',\n",
        "                    metrics=[k_metric])\n",
        "\n",
        "      model.fit(X_train, y_train, epochs=15, batch_size=1, verbose=0)\n",
        "\n",
        "      loss_metric = model.evaluate(X_train, y_train)\n",
        "\n",
        "      y_pred = model.predict(X_test)\n",
        "      r2 = r2_score(y_test, y_pred)\n",
        "\n",
        "      res = res.append(pd.DataFrame({'n_neurons': [i],\n",
        "                                    'optimizer': [opt[j]],\n",
        "                                    'loss': [loss_metric[0]],\n",
        "                                    'metrics': k_metric,\n",
        "                                    'res_metrics': [loss_metric[1]],\n",
        "                                    'r2': [r2]}),\n",
        "                                    ignore_index=True)"
      ],
      "execution_count": 22,
      "outputs": [
        {
          "output_type": "stream",
          "text": [
            "12/12 [==============================] - 0s 2ms/step - loss: 24.4178 - MSE: 24.4178\n",
            "12/12 [==============================] - 0s 2ms/step - loss: 23.3805 - MAE: 3.1997\n",
            "12/12 [==============================] - 0s 2ms/step - loss: 89.8036 - MSE: 89.8036\n",
            "12/12 [==============================] - 0s 2ms/step - loss: 91.0047 - MAE: 7.1844\n",
            "12/12 [==============================] - 0s 2ms/step - loss: 22.7799 - MSE: 22.7799\n",
            "12/12 [==============================] - 0s 2ms/step - loss: 19.0084 - MAE: 2.9588\n",
            "12/12 [==============================] - 0s 2ms/step - loss: 21.4939 - MSE: 21.4939\n",
            "12/12 [==============================] - 0s 2ms/step - loss: 18.8189 - MAE: 3.0299\n",
            "12/12 [==============================] - 0s 2ms/step - loss: 24.1107 - MSE: 24.1107\n",
            "12/12 [==============================] - 0s 2ms/step - loss: 22.9733 - MAE: 3.1516\n",
            "12/12 [==============================] - 0s 2ms/step - loss: 89.8171 - MSE: 89.8171\n",
            "12/12 [==============================] - 0s 2ms/step - loss: 89.8896 - MAE: 6.9972\n",
            "12/12 [==============================] - 0s 2ms/step - loss: 21.6645 - MSE: 21.6645\n",
            "12/12 [==============================] - 0s 2ms/step - loss: 18.7721 - MAE: 3.0820\n",
            "12/12 [==============================] - 0s 2ms/step - loss: 21.5483 - MSE: 21.5483\n",
            "12/12 [==============================] - 0s 2ms/step - loss: 18.7282 - MAE: 3.0154\n",
            "12/12 [==============================] - 0s 2ms/step - loss: 23.6751 - MSE: 23.6751\n",
            "12/12 [==============================] - 0s 2ms/step - loss: 23.2282 - MAE: 3.1678\n",
            "12/12 [==============================] - 0s 2ms/step - loss: 40.4240 - MSE: 40.4240\n",
            "12/12 [==============================] - 0s 2ms/step - loss: 91.1229 - MAE: 7.2018\n",
            "12/12 [==============================] - 0s 2ms/step - loss: 21.2729 - MSE: 21.2729\n",
            "12/12 [==============================] - 0s 2ms/step - loss: 19.5107 - MAE: 3.2066\n",
            "12/12 [==============================] - 0s 2ms/step - loss: 22.9749 - MSE: 22.9749\n",
            "12/12 [==============================] - 0s 2ms/step - loss: 22.5143 - MAE: 3.6728\n"
          ],
          "name": "stdout"
        }
      ]
    },
    {
      "cell_type": "code",
      "metadata": {
        "colab": {
          "base_uri": "https://localhost:8080/",
          "height": 785
        },
        "id": "lvwmbW_1uo4Z",
        "outputId": "970b0a10-6f06-401d-f3b3-b0e6e427c8ea"
      },
      "source": [
        "res"
      ],
      "execution_count": 23,
      "outputs": [
        {
          "output_type": "execute_result",
          "data": {
            "text/html": [
              "<div>\n",
              "<style scoped>\n",
              "    .dataframe tbody tr th:only-of-type {\n",
              "        vertical-align: middle;\n",
              "    }\n",
              "\n",
              "    .dataframe tbody tr th {\n",
              "        vertical-align: top;\n",
              "    }\n",
              "\n",
              "    .dataframe thead th {\n",
              "        text-align: right;\n",
              "    }\n",
              "</style>\n",
              "<table border=\"1\" class=\"dataframe\">\n",
              "  <thead>\n",
              "    <tr style=\"text-align: right;\">\n",
              "      <th></th>\n",
              "      <th>n_neurons</th>\n",
              "      <th>optimizer</th>\n",
              "      <th>metrics</th>\n",
              "      <th>res_metrics</th>\n",
              "      <th>loss</th>\n",
              "      <th>r2</th>\n",
              "    </tr>\n",
              "  </thead>\n",
              "  <tbody>\n",
              "    <tr>\n",
              "      <th>0</th>\n",
              "      <td>64</td>\n",
              "      <td>RMSprop</td>\n",
              "      <td>MSE</td>\n",
              "      <td>24.417839</td>\n",
              "      <td>24.417839</td>\n",
              "      <td>0.700483</td>\n",
              "    </tr>\n",
              "    <tr>\n",
              "      <th>1</th>\n",
              "      <td>64</td>\n",
              "      <td>RMSprop</td>\n",
              "      <td>MAE</td>\n",
              "      <td>3.199713</td>\n",
              "      <td>23.380468</td>\n",
              "      <td>0.753694</td>\n",
              "    </tr>\n",
              "    <tr>\n",
              "      <th>2</th>\n",
              "      <td>64</td>\n",
              "      <td>SGD</td>\n",
              "      <td>MSE</td>\n",
              "      <td>89.803619</td>\n",
              "      <td>89.803619</td>\n",
              "      <td>-0.043072</td>\n",
              "    </tr>\n",
              "    <tr>\n",
              "      <th>3</th>\n",
              "      <td>64</td>\n",
              "      <td>SGD</td>\n",
              "      <td>MAE</td>\n",
              "      <td>7.184365</td>\n",
              "      <td>91.004723</td>\n",
              "      <td>-0.284322</td>\n",
              "    </tr>\n",
              "    <tr>\n",
              "      <th>4</th>\n",
              "      <td>64</td>\n",
              "      <td>Adam</td>\n",
              "      <td>MSE</td>\n",
              "      <td>22.779898</td>\n",
              "      <td>22.779898</td>\n",
              "      <td>0.733726</td>\n",
              "    </tr>\n",
              "    <tr>\n",
              "      <th>5</th>\n",
              "      <td>64</td>\n",
              "      <td>Adam</td>\n",
              "      <td>MAE</td>\n",
              "      <td>2.958819</td>\n",
              "      <td>19.008423</td>\n",
              "      <td>0.741662</td>\n",
              "    </tr>\n",
              "    <tr>\n",
              "      <th>6</th>\n",
              "      <td>64</td>\n",
              "      <td>Nadam</td>\n",
              "      <td>MSE</td>\n",
              "      <td>21.493877</td>\n",
              "      <td>21.493877</td>\n",
              "      <td>0.735749</td>\n",
              "    </tr>\n",
              "    <tr>\n",
              "      <th>7</th>\n",
              "      <td>64</td>\n",
              "      <td>Nadam</td>\n",
              "      <td>MAE</td>\n",
              "      <td>3.029941</td>\n",
              "      <td>18.818922</td>\n",
              "      <td>0.738383</td>\n",
              "    </tr>\n",
              "    <tr>\n",
              "      <th>8</th>\n",
              "      <td>128</td>\n",
              "      <td>RMSprop</td>\n",
              "      <td>MSE</td>\n",
              "      <td>24.110674</td>\n",
              "      <td>24.110674</td>\n",
              "      <td>0.719376</td>\n",
              "    </tr>\n",
              "    <tr>\n",
              "      <th>9</th>\n",
              "      <td>128</td>\n",
              "      <td>RMSprop</td>\n",
              "      <td>MAE</td>\n",
              "      <td>3.151604</td>\n",
              "      <td>22.973333</td>\n",
              "      <td>0.756719</td>\n",
              "    </tr>\n",
              "    <tr>\n",
              "      <th>10</th>\n",
              "      <td>128</td>\n",
              "      <td>SGD</td>\n",
              "      <td>MSE</td>\n",
              "      <td>89.817108</td>\n",
              "      <td>89.817108</td>\n",
              "      <td>-0.013780</td>\n",
              "    </tr>\n",
              "    <tr>\n",
              "      <th>11</th>\n",
              "      <td>128</td>\n",
              "      <td>SGD</td>\n",
              "      <td>MAE</td>\n",
              "      <td>6.997191</td>\n",
              "      <td>89.889595</td>\n",
              "      <td>-0.100335</td>\n",
              "    </tr>\n",
              "    <tr>\n",
              "      <th>12</th>\n",
              "      <td>128</td>\n",
              "      <td>Adam</td>\n",
              "      <td>MSE</td>\n",
              "      <td>21.664465</td>\n",
              "      <td>21.664465</td>\n",
              "      <td>0.737797</td>\n",
              "    </tr>\n",
              "    <tr>\n",
              "      <th>13</th>\n",
              "      <td>128</td>\n",
              "      <td>Adam</td>\n",
              "      <td>MAE</td>\n",
              "      <td>3.082033</td>\n",
              "      <td>18.772051</td>\n",
              "      <td>0.725410</td>\n",
              "    </tr>\n",
              "    <tr>\n",
              "      <th>14</th>\n",
              "      <td>128</td>\n",
              "      <td>Nadam</td>\n",
              "      <td>MSE</td>\n",
              "      <td>21.548317</td>\n",
              "      <td>21.548317</td>\n",
              "      <td>0.734295</td>\n",
              "    </tr>\n",
              "    <tr>\n",
              "      <th>15</th>\n",
              "      <td>128</td>\n",
              "      <td>Nadam</td>\n",
              "      <td>MAE</td>\n",
              "      <td>3.015367</td>\n",
              "      <td>18.728201</td>\n",
              "      <td>0.734630</td>\n",
              "    </tr>\n",
              "    <tr>\n",
              "      <th>16</th>\n",
              "      <td>256</td>\n",
              "      <td>RMSprop</td>\n",
              "      <td>MSE</td>\n",
              "      <td>23.675144</td>\n",
              "      <td>23.675144</td>\n",
              "      <td>0.718274</td>\n",
              "    </tr>\n",
              "    <tr>\n",
              "      <th>17</th>\n",
              "      <td>256</td>\n",
              "      <td>RMSprop</td>\n",
              "      <td>MAE</td>\n",
              "      <td>3.167823</td>\n",
              "      <td>23.228191</td>\n",
              "      <td>0.756744</td>\n",
              "    </tr>\n",
              "    <tr>\n",
              "      <th>18</th>\n",
              "      <td>256</td>\n",
              "      <td>SGD</td>\n",
              "      <td>MSE</td>\n",
              "      <td>40.423973</td>\n",
              "      <td>40.423973</td>\n",
              "      <td>0.615324</td>\n",
              "    </tr>\n",
              "    <tr>\n",
              "      <th>19</th>\n",
              "      <td>256</td>\n",
              "      <td>SGD</td>\n",
              "      <td>MAE</td>\n",
              "      <td>7.201784</td>\n",
              "      <td>91.122879</td>\n",
              "      <td>-0.066641</td>\n",
              "    </tr>\n",
              "    <tr>\n",
              "      <th>20</th>\n",
              "      <td>256</td>\n",
              "      <td>Adam</td>\n",
              "      <td>MSE</td>\n",
              "      <td>21.272926</td>\n",
              "      <td>21.272926</td>\n",
              "      <td>0.727390</td>\n",
              "    </tr>\n",
              "    <tr>\n",
              "      <th>21</th>\n",
              "      <td>256</td>\n",
              "      <td>Adam</td>\n",
              "      <td>MAE</td>\n",
              "      <td>3.206578</td>\n",
              "      <td>19.510660</td>\n",
              "      <td>0.711312</td>\n",
              "    </tr>\n",
              "    <tr>\n",
              "      <th>22</th>\n",
              "      <td>256</td>\n",
              "      <td>Nadam</td>\n",
              "      <td>MSE</td>\n",
              "      <td>22.974894</td>\n",
              "      <td>22.974894</td>\n",
              "      <td>0.732644</td>\n",
              "    </tr>\n",
              "    <tr>\n",
              "      <th>23</th>\n",
              "      <td>256</td>\n",
              "      <td>Nadam</td>\n",
              "      <td>MAE</td>\n",
              "      <td>3.672762</td>\n",
              "      <td>22.514286</td>\n",
              "      <td>0.634328</td>\n",
              "    </tr>\n",
              "  </tbody>\n",
              "</table>\n",
              "</div>"
            ],
            "text/plain": [
              "   n_neurons optimizer metrics  res_metrics       loss        r2\n",
              "0         64   RMSprop     MSE    24.417839  24.417839  0.700483\n",
              "1         64   RMSprop     MAE     3.199713  23.380468  0.753694\n",
              "2         64       SGD     MSE    89.803619  89.803619 -0.043072\n",
              "3         64       SGD     MAE     7.184365  91.004723 -0.284322\n",
              "4         64      Adam     MSE    22.779898  22.779898  0.733726\n",
              "5         64      Adam     MAE     2.958819  19.008423  0.741662\n",
              "6         64     Nadam     MSE    21.493877  21.493877  0.735749\n",
              "7         64     Nadam     MAE     3.029941  18.818922  0.738383\n",
              "8        128   RMSprop     MSE    24.110674  24.110674  0.719376\n",
              "9        128   RMSprop     MAE     3.151604  22.973333  0.756719\n",
              "10       128       SGD     MSE    89.817108  89.817108 -0.013780\n",
              "11       128       SGD     MAE     6.997191  89.889595 -0.100335\n",
              "12       128      Adam     MSE    21.664465  21.664465  0.737797\n",
              "13       128      Adam     MAE     3.082033  18.772051  0.725410\n",
              "14       128     Nadam     MSE    21.548317  21.548317  0.734295\n",
              "15       128     Nadam     MAE     3.015367  18.728201  0.734630\n",
              "16       256   RMSprop     MSE    23.675144  23.675144  0.718274\n",
              "17       256   RMSprop     MAE     3.167823  23.228191  0.756744\n",
              "18       256       SGD     MSE    40.423973  40.423973  0.615324\n",
              "19       256       SGD     MAE     7.201784  91.122879 -0.066641\n",
              "20       256      Adam     MSE    21.272926  21.272926  0.727390\n",
              "21       256      Adam     MAE     3.206578  19.510660  0.711312\n",
              "22       256     Nadam     MSE    22.974894  22.974894  0.732644\n",
              "23       256     Nadam     MAE     3.672762  22.514286  0.634328"
            ]
          },
          "metadata": {
            "tags": []
          },
          "execution_count": 23
        }
      ]
    },
    {
      "cell_type": "markdown",
      "metadata": {
        "id": "lQjBzEpn3caD"
      },
      "source": [
        "Лучший вариант плучился на RMSprop с метрикой MAE. Возьмем вариант со 128 нейронами"
      ]
    },
    {
      "cell_type": "markdown",
      "metadata": {
        "id": "h80lMgFsrGzx"
      },
      "source": [
        "Не пойму, почему не выводит history"
      ]
    },
    {
      "cell_type": "code",
      "metadata": {
        "colab": {
          "base_uri": "https://localhost:8080/"
        },
        "id": "5pkgb4Q5qLWi",
        "outputId": "22a31c9f-77cb-4970-e768-58f392ffe56d"
      },
      "source": [
        "model.history"
      ],
      "execution_count": 50,
      "outputs": [
        {
          "output_type": "execute_result",
          "data": {
            "text/plain": [
              "<tensorflow.python.keras.callbacks.History at 0x7f4a104a9240>"
            ]
          },
          "metadata": {
            "tags": []
          },
          "execution_count": 50
        }
      ]
    },
    {
      "cell_type": "code",
      "metadata": {
        "colab": {
          "base_uri": "https://localhost:8080/",
          "height": 295
        },
        "id": "3HD-azpk32SP",
        "outputId": "6dffadeb-faac-4407-9f24-bf32d8d2fdf7"
      },
      "source": [
        "# число рабочих эпох\r\n",
        "epochs = 30\r\n",
        "# вектор для выводв результатов\r\n",
        "epoch = np.arange(epochs+1)\r\n",
        "\r\n",
        "x_input = keras.layers.Input(shape=(13))\r\n",
        "x = keras.layers.Dense(128, activation='relu')(x_input)\r\n",
        "x_output = keras.layers.Dense(1)(x)\r\n",
        "model = keras.models.Model(x_input, x_output)\r\n",
        "\r\n",
        "model.compile(optimizer=keras.optimizers.RMSprop(),\r\n",
        "              loss='mse',\r\n",
        "              metrics=['mae'])\r\n",
        "\r\n",
        "# вычисляем ошибку для modeli без обучения\r\n",
        "hh0_tr = model.evaluate(X_train, y_train,verbose = 0)\r\n",
        "\r\n",
        "# проводим обучение модели \r\n",
        "hh = model.fit(X_train, y_train, epochs=epochs, batch_size=1, verbose=0)\r\n",
        "\r\n",
        "# картинки\r\n",
        "plt.plot(epoch,np.log([hh0_tr[0]]+hh.history['loss']),'-',label = model.optimizer.get_config()['name']+' train')\r\n",
        "\r\n",
        "plt.legend()\r\n",
        "plt.title('log(loss)')\r\n",
        "plt.xlabel('epoch')\r\n",
        "plt.xlabel('log(loss)')\r\n",
        "plt.show()"
      ],
      "execution_count": 65,
      "outputs": [
        {
          "output_type": "display_data",
          "data": {
            "image/png": "[encoded data removed]",
            "text/plain": [
              "<Figure size 432x288 with 1 Axes>"
            ]
          },
          "metadata": {
            "tags": [],
            "needs_background": "light"
          }
        }
      ]
    },
    {
      "cell_type": "markdown",
      "metadata": {
        "id": "putg0uD_6kf9"
      },
      "source": [
        "Зачем прибавлять ошибку до обучения?"
      ]
    },
    {
      "cell_type": "code",
      "metadata": {
        "colab": {
          "base_uri": "https://localhost:8080/"
        },
        "id": "Zf_bqyk8uOFD",
        "outputId": "e33f05f8-99e6-40d6-f9b5-2adc19e3a819"
      },
      "source": [
        "model.evaluate(X_train, y_train)"
      ],
      "execution_count": 66,
      "outputs": [
        {
          "output_type": "stream",
          "text": [
            "12/12 [==============================] - 0s 2ms/step - loss: 21.1677 - mae: 3.1248\n"
          ],
          "name": "stdout"
        },
        {
          "output_type": "execute_result",
          "data": {
            "text/plain": [
              "[21.167688369750977, 3.1248466968536377]"
            ]
          },
          "metadata": {
            "tags": []
          },
          "execution_count": 66
        }
      ]
    },
    {
      "cell_type": "code",
      "metadata": {
        "colab": {
          "base_uri": "https://localhost:8080/"
        },
        "id": "jMDm9Nve5kLr",
        "outputId": "2084bc1d-5d0d-4888-9b47-334b94b639a7"
      },
      "source": [
        "model.evaluate(X_test, y_test)"
      ],
      "execution_count": 67,
      "outputs": [
        {
          "output_type": "stream",
          "text": [
            "4/4 [==============================] - 0s 2ms/step - loss: 16.4113 - mae: 2.8887\n"
          ],
          "name": "stdout"
        },
        {
          "output_type": "execute_result",
          "data": {
            "text/plain": [
              "[16.411325454711914, 2.8887195587158203]"
            ]
          },
          "metadata": {
            "tags": []
          },
          "execution_count": 67
        }
      ]
    },
    {
      "cell_type": "code",
      "metadata": {
        "id": "TBF4oYcTYdfD"
      },
      "source": [
        "y_pred = model.predict(X_test)"
      ],
      "execution_count": 68,
      "outputs": []
    },
    {
      "cell_type": "code",
      "metadata": {
        "id": "igwMTfGaaOSf",
        "colab": {
          "base_uri": "https://localhost:8080/",
          "height": 202
        },
        "outputId": "f3096f89-58bf-40f8-cf22-90fabc35becd"
      },
      "source": [
        "d = pd.DataFrame()\n",
        "d['test'] = y_test\n",
        "d['pred'] = y_pred\n",
        "d.head()"
      ],
      "execution_count": 69,
      "outputs": [
        {
          "output_type": "execute_result",
          "data": {
            "text/html": [
              "<div>\n",
              "<style scoped>\n",
              "    .dataframe tbody tr th:only-of-type {\n",
              "        vertical-align: middle;\n",
              "    }\n",
              "\n",
              "    .dataframe tbody tr th {\n",
              "        vertical-align: top;\n",
              "    }\n",
              "\n",
              "    .dataframe thead th {\n",
              "        text-align: right;\n",
              "    }\n",
              "</style>\n",
              "<table border=\"1\" class=\"dataframe\">\n",
              "  <thead>\n",
              "    <tr style=\"text-align: right;\">\n",
              "      <th></th>\n",
              "      <th>test</th>\n",
              "      <th>pred</th>\n",
              "    </tr>\n",
              "  </thead>\n",
              "  <tbody>\n",
              "    <tr>\n",
              "      <th>0</th>\n",
              "      <td>37.3</td>\n",
              "      <td>33.019367</td>\n",
              "    </tr>\n",
              "    <tr>\n",
              "      <th>1</th>\n",
              "      <td>18.3</td>\n",
              "      <td>19.020752</td>\n",
              "    </tr>\n",
              "    <tr>\n",
              "      <th>2</th>\n",
              "      <td>19.4</td>\n",
              "      <td>18.405382</td>\n",
              "    </tr>\n",
              "    <tr>\n",
              "      <th>3</th>\n",
              "      <td>16.3</td>\n",
              "      <td>12.115879</td>\n",
              "    </tr>\n",
              "    <tr>\n",
              "      <th>4</th>\n",
              "      <td>23.8</td>\n",
              "      <td>24.163319</td>\n",
              "    </tr>\n",
              "  </tbody>\n",
              "</table>\n",
              "</div>"
            ],
            "text/plain": [
              "   test       pred\n",
              "0  37.3  33.019367\n",
              "1  18.3  19.020752\n",
              "2  19.4  18.405382\n",
              "3  16.3  12.115879\n",
              "4  23.8  24.163319"
            ]
          },
          "metadata": {
            "tags": []
          },
          "execution_count": 69
        }
      ]
    },
    {
      "cell_type": "code",
      "metadata": {
        "id": "q1xIN8qJbQ4B",
        "colab": {
          "base_uri": "https://localhost:8080/"
        },
        "outputId": "869a5399-7584-45e7-ee51-55c63b5b2537"
      },
      "source": [
        "r2_score(y_test, y_pred)"
      ],
      "execution_count": 70,
      "outputs": [
        {
          "output_type": "execute_result",
          "data": {
            "text/plain": [
              "0.7645852679406056"
            ]
          },
          "metadata": {
            "tags": []
          },
          "execution_count": 70
        }
      ]
    },
    {
      "cell_type": "code",
      "metadata": {
        "id": "b5EfdlDU5vw6"
      },
      "source": [
        ""
      ],
      "execution_count": null,
      "outputs": []
    }
  ]
}