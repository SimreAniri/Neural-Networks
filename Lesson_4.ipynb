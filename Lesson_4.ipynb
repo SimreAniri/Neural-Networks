{
  "nbformat": 4,
  "nbformat_minor": 0,
  "metadata": {
    "colab": {
      "name": "Копия блокнота \"Копия блокнота \"Lesson 4.ipynb\"\"\"",
      "provenance": [],
      "collapsed_sections": [],
      "authorship_tag": "ABX9TyMZ847nJsYuFzYFwXaXG6dQ",
      "include_colab_link": true
    },
    "kernelspec": {
      "name": "python3",
      "display_name": "Python 3"
    },
    "accelerator": "GPU"
  },
  "cells": [
    {
      "cell_type": "markdown",
      "metadata": {
        "id": "view-in-github",
        "colab_type": "text"
      },
      "source": [
        "<a href=\"https://colab.research.google.com/github/SimreAniri/Neural-Networks/blob/master/Lesson_4.ipynb\" target=\"_parent\"><img src=\"https://colab.research.google.com/assets/colab-badge.svg\" alt=\"Open In Colab\"/></a>"
      ]
    },
    {
      "cell_type": "code",
      "metadata": {
        "id": "LAxu566RwqDA"
      },
      "source": [
        "import numpy as np\n",
        "import matplotlib.pyplot as plt\n",
        "\n",
        "import keras\n",
        "from keras.datasets import cifar10\n",
        "from keras.preprocessing.image import ImageDataGenerator\n",
        "from keras.models import Sequential, Model\n",
        "from keras.layers import Dense, Dropout, Activation, Flatten, Input\n",
        "from keras.layers import Conv2D, MaxPooling2D, Concatenate\n",
        "\n",
        "from tensorflow.keras.utils import plot_model "
      ],
      "execution_count": 1,
      "outputs": []
    },
    {
      "cell_type": "code",
      "metadata": {
        "id": "wbVm4UmB0ZOu"
      },
      "source": [
        "classes=['самолет', 'автомобиль', 'птица', 'кот', 'олень', 'собака', 'лягушка', 'лошадь', 'корабль', 'грузовик']"
      ],
      "execution_count": 2,
      "outputs": []
    },
    {
      "cell_type": "code",
      "metadata": {
        "id": "mHo8p8jnwx6y"
      },
      "source": [
        "# установка параметров нейросети\n",
        "batch_size = 32\n",
        "num_classes = 10\n",
        "epochs = 5\n",
        "data_augmentation = True\n",
        "num_predictions = 20"
      ],
      "execution_count": 3,
      "outputs": []
    },
    {
      "cell_type": "code",
      "metadata": {
        "id": "VSzqmH-Mw7lE",
        "colab": {
          "base_uri": "https://localhost:8080/"
        },
        "outputId": "f25448f1-dc34-4e64-c9a3-ba7ea304be6a"
      },
      "source": [
        "# разделение тренировочной и тестовой выборки\n",
        "(x_train, y_train), (x_test, y_test) = cifar10.load_data()\n",
        "print('x_train shape:', x_train.shape)\n",
        "print(x_train.shape[0], 'тренировочные примеры')\n",
        "print(x_test.shape[0], 'тестовые примеры')"
      ],
      "execution_count": 4,
      "outputs": [
        {
          "output_type": "stream",
          "text": [
            "x_train shape: (50000, 32, 32, 3)\n",
            "50000 тренировочные примеры\n",
            "10000 тестовые примеры\n"
          ],
          "name": "stdout"
        }
      ]
    },
    {
      "cell_type": "code",
      "metadata": {
        "id": "aR9VZ1UGw_0g"
      },
      "source": [
        "# преобразование матрицы чисел 0-9 в бинарную матрицу чисел 0-1\n",
        "y_train = keras.utils.to_categorical(y_train, num_classes)\n",
        "y_test = keras.utils.to_categorical(y_test, num_classes)"
      ],
      "execution_count": 5,
      "outputs": []
    },
    {
      "cell_type": "code",
      "metadata": {
        "id": "WgVpBXH0_XtW"
      },
      "source": [
        "x_train = x_train.astype('float32')\n",
        "x_test = x_test.astype('float32')\n",
        "x_train /= 255\n",
        "x_test /= 255"
      ],
      "execution_count": 6,
      "outputs": []
    },
    {
      "cell_type": "code",
      "metadata": {
        "id": "3gVH5O4HBurk",
        "colab": {
          "base_uri": "https://localhost:8080/"
        },
        "outputId": "588ac009-893d-4b3f-bbc0-2cd5f52b9a93"
      },
      "source": [
        "# конфигурирование слоев нейросети\n",
        "model = Sequential()\n",
        "\n",
        "# слои нейросети отвественные за свертку и max-pooling\n",
        "model.add(Conv2D(32, (3, 3), padding='same',\n",
        "                 input_shape=x_train.shape[1:]))\n",
        "model.add(Activation('relu'))\n",
        "model.add(Conv2D(32, (3, 3)))\n",
        "model.add(Activation('relu'))\n",
        "model.add(MaxPooling2D(pool_size=(2, 2)))\n",
        "model.add(Dropout(0.25))\n",
        "\n",
        "model.add(Conv2D(64, (3, 3), padding='same'))\n",
        "model.add(Activation('relu'))\n",
        "model.add(Conv2D(64, (3, 3)))\n",
        "model.add(Activation('relu'))\n",
        "model.add(MaxPooling2D(pool_size=(2, 2)))\n",
        "model.add(Dropout(0.25))\n",
        "\n",
        "# полносвязные слои нейронной сети\n",
        "model.add(Flatten())\n",
        "model.add(Dense(512))\n",
        "model.add(Activation('relu'))\n",
        "model.add(Dropout(0.5))\n",
        "model.add(Dense(num_classes))\n",
        "model.add(Activation('softmax'))\n",
        "\n",
        "# инициализация RMSprop optimizer\n",
        "opt = keras.optimizers.RMSprop(lr=0.0001, decay=1e-6)\n",
        "\n",
        "# компиляция модели\n",
        "model.compile(loss='categorical_crossentropy',\n",
        "              optimizer=opt,\n",
        "              metrics=['accuracy'])\n",
        "\n",
        "\n",
        "if not data_augmentation:\n",
        "    print('Не используется data augmentation')\n",
        "    model.fit(x_train, y_train,\n",
        "              batch_size=batch_size,\n",
        "              epochs=epochs,\n",
        "              validation_data=(x_test, y_test),\n",
        "              shuffle=True)\n",
        "else:\n",
        "    print('Использование data augmentation в реальном времени')\n",
        "    # Препроцессинг и data augmentation в реальном времени:\n",
        "    datagen = ImageDataGenerator(\n",
        "        featurewise_center=False,\n",
        "        samplewise_center=False,\n",
        "        featurewise_std_normalization=False,\n",
        "        samplewise_std_normalization=False,\n",
        "        zca_whitening=False, \n",
        "        zca_epsilon=1e-06, \n",
        "        rotation_range=0, \n",
        "        width_shift_range=0.1,\n",
        "        height_shift_range=0.1,\n",
        "        shear_range=0., \n",
        "        zoom_range=0., \n",
        "        channel_shift_range=0.,\n",
        "        fill_mode='nearest',\n",
        "        cval=0.,\n",
        "        horizontal_flip=True,\n",
        "        vertical_flip=False,\n",
        "        rescale=None,\n",
        "        preprocessing_function=None,\n",
        "        data_format=None,\n",
        "        validation_split=0.0)\n",
        "\n",
        "    # запуск data augmentation через fit\n",
        "    #datagen.fit(x_train)\n",
        "\n",
        "    # запуск data augmentation через fit_generator\n",
        "    model.fit_generator(datagen.flow(x_train, y_train,\n",
        "                                     batch_size=batch_size),\n",
        "                        epochs=epochs,\n",
        "                        validation_data=(x_test, y_test),\n",
        "                        workers=4)\n",
        "\n",
        "\n",
        "# проверка работы обученной модели\n",
        "scores = model.evaluate(x_test, y_test, verbose=1)\n",
        "print('Test loss:', scores[0])\n",
        "print('Test accuracy:', scores[1])"
      ],
      "execution_count": 7,
      "outputs": [
        {
          "output_type": "stream",
          "text": [
            "Использование data augmentation в реальном времени\n",
            "Epoch 1/5\n"
          ],
          "name": "stdout"
        },
        {
          "output_type": "stream",
          "text": [
            "/usr/local/lib/python3.6/dist-packages/tensorflow/python/keras/engine/training.py:1844: UserWarning: `Model.fit_generator` is deprecated and will be removed in a future version. Please use `Model.fit`, which supports generators.\n",
            "  warnings.warn('`Model.fit_generator` is deprecated and '\n"
          ],
          "name": "stderr"
        },
        {
          "output_type": "stream",
          "text": [
            "1563/1563 [==============================] - 35s 20ms/step - loss: 2.0326 - accuracy: 0.2470 - val_loss: 1.5793 - val_accuracy: 0.4367\n",
            "Epoch 2/5\n",
            "1563/1563 [==============================] - 31s 20ms/step - loss: 1.6435 - accuracy: 0.4007 - val_loss: 1.4053 - val_accuracy: 0.4925\n",
            "Epoch 3/5\n",
            "1563/1563 [==============================] - 31s 20ms/step - loss: 1.5123 - accuracy: 0.4494 - val_loss: 1.3070 - val_accuracy: 0.5344\n",
            "Epoch 4/5\n",
            "1563/1563 [==============================] - 32s 21ms/step - loss: 1.4154 - accuracy: 0.4911 - val_loss: 1.2484 - val_accuracy: 0.5591\n",
            "Epoch 5/5\n",
            "1563/1563 [==============================] - 31s 20ms/step - loss: 1.3370 - accuracy: 0.5194 - val_loss: 1.2226 - val_accuracy: 0.5727\n",
            "313/313 [==============================] - 1s 3ms/step - loss: 1.2226 - accuracy: 0.5727\n",
            "Test loss: 1.2225855588912964\n",
            "Test accuracy: 0.572700023651123\n"
          ],
          "name": "stdout"
        }
      ]
    },
    {
      "cell_type": "code",
      "metadata": {
        "id": "1qzh-Cv4z8Qn",
        "colab": {
          "base_uri": "https://localhost:8080/",
          "height": 281
        },
        "outputId": "b1434787-1798-4f4e-ae38-feb0e1073d1b"
      },
      "source": [
        "N = 83\n",
        "y_p=model.predict(x_test[N:N+1][:,:,:])\n",
        "y_t = np.argmax(y_test[N:N+1], axis = 1 )\n",
        "y_i = np.argmax(y_p, axis = 1 )\n",
        "plt.imshow(x_test[N][:,:,:])\n",
        "plt.title('это : '+classes[y_t[0]]+'- опознан как : '+classes[y_i[0]])\n",
        "plt.show()"
      ],
      "execution_count": 8,
      "outputs": [
        {
          "output_type": "display_data",
          "data": {
            "image/png": "[encoded data removed]",
            "text/plain": [
              "<Figure size 432x288 with 1 Axes>"
            ]
          },
          "metadata": {
            "tags": [],
            "needs_background": "light"
          }
        }
      ]
    },
    {
      "cell_type": "code",
      "metadata": {
        "id": "MD6C_QsyRLw6",
        "colab": {
          "base_uri": "https://localhost:8080/"
        },
        "outputId": "ae5d91c2-160e-4787-8c24-4bea1e1031ad"
      },
      "source": [
        "x_train.shape[1:]"
      ],
      "execution_count": 9,
      "outputs": [
        {
          "output_type": "execute_result",
          "data": {
            "text/plain": [
              "(32, 32, 3)"
            ]
          },
          "metadata": {
            "tags": []
          },
          "execution_count": 9
        }
      ]
    },
    {
      "cell_type": "markdown",
      "metadata": {
        "id": "aZERlzFpy1SV"
      },
      "source": [
        "Попробуем сделать несколько нитей:"
      ]
    },
    {
      "cell_type": "code",
      "metadata": {
        "id": "q-anGZ4Sykno"
      },
      "source": [
        "first_input = Input(shape=x_train.shape[1:])\n",
        "x11 = Conv2D(32, (3, 3), padding='same', activation='relu')(first_input)\n",
        "x11 = Conv2D(32, (3, 3), activation='relu')(x11)\n",
        "x11 = MaxPooling2D(pool_size=(2, 2))(x11)\n",
        "x11 = Dropout(0.25)(x11)\n",
        "\n",
        "x11 = Conv2D(64, (3, 3), padding='same', activation='relu')(x11)\n",
        "x11 = Conv2D(64, (3, 3), activation='relu')(x11)\n",
        "first = MaxPooling2D(pool_size=(2, 2))(x11)\n",
        "\n",
        "\n",
        "x22 = Conv2D(32, (3, 3), padding='same', activation='relu')(first_input)\n",
        "x22 = Conv2D(32, (3, 3), activation='relu')(x22)\n",
        "x22 = MaxPooling2D(pool_size=(2, 2))(x22)\n",
        "x22 = Dropout(0.25)(x22)\n",
        "\n",
        "x22 = Conv2D(64, (3, 3), padding='same', activation='relu')(x22)\n",
        "x22 = Conv2D(64, (3, 3), activation='relu')(x22)\n",
        "second = MaxPooling2D(pool_size=(2, 2))(x22)\n",
        "\n",
        "merge_one = Concatenate()([first, second])\n",
        "\n",
        "x = Flatten()(merge_one)\n",
        "x = Dense(512, activation='relu')(x)\n",
        "x = Dropout(0.5)(x)\n",
        "x = Dense(num_classes, activation='softmax')(x)\n",
        "\n",
        "model2 = Model(inputs=first_input, outputs=x)"
      ],
      "execution_count": 10,
      "outputs": []
    },
    {
      "cell_type": "code",
      "metadata": {
        "id": "N2Ff3WN2-cs3"
      },
      "source": [
        "# компиляция модели\n",
        "model2.compile(loss='categorical_crossentropy',\n",
        "              optimizer='SGD',\n",
        "              metrics=['accuracy'])"
      ],
      "execution_count": 11,
      "outputs": []
    },
    {
      "cell_type": "code",
      "metadata": {
        "id": "ti0KFybN_riN",
        "colab": {
          "base_uri": "https://localhost:8080/",
          "height": 1000
        },
        "outputId": "9db80ae9-adca-4dda-dc45-1e27dd0bcbce"
      },
      "source": [
        "plot_model(model2, 'model2.png')"
      ],
      "execution_count": 12,
      "outputs": [
        {
          "output_type": "execute_result",
          "data": {
            "image/png": "[encoded data removed]",
            "text/plain": [
              "<IPython.core.display.Image object>"
            ]
          },
          "metadata": {
            "tags": []
          },
          "execution_count": 12
        }
      ]
    },
    {
      "cell_type": "code",
      "metadata": {
        "id": "0WyPo34ITbk2",
        "colab": {
          "base_uri": "https://localhost:8080/"
        },
        "outputId": "c96ddb3b-47f2-4be9-859a-735d459a5829"
      },
      "source": [
        "model2.summary()"
      ],
      "execution_count": 13,
      "outputs": [
        {
          "output_type": "stream",
          "text": [
            "Model: \"model\"\n",
            "__________________________________________________________________________________________________\n",
            "Layer (type)                    Output Shape         Param #     Connected to                     \n",
            "==================================================================================================\n",
            "input_1 (InputLayer)            [(None, 32, 32, 3)]  0                                            \n",
            "__________________________________________________________________________________________________\n",
            "conv2d_4 (Conv2D)               (None, 32, 32, 32)   896         input_1[0][0]                    \n",
            "__________________________________________________________________________________________________\n",
            "conv2d_8 (Conv2D)               (None, 32, 32, 32)   896         input_1[0][0]                    \n",
            "__________________________________________________________________________________________________\n",
            "conv2d_5 (Conv2D)               (None, 30, 30, 32)   9248        conv2d_4[0][0]                   \n",
            "__________________________________________________________________________________________________\n",
            "conv2d_9 (Conv2D)               (None, 30, 30, 32)   9248        conv2d_8[0][0]                   \n",
            "__________________________________________________________________________________________________\n",
            "max_pooling2d_2 (MaxPooling2D)  (None, 15, 15, 32)   0           conv2d_5[0][0]                   \n",
            "__________________________________________________________________________________________________\n",
            "max_pooling2d_4 (MaxPooling2D)  (None, 15, 15, 32)   0           conv2d_9[0][0]                   \n",
            "__________________________________________________________________________________________________\n",
            "dropout_3 (Dropout)             (None, 15, 15, 32)   0           max_pooling2d_2[0][0]            \n",
            "__________________________________________________________________________________________________\n",
            "dropout_4 (Dropout)             (None, 15, 15, 32)   0           max_pooling2d_4[0][0]            \n",
            "__________________________________________________________________________________________________\n",
            "conv2d_6 (Conv2D)               (None, 15, 15, 64)   18496       dropout_3[0][0]                  \n",
            "__________________________________________________________________________________________________\n",
            "conv2d_10 (Conv2D)              (None, 15, 15, 64)   18496       dropout_4[0][0]                  \n",
            "__________________________________________________________________________________________________\n",
            "conv2d_7 (Conv2D)               (None, 13, 13, 64)   36928       conv2d_6[0][0]                   \n",
            "__________________________________________________________________________________________________\n",
            "conv2d_11 (Conv2D)              (None, 13, 13, 64)   36928       conv2d_10[0][0]                  \n",
            "__________________________________________________________________________________________________\n",
            "max_pooling2d_3 (MaxPooling2D)  (None, 6, 6, 64)     0           conv2d_7[0][0]                   \n",
            "__________________________________________________________________________________________________\n",
            "max_pooling2d_5 (MaxPooling2D)  (None, 6, 6, 64)     0           conv2d_11[0][0]                  \n",
            "__________________________________________________________________________________________________\n",
            "concatenate (Concatenate)       (None, 6, 6, 128)    0           max_pooling2d_3[0][0]            \n",
            "                                                                 max_pooling2d_5[0][0]            \n",
            "__________________________________________________________________________________________________\n",
            "flatten_1 (Flatten)             (None, 4608)         0           concatenate[0][0]                \n",
            "__________________________________________________________________________________________________\n",
            "dense_2 (Dense)                 (None, 512)          2359808     flatten_1[0][0]                  \n",
            "__________________________________________________________________________________________________\n",
            "dropout_5 (Dropout)             (None, 512)          0           dense_2[0][0]                    \n",
            "__________________________________________________________________________________________________\n",
            "dense_3 (Dense)                 (None, 10)           5130        dropout_5[0][0]                  \n",
            "==================================================================================================\n",
            "Total params: 2,496,074\n",
            "Trainable params: 2,496,074\n",
            "Non-trainable params: 0\n",
            "__________________________________________________________________________________________________\n"
          ],
          "name": "stdout"
        }
      ]
    },
    {
      "cell_type": "code",
      "metadata": {
        "id": "akxejIBESkgD"
      },
      "source": [
        "data_augmentation = False"
      ],
      "execution_count": 14,
      "outputs": []
    },
    {
      "cell_type": "code",
      "metadata": {
        "id": "YQpB2_ZFVmTL"
      },
      "source": [
        "batch_size = 32\r\n",
        "num_classes = 10\r\n",
        "epochs = 5\r\n",
        "num_predictions = 20"
      ],
      "execution_count": 15,
      "outputs": []
    },
    {
      "cell_type": "code",
      "metadata": {
        "id": "bdDPCw4G57Og",
        "colab": {
          "base_uri": "https://localhost:8080/",
          "height": 415
        },
        "outputId": "e51fe566-8a35-4e92-88a8-b09550f79693"
      },
      "source": [
        "if not data_augmentation:\n",
        "    print('Не используется data augmentation')\n",
        "    model2.fit(x_train, y_train, \n",
        "                batch_size=batch_size,\n",
        "                epochs=epochs,\n",
        "                validation_data=(x_test, y_test),\n",
        "                shuffle=True)\n",
        "    \n",
        "else:\n",
        "    print('Использование data augmentation в реальном времени')\n",
        "    # Препроцессинг и data augmentation в реальном времени:\n",
        "    datagen = ImageDataGenerator(\n",
        "        featurewise_center=False,\n",
        "        samplewise_center=False,\n",
        "        featurewise_std_normalization=False,\n",
        "        samplewise_std_normalization=False,\n",
        "        zca_whitening=False, \n",
        "        zca_epsilon=1e-06, \n",
        "        rotation_range=0, \n",
        "        width_shift_range=0.1,\n",
        "        height_shift_range=0.1,\n",
        "        shear_range=0., \n",
        "        zoom_range=0., \n",
        "        channel_shift_range=0.,\n",
        "        fill_mode='nearest',\n",
        "        cval=0.,\n",
        "        horizontal_flip=True,\n",
        "        vertical_flip=False,\n",
        "        rescale=None,\n",
        "        preprocessing_function=None,\n",
        "        data_format=None,\n",
        "        validation_split=0.0)\n",
        "\n",
        "    # запуск data augmentation через fit_generator\n",
        "    model2.fit_generator(datagen.flow(x_train, y_train,\n",
        "                                     batch_size=batch_size),\n",
        "                        epochs=epochs,\n",
        "                        validation_data=(x_test, y_test),\n",
        "                        workers=4)"
      ],
      "execution_count": 21,
      "outputs": [
        {
          "output_type": "stream",
          "text": [
            "Не используется data augmentation\n",
            "Epoch 1/5\n"
          ],
          "name": "stdout"
        },
        {
          "output_type": "error",
          "ename": "TypeError",
          "evalue": "ignored",
          "traceback": [
            "\u001b[0;31m---------------------------------------------------------------------------\u001b[0m",
            "\u001b[0;31mTypeError\u001b[0m                                 Traceback (most recent call last)",
            "\u001b[0;32m<ipython-input-21-4a57078e3ec2>\u001b[0m in \u001b[0;36m<module>\u001b[0;34m()\u001b[0m\n\u001b[1;32m      5\u001b[0m                 \u001b[0mepochs\u001b[0m\u001b[0;34m=\u001b[0m\u001b[0mepochs\u001b[0m\u001b[0;34m,\u001b[0m\u001b[0;34m\u001b[0m\u001b[0;34m\u001b[0m\u001b[0m\n\u001b[1;32m      6\u001b[0m                 \u001b[0mvalidation_data\u001b[0m\u001b[0;34m=\u001b[0m\u001b[0;34m(\u001b[0m\u001b[0mx_test\u001b[0m\u001b[0;34m,\u001b[0m \u001b[0my_test\u001b[0m\u001b[0;34m)\u001b[0m\u001b[0;34m,\u001b[0m\u001b[0;34m\u001b[0m\u001b[0;34m\u001b[0m\u001b[0m\n\u001b[0;32m----> 7\u001b[0;31m                 shuffle=True)\n\u001b[0m\u001b[1;32m      8\u001b[0m \u001b[0;34m\u001b[0m\u001b[0m\n\u001b[1;32m      9\u001b[0m \u001b[0;32melse\u001b[0m\u001b[0;34m:\u001b[0m\u001b[0;34m\u001b[0m\u001b[0;34m\u001b[0m\u001b[0m\n",
            "\u001b[0;32m/usr/local/lib/python3.6/dist-packages/tensorflow/python/keras/engine/training.py\u001b[0m in \u001b[0;36mfit\u001b[0;34m(self, x, y, batch_size, epochs, verbose, callbacks, validation_split, validation_data, shuffle, class_weight, sample_weight, initial_epoch, steps_per_epoch, validation_steps, validation_batch_size, validation_freq, max_queue_size, workers, use_multiprocessing)\u001b[0m\n\u001b[1;32m   1098\u001b[0m                 _r=1):\n\u001b[1;32m   1099\u001b[0m               \u001b[0mcallbacks\u001b[0m\u001b[0;34m.\u001b[0m\u001b[0mon_train_batch_begin\u001b[0m\u001b[0;34m(\u001b[0m\u001b[0mstep\u001b[0m\u001b[0;34m)\u001b[0m\u001b[0;34m\u001b[0m\u001b[0;34m\u001b[0m\u001b[0m\n\u001b[0;32m-> 1100\u001b[0;31m               \u001b[0mtmp_logs\u001b[0m \u001b[0;34m=\u001b[0m \u001b[0mself\u001b[0m\u001b[0;34m.\u001b[0m\u001b[0mtrain_function\u001b[0m\u001b[0;34m(\u001b[0m\u001b[0miterator\u001b[0m\u001b[0;34m)\u001b[0m\u001b[0;34m\u001b[0m\u001b[0;34m\u001b[0m\u001b[0m\n\u001b[0m\u001b[1;32m   1101\u001b[0m               \u001b[0;32mif\u001b[0m \u001b[0mdata_handler\u001b[0m\u001b[0;34m.\u001b[0m\u001b[0mshould_sync\u001b[0m\u001b[0;34m:\u001b[0m\u001b[0;34m\u001b[0m\u001b[0;34m\u001b[0m\u001b[0m\n\u001b[1;32m   1102\u001b[0m                 \u001b[0mcontext\u001b[0m\u001b[0;34m.\u001b[0m\u001b[0masync_wait\u001b[0m\u001b[0;34m(\u001b[0m\u001b[0;34m)\u001b[0m\u001b[0;34m\u001b[0m\u001b[0;34m\u001b[0m\u001b[0m\n",
            "\u001b[0;32m/usr/local/lib/python3.6/dist-packages/tensorflow/python/eager/def_function.py\u001b[0m in \u001b[0;36m__call__\u001b[0;34m(self, *args, **kwds)\u001b[0m\n\u001b[1;32m    826\u001b[0m     \u001b[0mtracing_count\u001b[0m \u001b[0;34m=\u001b[0m \u001b[0mself\u001b[0m\u001b[0;34m.\u001b[0m\u001b[0mexperimental_get_tracing_count\u001b[0m\u001b[0;34m(\u001b[0m\u001b[0;34m)\u001b[0m\u001b[0;34m\u001b[0m\u001b[0;34m\u001b[0m\u001b[0m\n\u001b[1;32m    827\u001b[0m     \u001b[0;32mwith\u001b[0m \u001b[0mtrace\u001b[0m\u001b[0;34m.\u001b[0m\u001b[0mTrace\u001b[0m\u001b[0;34m(\u001b[0m\u001b[0mself\u001b[0m\u001b[0;34m.\u001b[0m\u001b[0m_name\u001b[0m\u001b[0;34m)\u001b[0m \u001b[0;32mas\u001b[0m \u001b[0mtm\u001b[0m\u001b[0;34m:\u001b[0m\u001b[0;34m\u001b[0m\u001b[0;34m\u001b[0m\u001b[0m\n\u001b[0;32m--> 828\u001b[0;31m       \u001b[0mresult\u001b[0m \u001b[0;34m=\u001b[0m \u001b[0mself\u001b[0m\u001b[0;34m.\u001b[0m\u001b[0m_call\u001b[0m\u001b[0;34m(\u001b[0m\u001b[0;34m*\u001b[0m\u001b[0margs\u001b[0m\u001b[0;34m,\u001b[0m \u001b[0;34m**\u001b[0m\u001b[0mkwds\u001b[0m\u001b[0;34m)\u001b[0m\u001b[0;34m\u001b[0m\u001b[0;34m\u001b[0m\u001b[0m\n\u001b[0m\u001b[1;32m    829\u001b[0m       \u001b[0mcompiler\u001b[0m \u001b[0;34m=\u001b[0m \u001b[0;34m\"xla\"\u001b[0m \u001b[0;32mif\u001b[0m \u001b[0mself\u001b[0m\u001b[0;34m.\u001b[0m\u001b[0m_experimental_compile\u001b[0m \u001b[0;32melse\u001b[0m \u001b[0;34m\"nonXla\"\u001b[0m\u001b[0;34m\u001b[0m\u001b[0;34m\u001b[0m\u001b[0m\n\u001b[1;32m    830\u001b[0m       \u001b[0mnew_tracing_count\u001b[0m \u001b[0;34m=\u001b[0m \u001b[0mself\u001b[0m\u001b[0;34m.\u001b[0m\u001b[0mexperimental_get_tracing_count\u001b[0m\u001b[0;34m(\u001b[0m\u001b[0;34m)\u001b[0m\u001b[0;34m\u001b[0m\u001b[0;34m\u001b[0m\u001b[0m\n",
            "\u001b[0;32m/usr/local/lib/python3.6/dist-packages/tensorflow/python/eager/def_function.py\u001b[0m in \u001b[0;36m_call\u001b[0;34m(self, *args, **kwds)\u001b[0m\n\u001b[1;32m    853\u001b[0m       \u001b[0;31m# In this case we have created variables on the first call, so we run the\u001b[0m\u001b[0;34m\u001b[0m\u001b[0;34m\u001b[0m\u001b[0;34m\u001b[0m\u001b[0m\n\u001b[1;32m    854\u001b[0m       \u001b[0;31m# defunned version which is guaranteed to never create variables.\u001b[0m\u001b[0;34m\u001b[0m\u001b[0;34m\u001b[0m\u001b[0;34m\u001b[0m\u001b[0m\n\u001b[0;32m--> 855\u001b[0;31m       \u001b[0;32mreturn\u001b[0m \u001b[0mself\u001b[0m\u001b[0;34m.\u001b[0m\u001b[0m_stateless_fn\u001b[0m\u001b[0;34m(\u001b[0m\u001b[0;34m*\u001b[0m\u001b[0margs\u001b[0m\u001b[0;34m,\u001b[0m \u001b[0;34m**\u001b[0m\u001b[0mkwds\u001b[0m\u001b[0;34m)\u001b[0m  \u001b[0;31m# pylint: disable=not-callable\u001b[0m\u001b[0;34m\u001b[0m\u001b[0;34m\u001b[0m\u001b[0m\n\u001b[0m\u001b[1;32m    856\u001b[0m     \u001b[0;32melif\u001b[0m \u001b[0mself\u001b[0m\u001b[0;34m.\u001b[0m\u001b[0m_stateful_fn\u001b[0m \u001b[0;32mis\u001b[0m \u001b[0;32mnot\u001b[0m \u001b[0;32mNone\u001b[0m\u001b[0;34m:\u001b[0m\u001b[0;34m\u001b[0m\u001b[0;34m\u001b[0m\u001b[0m\n\u001b[1;32m    857\u001b[0m       \u001b[0;31m# Release the lock early so that multiple threads can perform the call\u001b[0m\u001b[0;34m\u001b[0m\u001b[0;34m\u001b[0m\u001b[0;34m\u001b[0m\u001b[0m\n",
            "\u001b[0;31mTypeError\u001b[0m: 'NoneType' object is not callable"
          ]
        }
      ]
    },
    {
      "cell_type": "code",
      "metadata": {
        "id": "bTEKpPxv-TOh"
      },
      "source": [
        "# проверка работы обученной модели\r\n",
        "scores = model2.evaluate([x_test, x_test], y_test, verbose=1)\r\n",
        "print('Test loss:', scores[0])\r\n",
        "print('Test accuracy:', scores[1])"
      ],
      "execution_count": null,
      "outputs": []
    },
    {
      "cell_type": "code",
      "metadata": {
        "id": "SY9rTmdvTINr"
      },
      "source": [
        "N = 83\r\n",
        "y_p=model2.predict([x_test[N:N+1][:,:,:], x_test[N:N+1][:,:,:]])\r\n",
        "y_t = np.argmax(y_test[N:N+1], axis = 1 )\r\n",
        "y_i = np.argmax(y_p, axis = 1 )\r\n",
        "plt.imshow(x_test[N][:,:,:])\r\n",
        "plt.title('это : '+classes[y_t[0]]+'- опознан как : '+classes[y_i[0]])\r\n",
        "plt.show()"
      ],
      "execution_count": null,
      "outputs": []
    },
    {
      "cell_type": "code",
      "metadata": {
        "id": "yGWDYQqFXAfq"
      },
      "source": [
        "first_input = Input(shape=x_train.shape[1:])\r\n",
        "x11 = Conv2D(32, (3, 3), padding='same', activation='relu')(first_input)\r\n",
        "x11 = Conv2D(32, (3, 3), activation='relu')(x11)\r\n",
        "x11 = MaxPooling2D(pool_size=(2, 2))(x11)\r\n",
        "x11 = Dropout(0.25)(x11)\r\n",
        "\r\n",
        "x11 = Conv2D(64, (3, 3), padding='same', activation='relu')(x11)\r\n",
        "x11 = Conv2D(128, (3, 3), activation='relu')(x11)\r\n",
        "first = MaxPooling2D(pool_size=(2, 2))(x11)\r\n",
        "\r\n",
        "\r\n",
        "second_input = Input(shape=x_train.shape[1:])\r\n",
        "x22 = Conv2D(32, (3, 3), padding='same', activation='relu')(second_input)\r\n",
        "x22 = Conv2D(32, (3, 3), activation='relu')(x22)\r\n",
        "x22 = MaxPooling2D(pool_size=(2, 2))(x22)\r\n",
        "x22 = Dropout(0.25)(x22)\r\n",
        "\r\n",
        "x22 = Conv2D(64, (3, 3), padding='same', activation='relu')(x22)\r\n",
        "x22 = Conv2D(128, (3, 3), activation='relu')(x22)\r\n",
        "second = MaxPooling2D(pool_size=(2, 2))(x22)\r\n",
        "\r\n",
        "merge_one = Concatenate()([first, second])\r\n",
        "\r\n",
        "x = Flatten()(merge_one)\r\n",
        "x = Dense(512, activation='relu')(x)\r\n",
        "x = Dropout(0.5)(x)\r\n",
        "x = Dense(num_classes, activation='softmax')(x)\r\n",
        "\r\n",
        "model3 = Model(inputs=[first_input, second_input], outputs=x)"
      ],
      "execution_count": null,
      "outputs": []
    },
    {
      "cell_type": "code",
      "metadata": {
        "id": "y3kwGkWjYlJ8"
      },
      "source": [
        "# компиляция модели\r\n",
        "model3.compile(loss='categorical_crossentropy',\r\n",
        "              optimizer='SGD',\r\n",
        "              metrics=['accuracy'])"
      ],
      "execution_count": null,
      "outputs": []
    },
    {
      "cell_type": "code",
      "metadata": {
        "id": "w5xkMPz7YpjM",
        "colab": {
          "base_uri": "https://localhost:8080/"
        },
        "outputId": "4205d5c9-29d7-4b18-b2b3-2191736da35a"
      },
      "source": [
        "print('Не используется data augmentation')\r\n",
        "model3.fit([x_train, x_train], y_train, \r\n",
        "            batch_size=batch_size,\r\n",
        "            epochs=epochs,\r\n",
        "            validation_data=([x_test, x_test], y_test),\r\n",
        "            shuffle=True)"
      ],
      "execution_count": null,
      "outputs": [
        {
          "output_type": "stream",
          "text": [
            "Не используется data augmentation\n",
            "Epoch 1/5\n",
            "1563/1563 [==============================] - 13s 8ms/step - loss: 2.1479 - accuracy: 0.1974 - val_loss: 1.7859 - val_accuracy: 0.3584\n",
            "Epoch 2/5\n",
            "1563/1563 [==============================] - 12s 8ms/step - loss: 1.7453 - accuracy: 0.3751 - val_loss: 1.5327 - val_accuracy: 0.4560\n",
            "Epoch 3/5\n",
            "1563/1563 [==============================] - 12s 8ms/step - loss: 1.5327 - accuracy: 0.4466 - val_loss: 1.3896 - val_accuracy: 0.5031\n",
            "Epoch 4/5\n",
            "1563/1563 [==============================] - 12s 8ms/step - loss: 1.4009 - accuracy: 0.4975 - val_loss: 1.2520 - val_accuracy: 0.5593\n",
            "Epoch 5/5\n",
            "1563/1563 [==============================] - 12s 8ms/step - loss: 1.2812 - accuracy: 0.5459 - val_loss: 1.1637 - val_accuracy: 0.5951\n"
          ],
          "name": "stdout"
        },
        {
          "output_type": "execute_result",
          "data": {
            "text/plain": [
              "<tensorflow.python.keras.callbacks.History at 0x7f17454afd30>"
            ]
          },
          "metadata": {
            "tags": []
          },
          "execution_count": 22
        }
      ]
    },
    {
      "cell_type": "code",
      "metadata": {
        "id": "DtDuFl3GYvyi",
        "colab": {
          "base_uri": "https://localhost:8080/"
        },
        "outputId": "e3eedc4d-2a97-478e-fd5d-fe42439e59b5"
      },
      "source": [
        "# проверка работы обученной модели\r\n",
        "scores = model3.evaluate([x_test, x_test], y_test, verbose=1)\r\n",
        "print('Test loss:', scores[0])\r\n",
        "print('Test accuracy:', scores[1])"
      ],
      "execution_count": null,
      "outputs": [
        {
          "output_type": "stream",
          "text": [
            "313/313 [==============================] - 1s 3ms/step - loss: 1.1637 - accuracy: 0.5951\n",
            "Test loss: 1.1637399196624756\n",
            "Test accuracy: 0.5950999855995178\n"
          ],
          "name": "stdout"
        }
      ]
    },
    {
      "cell_type": "code",
      "metadata": {
        "id": "dWDYtLGtY2ny",
        "colab": {
          "base_uri": "https://localhost:8080/",
          "height": 281
        },
        "outputId": "47cdf73d-6ca1-4b6c-f4f1-5d1d3e6ec673"
      },
      "source": [
        "N = 919\r\n",
        "y_p=model3.predict([x_test[N:N+1][:,:,:], x_test[N:N+1][:,:,:]])\r\n",
        "y_t = np.argmax(y_test[N:N+1], axis = 1 )\r\n",
        "y_i = np.argmax(y_p, axis = 1 )\r\n",
        "plt.imshow(x_test[N][:,:,:])\r\n",
        "plt.title('это : '+classes[y_t[0]]+'- опознан как : '+classes[y_i[0]])\r\n",
        "plt.show()"
      ],
      "execution_count": null,
      "outputs": [
        {
          "output_type": "display_data",
          "data": {
            "image/png": "[encoded data removed]",
            "text/plain": [
              "<Figure size 432x288 with 1 Axes>"
            ]
          },
          "metadata": {
            "tags": [],
            "needs_background": "light"
          }
        }
      ]
    },
    {
      "cell_type": "markdown",
      "metadata": {
        "id": "IJ0T8asXfPgJ"
      },
      "source": [
        "Есть небольшой рост метрики от увеличения ширины слоев"
      ]
    },
    {
      "cell_type": "code",
      "metadata": {
        "id": "fOkD1wX4Y6YR"
      },
      "source": [
        "first_input = Input(shape=x_train.shape[1:])\r\n",
        "x11 = Conv2D(32, (3, 3), padding='same', activation='relu')(first_input)\r\n",
        "x11 = Conv2D(32, (3, 3), activation='relu')(x11)\r\n",
        "x11 = MaxPooling2D(pool_size=(2, 2))(x11)\r\n",
        "x11 = Dropout(0.25)(x11)\r\n",
        "\r\n",
        "x11 = Conv2D(64, (3, 3), padding='same', activation='relu')(x11)\r\n",
        "x11 = Conv2D(64, (3, 3), activation='relu')(x11)\r\n",
        "first = MaxPooling2D(pool_size=(2, 2))(x11)\r\n",
        "\r\n",
        "\r\n",
        "second_input = Input(shape=x_train.shape[1:])\r\n",
        "x22 = Conv2D(32, (3, 3), padding='same', activation='relu')(second_input)\r\n",
        "x22 = Conv2D(32, (3, 3), activation='relu')(x22)\r\n",
        "x22 = MaxPooling2D(pool_size=(2, 2))(x22)\r\n",
        "x22 = Dropout(0.25)(x22)\r\n",
        "\r\n",
        "x22 = Conv2D(64, (3, 3), padding='same', activation='relu')(x22)\r\n",
        "x22 = Conv2D(64, (3, 3), activation='relu')(x22)\r\n",
        "second = MaxPooling2D(pool_size=(2, 2))(x22)\r\n",
        "\r\n",
        "third_input = Input(shape=x_train.shape[1:])\r\n",
        "x33 = Conv2D(32, (3, 3), padding='same', activation='relu')(third_input)\r\n",
        "x33 = Conv2D(32, (3, 3), activation='relu')(x33)\r\n",
        "x33 = MaxPooling2D(pool_size=(2, 2))(x33)\r\n",
        "x33 = Dropout(0.25)(x33)\r\n",
        "\r\n",
        "x33 = Conv2D(64, (3, 3), padding='same', activation='relu')(x33)\r\n",
        "x33 = Conv2D(64, (3, 3), activation='relu')(x33)\r\n",
        "third = MaxPooling2D(pool_size=(2, 2))(x33)\r\n",
        "\r\n",
        "\r\n",
        "merge_one = Concatenate()([first, second, third])\r\n",
        "\r\n",
        "x = Flatten()(merge_one)\r\n",
        "x = Dense(512, activation='relu')(x)\r\n",
        "x = Dropout(0.5)(x)\r\n",
        "x = Dense(num_classes, activation='softmax')(x)\r\n",
        "\r\n",
        "model4 = Model(inputs=[first_input, second_input, third_input], outputs=x)"
      ],
      "execution_count": null,
      "outputs": []
    },
    {
      "cell_type": "code",
      "metadata": {
        "id": "PTxgQEsff5S3"
      },
      "source": [
        "# компиляция модели\r\n",
        "model4.compile(loss='categorical_crossentropy',\r\n",
        "              optimizer='SGD',\r\n",
        "              metrics=['accuracy'])"
      ],
      "execution_count": null,
      "outputs": []
    },
    {
      "cell_type": "code",
      "metadata": {
        "colab": {
          "base_uri": "https://localhost:8080/"
        },
        "id": "_nDWTHXlf8gy",
        "outputId": "37741b62-16b9-4a12-97ff-2282df1100e2"
      },
      "source": [
        "print('Не используется data augmentation')\r\n",
        "model4.fit([x_train, x_train, x_train], y_train, \r\n",
        "            batch_size=batch_size,\r\n",
        "            epochs=epochs,\r\n",
        "            validation_data=([x_test, x_test, x_test], y_test),\r\n",
        "            shuffle=True)"
      ],
      "execution_count": null,
      "outputs": [
        {
          "output_type": "stream",
          "text": [
            "Не используется data augmentation\n",
            "Epoch 1/5\n",
            "1563/1563 [==============================] - 16s 10ms/step - loss: 2.1628 - accuracy: 0.1919 - val_loss: 1.7500 - val_accuracy: 0.3865\n",
            "Epoch 2/5\n",
            "1563/1563 [==============================] - 14s 9ms/step - loss: 1.7313 - accuracy: 0.3777 - val_loss: 1.4705 - val_accuracy: 0.4676\n",
            "Epoch 3/5\n",
            "1563/1563 [==============================] - 15s 9ms/step - loss: 1.4937 - accuracy: 0.4644 - val_loss: 1.3313 - val_accuracy: 0.5212\n",
            "Epoch 4/5\n",
            "1563/1563 [==============================] - 14s 9ms/step - loss: 1.3498 - accuracy: 0.5163 - val_loss: 1.1869 - val_accuracy: 0.5795\n",
            "Epoch 5/5\n",
            "1563/1563 [==============================] - 14s 9ms/step - loss: 1.2331 - accuracy: 0.5627 - val_loss: 1.1262 - val_accuracy: 0.6035\n"
          ],
          "name": "stdout"
        },
        {
          "output_type": "execute_result",
          "data": {
            "text/plain": [
              "<tensorflow.python.keras.callbacks.History at 0x7f1704d078d0>"
            ]
          },
          "metadata": {
            "tags": []
          },
          "execution_count": 39
        }
      ]
    },
    {
      "cell_type": "code",
      "metadata": {
        "colab": {
          "base_uri": "https://localhost:8080/"
        },
        "id": "_DET1Y5CgE2B",
        "outputId": "01c8a5a2-21cb-413f-ba24-46e746629fa6"
      },
      "source": [
        "# проверка работы обученной модели\r\n",
        "scores = model4.evaluate([x_test, x_test, x_test], y_test, verbose=1)\r\n",
        "print('Test loss:', scores[0])\r\n",
        "print('Test accuracy:', scores[1])"
      ],
      "execution_count": null,
      "outputs": [
        {
          "output_type": "stream",
          "text": [
            "313/313 [==============================] - 1s 4ms/step - loss: 1.1262 - accuracy: 0.6035\n",
            "Test loss: 1.1262311935424805\n",
            "Test accuracy: 0.6035000085830688\n"
          ],
          "name": "stdout"
        }
      ]
    },
    {
      "cell_type": "code",
      "metadata": {
        "colab": {
          "base_uri": "https://localhost:8080/",
          "height": 319
        },
        "id": "ZsWR3azqgJJB",
        "outputId": "ae4d2257-3697-4538-fcf6-eb842cfd1c88"
      },
      "source": [
        "N = 919\r\n",
        "y_p=model4.predict([x_test[N:N+1][:,:,:], x_test[N:N+1][:,:,:], x_test[N:N+1][:,:,:]])\r\n",
        "y_t = np.argmax(y_test[N:N+1], axis = 1 )\r\n",
        "y_i = np.argmax(y_p, axis = 1 )\r\n",
        "plt.imshow(x_test[N][:,:,:])\r\n",
        "plt.title('это : '+classes[y_t[0]]+'- опознан как : '+classes[y_i[0]])\r\n",
        "plt.show()"
      ],
      "execution_count": null,
      "outputs": [
        {
          "output_type": "stream",
          "text": [
            "WARNING:tensorflow:6 out of the last 6 calls to <function Model.make_predict_function.<locals>.predict_function at 0x7f1704ac77b8> triggered tf.function retracing. Tracing is expensive and the excessive number of tracings could be due to (1) creating @tf.function repeatedly in a loop, (2) passing tensors with different shapes, (3) passing Python objects instead of tensors. For (1), please define your @tf.function outside of the loop. For (2), @tf.function has experimental_relax_shapes=True option that relaxes argument shapes that can avoid unnecessary retracing. For (3), please refer to https://www.tensorflow.org/guide/function#controlling_retracing and https://www.tensorflow.org/api_docs/python/tf/function for  more details.\n"
          ],
          "name": "stdout"
        },
        {
          "output_type": "display_data",
          "data": {
            "image/png": "[encoded data removed]",
            "text/plain": [
              "<Figure size 432x288 with 1 Axes>"
            ]
          },
          "metadata": {
            "tags": [],
            "needs_background": "light"
          }
        }
      ]
    },
    {
      "cell_type": "markdown",
      "metadata": {
        "id": "Kuo2tqTriaQ0"
      },
      "source": [
        "Дополнительная ветвь улудшила метрику"
      ]
    },
    {
      "cell_type": "code",
      "metadata": {
        "id": "npjT7E5Mh-Wm"
      },
      "source": [
        "first_input = Input(shape=x_train.shape[1:])\r\n",
        "x11 = Conv2D(32, (5, 5), padding='same', activation='relu')(first_input)\r\n",
        "x11 = Conv2D(32, (5, 5), activation='relu')(x11)\r\n",
        "x11 = MaxPooling2D(pool_size=(2, 2))(x11)\r\n",
        "x11 = Dropout(0.25)(x11)\r\n",
        "\r\n",
        "x11 = Conv2D(32, (5, 5), padding='same', activation='relu')(x11)\r\n",
        "x11 = Conv2D(32, (5, 5), activation='relu')(x11)\r\n",
        "first = MaxPooling2D(pool_size=(2, 2))(x11)\r\n",
        "\r\n",
        "\r\n",
        "second_input = Input(shape=x_train.shape[1:])\r\n",
        "x22 = Conv2D(64, (5, 5), padding='same', activation='relu')(second_input)\r\n",
        "x22 = Conv2D(64, (5, 5), activation='relu')(x22)\r\n",
        "x22 = MaxPooling2D(pool_size=(2, 2))(x22)\r\n",
        "x22 = Dropout(0.25)(x22)\r\n",
        "\r\n",
        "x22 = Conv2D(64, (5, 5), padding='same', activation='relu')(x22)\r\n",
        "x22 = Conv2D(64, (5, 5), activation='relu')(x22)\r\n",
        "second = MaxPooling2D(pool_size=(2, 2))(x22)\r\n",
        "\r\n",
        "third_input = Input(shape=x_train.shape[1:])\r\n",
        "x33 = Conv2D(64, (5, 5), padding='same', activation='relu')(third_input)\r\n",
        "x33 = Conv2D(64, (5, 5), activation='relu')(x33)\r\n",
        "x33 = MaxPooling2D(pool_size=(2, 2))(x33)\r\n",
        "x33 = Dropout(0.25)(x33)\r\n",
        "\r\n",
        "x33 = Conv2D(128, (5, 5), padding='same', activation='relu')(x33)\r\n",
        "x33 = Conv2D(128, (5, 5), activation='relu')(x33)\r\n",
        "third = MaxPooling2D(pool_size=(2, 2))(x33)\r\n",
        "\r\n",
        "\r\n",
        "merge_one = Concatenate()([first, second, third])\r\n",
        "\r\n",
        "x = Flatten()(merge_one)\r\n",
        "x = Dense(512, activation='relu')(x)\r\n",
        "x = Dropout(0.5)(x)\r\n",
        "x = Dense(num_classes, activation='softmax')(x)\r\n",
        "\r\n",
        "model5 = Model(inputs=[first_input, second_input, third_input], outputs=x)"
      ],
      "execution_count": null,
      "outputs": []
    },
    {
      "cell_type": "code",
      "metadata": {
        "id": "52V6a6wVi2gC"
      },
      "source": [
        "# компиляция модели\r\n",
        "model5.compile(loss='categorical_crossentropy',\r\n",
        "              optimizer='SGD',\r\n",
        "              metrics=['accuracy'])"
      ],
      "execution_count": null,
      "outputs": []
    },
    {
      "cell_type": "code",
      "metadata": {
        "colab": {
          "base_uri": "https://localhost:8080/"
        },
        "id": "sbopu3_wi2gK",
        "outputId": "9d27616b-f7fd-4307-8d48-304ce2263a00"
      },
      "source": [
        "print('Не используется data augmentation')\r\n",
        "model5.fit([x_train, x_train, x_train], y_train, \r\n",
        "            batch_size=batch_size,\r\n",
        "            epochs=epochs,\r\n",
        "            validation_data=([x_test, x_test, x_test], y_test),\r\n",
        "            shuffle=True)"
      ],
      "execution_count": null,
      "outputs": [
        {
          "output_type": "stream",
          "text": [
            "Не используется data augmentation\n",
            "Epoch 1/5\n",
            "1563/1563 [==============================] - 27s 17ms/step - loss: 2.1305 - accuracy: 0.2090 - val_loss: 1.6628 - val_accuracy: 0.4076\n",
            "Epoch 2/5\n",
            "1563/1563 [==============================] - 26s 16ms/step - loss: 1.6215 - accuracy: 0.4136 - val_loss: 1.4102 - val_accuracy: 0.4957\n",
            "Epoch 3/5\n",
            "1563/1563 [==============================] - 25s 16ms/step - loss: 1.4265 - accuracy: 0.4858 - val_loss: 1.4286 - val_accuracy: 0.4955\n",
            "Epoch 4/5\n",
            "1563/1563 [==============================] - 25s 16ms/step - loss: 1.2979 - accuracy: 0.5399 - val_loss: 1.2774 - val_accuracy: 0.5499\n",
            "Epoch 5/5\n",
            "1563/1563 [==============================] - 26s 16ms/step - loss: 1.2009 - accuracy: 0.5764 - val_loss: 1.0976 - val_accuracy: 0.6090\n"
          ],
          "name": "stdout"
        },
        {
          "output_type": "execute_result",
          "data": {
            "text/plain": [
              "<tensorflow.python.keras.callbacks.History at 0x7ff9a57e2828>"
            ]
          },
          "metadata": {
            "tags": []
          },
          "execution_count": 23
        }
      ]
    },
    {
      "cell_type": "code",
      "metadata": {
        "colab": {
          "base_uri": "https://localhost:8080/"
        },
        "id": "lO7VbJDpi2gK",
        "outputId": "11d33cdc-700e-4a5c-b100-3c616b9c309c"
      },
      "source": [
        "# проверка работы обученной модели\r\n",
        "scores = model5.evaluate([x_test, x_test, x_test], y_test, verbose=1)\r\n",
        "print('Test loss:', scores[0])\r\n",
        "print('Test accuracy:', scores[1])"
      ],
      "execution_count": null,
      "outputs": [
        {
          "output_type": "stream",
          "text": [
            "313/313 [==============================] - 2s 6ms/step - loss: 1.0976 - accuracy: 0.6090\n",
            "Test loss: 1.0976313352584839\n",
            "Test accuracy: 0.609000027179718\n"
          ],
          "name": "stdout"
        }
      ]
    },
    {
      "cell_type": "code",
      "metadata": {
        "colab": {
          "base_uri": "https://localhost:8080/",
          "height": 281
        },
        "id": "zr01tJSli2gL",
        "outputId": "116572f5-983e-4deb-94f3-20862ed5dd2f"
      },
      "source": [
        "N = 919\r\n",
        "y_p=model5.predict([x_test[N:N+1][:,:,:], x_test[N:N+1][:,:,:], x_test[N:N+1][:,:,:]])\r\n",
        "y_t = np.argmax(y_test[N:N+1], axis = 1 )\r\n",
        "y_i = np.argmax(y_p, axis = 1 )\r\n",
        "plt.imshow(x_test[N][:,:,:])\r\n",
        "plt.title('это : '+classes[y_t[0]]+'- опознан как : '+classes[y_i[0]])\r\n",
        "plt.show()"
      ],
      "execution_count": null,
      "outputs": [
        {
          "output_type": "display_data",
          "data": {
            "image/png": "[encoded data removed]",
            "text/plain": [
              "<Figure size 432x288 with 1 Axes>"
            ]
          },
          "metadata": {
            "tags": [],
            "needs_background": "light"
          }
        }
      ]
    },
    {
      "cell_type": "markdown",
      "metadata": {
        "id": "RHl8OYs4q76l"
      },
      "source": [
        "Попробуем дообучить последний вариант сети"
      ]
    },
    {
      "cell_type": "code",
      "metadata": {
        "id": "x9kGrg05rRak"
      },
      "source": [
        "epochs = 5"
      ],
      "execution_count": null,
      "outputs": []
    },
    {
      "cell_type": "code",
      "metadata": {
        "id": "H9jGZgL6i-Sn",
        "colab": {
          "base_uri": "https://localhost:8080/",
          "height": 817
        },
        "outputId": "720ff744-ed15-44ae-f11b-a9036ce53511"
      },
      "source": [
        "print('Использование data augmentation в реальном времени')\r\n",
        "# Препроцессинг и data augmentation в реальном времени:\r\n",
        "datagen = ImageDataGenerator(\r\n",
        "    featurewise_center=False,\r\n",
        "    samplewise_center=False,\r\n",
        "    featurewise_std_normalization=False,\r\n",
        "    samplewise_std_normalization=False,\r\n",
        "    zca_whitening=False, \r\n",
        "    zca_epsilon=1e-06, \r\n",
        "    rotation_range=0, \r\n",
        "    width_shift_range=0.1,\r\n",
        "    height_shift_range=0.1,\r\n",
        "    shear_range=0., \r\n",
        "    zoom_range=0., \r\n",
        "    channel_shift_range=0.,\r\n",
        "    fill_mode='nearest',\r\n",
        "    cval=0.,\r\n",
        "    horizontal_flip=True,\r\n",
        "    vertical_flip=False,\r\n",
        "    rescale=None,\r\n",
        "    preprocessing_function=None,\r\n",
        "    data_format=None,\r\n",
        "    validation_split=0.0)\r\n",
        "\r\n",
        "# запуск data augmentation через fit_generator\r\n",
        "model5.fit_generator(datagen.flow([x_train, x_train, x_train], y_train,\r\n",
        "                                  batch_size=batch_size),\r\n",
        "                    epochs=epochs,\r\n",
        "                    validation_data=([x_test, x_test, x_test], y_test),\r\n",
        "                    workers=4)"
      ],
      "execution_count": null,
      "outputs": [
        {
          "output_type": "stream",
          "text": [
            "Использование data augmentation в реальном времени\n",
            "Epoch 1/5\n"
          ],
          "name": "stdout"
        },
        {
          "output_type": "stream",
          "text": [
            "/usr/local/lib/python3.6/dist-packages/tensorflow/python/keras/engine/training.py:1844: UserWarning: `Model.fit_generator` is deprecated and will be removed in a future version. Please use `Model.fit`, which supports generators.\n",
            "  warnings.warn('`Model.fit_generator` is deprecated and '\n"
          ],
          "name": "stderr"
        },
        {
          "output_type": "error",
          "ename": "ValueError",
          "evalue": "ignored",
          "traceback": [
            "\u001b[0;31m---------------------------------------------------------------------------\u001b[0m",
            "\u001b[0;31mValueError\u001b[0m                                Traceback (most recent call last)",
            "\u001b[0;32m<ipython-input-30-d742055c39aa>\u001b[0m in \u001b[0;36m<module>\u001b[0;34m()\u001b[0m\n\u001b[1;32m     28\u001b[0m                     \u001b[0mepochs\u001b[0m\u001b[0;34m=\u001b[0m\u001b[0mepochs\u001b[0m\u001b[0;34m,\u001b[0m\u001b[0;34m\u001b[0m\u001b[0;34m\u001b[0m\u001b[0m\n\u001b[1;32m     29\u001b[0m                     \u001b[0mvalidation_data\u001b[0m\u001b[0;34m=\u001b[0m\u001b[0;34m(\u001b[0m\u001b[0;34m[\u001b[0m\u001b[0mx_test\u001b[0m\u001b[0;34m,\u001b[0m \u001b[0mx_test\u001b[0m\u001b[0;34m,\u001b[0m \u001b[0mx_test\u001b[0m\u001b[0;34m]\u001b[0m\u001b[0;34m,\u001b[0m \u001b[0my_test\u001b[0m\u001b[0;34m)\u001b[0m\u001b[0;34m,\u001b[0m\u001b[0;34m\u001b[0m\u001b[0;34m\u001b[0m\u001b[0m\n\u001b[0;32m---> 30\u001b[0;31m                     workers=4)\n\u001b[0m",
            "\u001b[0;32m/usr/local/lib/python3.6/dist-packages/tensorflow/python/keras/engine/training.py\u001b[0m in \u001b[0;36mfit_generator\u001b[0;34m(self, generator, steps_per_epoch, epochs, verbose, callbacks, validation_data, validation_steps, validation_freq, class_weight, max_queue_size, workers, use_multiprocessing, shuffle, initial_epoch)\u001b[0m\n\u001b[1;32m   1859\u001b[0m         \u001b[0muse_multiprocessing\u001b[0m\u001b[0;34m=\u001b[0m\u001b[0muse_multiprocessing\u001b[0m\u001b[0;34m,\u001b[0m\u001b[0;34m\u001b[0m\u001b[0;34m\u001b[0m\u001b[0m\n\u001b[1;32m   1860\u001b[0m         \u001b[0mshuffle\u001b[0m\u001b[0;34m=\u001b[0m\u001b[0mshuffle\u001b[0m\u001b[0;34m,\u001b[0m\u001b[0;34m\u001b[0m\u001b[0;34m\u001b[0m\u001b[0m\n\u001b[0;32m-> 1861\u001b[0;31m         initial_epoch=initial_epoch)\n\u001b[0m\u001b[1;32m   1862\u001b[0m \u001b[0;34m\u001b[0m\u001b[0m\n\u001b[1;32m   1863\u001b[0m   def evaluate_generator(self,\n",
            "\u001b[0;32m/usr/local/lib/python3.6/dist-packages/tensorflow/python/keras/engine/training.py\u001b[0m in \u001b[0;36mfit\u001b[0;34m(self, x, y, batch_size, epochs, verbose, callbacks, validation_split, validation_data, shuffle, class_weight, sample_weight, initial_epoch, steps_per_epoch, validation_steps, validation_batch_size, validation_freq, max_queue_size, workers, use_multiprocessing)\u001b[0m\n\u001b[1;32m   1098\u001b[0m                 _r=1):\n\u001b[1;32m   1099\u001b[0m               \u001b[0mcallbacks\u001b[0m\u001b[0;34m.\u001b[0m\u001b[0mon_train_batch_begin\u001b[0m\u001b[0;34m(\u001b[0m\u001b[0mstep\u001b[0m\u001b[0;34m)\u001b[0m\u001b[0;34m\u001b[0m\u001b[0;34m\u001b[0m\u001b[0m\n\u001b[0;32m-> 1100\u001b[0;31m               \u001b[0mtmp_logs\u001b[0m \u001b[0;34m=\u001b[0m \u001b[0mself\u001b[0m\u001b[0;34m.\u001b[0m\u001b[0mtrain_function\u001b[0m\u001b[0;34m(\u001b[0m\u001b[0miterator\u001b[0m\u001b[0;34m)\u001b[0m\u001b[0;34m\u001b[0m\u001b[0;34m\u001b[0m\u001b[0m\n\u001b[0m\u001b[1;32m   1101\u001b[0m               \u001b[0;32mif\u001b[0m \u001b[0mdata_handler\u001b[0m\u001b[0;34m.\u001b[0m\u001b[0mshould_sync\u001b[0m\u001b[0;34m:\u001b[0m\u001b[0;34m\u001b[0m\u001b[0;34m\u001b[0m\u001b[0m\n\u001b[1;32m   1102\u001b[0m                 \u001b[0mcontext\u001b[0m\u001b[0;34m.\u001b[0m\u001b[0masync_wait\u001b[0m\u001b[0;34m(\u001b[0m\u001b[0;34m)\u001b[0m\u001b[0;34m\u001b[0m\u001b[0;34m\u001b[0m\u001b[0m\n",
            "\u001b[0;32m/usr/local/lib/python3.6/dist-packages/tensorflow/python/eager/def_function.py\u001b[0m in \u001b[0;36m__call__\u001b[0;34m(self, *args, **kwds)\u001b[0m\n\u001b[1;32m    826\u001b[0m     \u001b[0mtracing_count\u001b[0m \u001b[0;34m=\u001b[0m \u001b[0mself\u001b[0m\u001b[0;34m.\u001b[0m\u001b[0mexperimental_get_tracing_count\u001b[0m\u001b[0;34m(\u001b[0m\u001b[0;34m)\u001b[0m\u001b[0;34m\u001b[0m\u001b[0;34m\u001b[0m\u001b[0m\n\u001b[1;32m    827\u001b[0m     \u001b[0;32mwith\u001b[0m \u001b[0mtrace\u001b[0m\u001b[0;34m.\u001b[0m\u001b[0mTrace\u001b[0m\u001b[0;34m(\u001b[0m\u001b[0mself\u001b[0m\u001b[0;34m.\u001b[0m\u001b[0m_name\u001b[0m\u001b[0;34m)\u001b[0m \u001b[0;32mas\u001b[0m \u001b[0mtm\u001b[0m\u001b[0;34m:\u001b[0m\u001b[0;34m\u001b[0m\u001b[0;34m\u001b[0m\u001b[0m\n\u001b[0;32m--> 828\u001b[0;31m       \u001b[0mresult\u001b[0m \u001b[0;34m=\u001b[0m \u001b[0mself\u001b[0m\u001b[0;34m.\u001b[0m\u001b[0m_call\u001b[0m\u001b[0;34m(\u001b[0m\u001b[0;34m*\u001b[0m\u001b[0margs\u001b[0m\u001b[0;34m,\u001b[0m \u001b[0;34m**\u001b[0m\u001b[0mkwds\u001b[0m\u001b[0;34m)\u001b[0m\u001b[0;34m\u001b[0m\u001b[0;34m\u001b[0m\u001b[0m\n\u001b[0m\u001b[1;32m    829\u001b[0m       \u001b[0mcompiler\u001b[0m \u001b[0;34m=\u001b[0m \u001b[0;34m\"xla\"\u001b[0m \u001b[0;32mif\u001b[0m \u001b[0mself\u001b[0m\u001b[0;34m.\u001b[0m\u001b[0m_experimental_compile\u001b[0m \u001b[0;32melse\u001b[0m \u001b[0;34m\"nonXla\"\u001b[0m\u001b[0;34m\u001b[0m\u001b[0;34m\u001b[0m\u001b[0m\n\u001b[1;32m    830\u001b[0m       \u001b[0mnew_tracing_count\u001b[0m \u001b[0;34m=\u001b[0m \u001b[0mself\u001b[0m\u001b[0;34m.\u001b[0m\u001b[0mexperimental_get_tracing_count\u001b[0m\u001b[0;34m(\u001b[0m\u001b[0;34m)\u001b[0m\u001b[0;34m\u001b[0m\u001b[0;34m\u001b[0m\u001b[0m\n",
            "\u001b[0;32m/usr/local/lib/python3.6/dist-packages/tensorflow/python/eager/def_function.py\u001b[0m in \u001b[0;36m_call\u001b[0;34m(self, *args, **kwds)\u001b[0m\n\u001b[1;32m    853\u001b[0m       \u001b[0;31m# In this case we have created variables on the first call, so we run the\u001b[0m\u001b[0;34m\u001b[0m\u001b[0;34m\u001b[0m\u001b[0;34m\u001b[0m\u001b[0m\n\u001b[1;32m    854\u001b[0m       \u001b[0;31m# defunned version which is guaranteed to never create variables.\u001b[0m\u001b[0;34m\u001b[0m\u001b[0;34m\u001b[0m\u001b[0;34m\u001b[0m\u001b[0m\n\u001b[0;32m--> 855\u001b[0;31m       \u001b[0;32mreturn\u001b[0m \u001b[0mself\u001b[0m\u001b[0;34m.\u001b[0m\u001b[0m_stateless_fn\u001b[0m\u001b[0;34m(\u001b[0m\u001b[0;34m*\u001b[0m\u001b[0margs\u001b[0m\u001b[0;34m,\u001b[0m \u001b[0;34m**\u001b[0m\u001b[0mkwds\u001b[0m\u001b[0;34m)\u001b[0m  \u001b[0;31m# pylint: disable=not-callable\u001b[0m\u001b[0;34m\u001b[0m\u001b[0;34m\u001b[0m\u001b[0m\n\u001b[0m\u001b[1;32m    856\u001b[0m     \u001b[0;32melif\u001b[0m \u001b[0mself\u001b[0m\u001b[0;34m.\u001b[0m\u001b[0m_stateful_fn\u001b[0m \u001b[0;32mis\u001b[0m \u001b[0;32mnot\u001b[0m \u001b[0;32mNone\u001b[0m\u001b[0;34m:\u001b[0m\u001b[0;34m\u001b[0m\u001b[0;34m\u001b[0m\u001b[0m\n\u001b[1;32m    857\u001b[0m       \u001b[0;31m# Release the lock early so that multiple threads can perform the call\u001b[0m\u001b[0;34m\u001b[0m\u001b[0;34m\u001b[0m\u001b[0;34m\u001b[0m\u001b[0m\n",
            "\u001b[0;32m/usr/local/lib/python3.6/dist-packages/tensorflow/python/eager/function.py\u001b[0m in \u001b[0;36m__call__\u001b[0;34m(self, *args, **kwargs)\u001b[0m\n\u001b[1;32m   2939\u001b[0m     \u001b[0;32mwith\u001b[0m \u001b[0mself\u001b[0m\u001b[0;34m.\u001b[0m\u001b[0m_lock\u001b[0m\u001b[0;34m:\u001b[0m\u001b[0;34m\u001b[0m\u001b[0;34m\u001b[0m\u001b[0m\n\u001b[1;32m   2940\u001b[0m       (graph_function,\n\u001b[0;32m-> 2941\u001b[0;31m        filtered_flat_args) = self._maybe_define_function(args, kwargs)\n\u001b[0m\u001b[1;32m   2942\u001b[0m     return graph_function._call_flat(\n\u001b[1;32m   2943\u001b[0m         filtered_flat_args, captured_inputs=graph_function.captured_inputs)  # pylint: disable=protected-access\n",
            "\u001b[0;32m/usr/local/lib/python3.6/dist-packages/tensorflow/python/eager/function.py\u001b[0m in \u001b[0;36m_maybe_define_function\u001b[0;34m(self, args, kwargs)\u001b[0m\n\u001b[1;32m   3356\u001b[0m               call_context_key in self._function_cache.missed):\n\u001b[1;32m   3357\u001b[0m             return self._define_function_with_shape_relaxation(\n\u001b[0;32m-> 3358\u001b[0;31m                 args, kwargs, flat_args, filtered_flat_args, cache_key_context)\n\u001b[0m\u001b[1;32m   3359\u001b[0m \u001b[0;34m\u001b[0m\u001b[0m\n\u001b[1;32m   3360\u001b[0m           \u001b[0mself\u001b[0m\u001b[0;34m.\u001b[0m\u001b[0m_function_cache\u001b[0m\u001b[0;34m.\u001b[0m\u001b[0mmissed\u001b[0m\u001b[0;34m.\u001b[0m\u001b[0madd\u001b[0m\u001b[0;34m(\u001b[0m\u001b[0mcall_context_key\u001b[0m\u001b[0;34m)\u001b[0m\u001b[0;34m\u001b[0m\u001b[0;34m\u001b[0m\u001b[0m\n",
            "\u001b[0;32m/usr/local/lib/python3.6/dist-packages/tensorflow/python/eager/function.py\u001b[0m in \u001b[0;36m_define_function_with_shape_relaxation\u001b[0;34m(self, args, kwargs, flat_args, filtered_flat_args, cache_key_context)\u001b[0m\n\u001b[1;32m   3278\u001b[0m \u001b[0;34m\u001b[0m\u001b[0m\n\u001b[1;32m   3279\u001b[0m     graph_function = self._create_graph_function(\n\u001b[0;32m-> 3280\u001b[0;31m         args, kwargs, override_flat_arg_shapes=relaxed_arg_shapes)\n\u001b[0m\u001b[1;32m   3281\u001b[0m     \u001b[0mself\u001b[0m\u001b[0;34m.\u001b[0m\u001b[0m_function_cache\u001b[0m\u001b[0;34m.\u001b[0m\u001b[0marg_relaxed\u001b[0m\u001b[0;34m[\u001b[0m\u001b[0mrank_only_cache_key\u001b[0m\u001b[0;34m]\u001b[0m \u001b[0;34m=\u001b[0m \u001b[0mgraph_function\u001b[0m\u001b[0;34m\u001b[0m\u001b[0;34m\u001b[0m\u001b[0m\n\u001b[1;32m   3282\u001b[0m \u001b[0;34m\u001b[0m\u001b[0m\n",
            "\u001b[0;32m/usr/local/lib/python3.6/dist-packages/tensorflow/python/eager/function.py\u001b[0m in \u001b[0;36m_create_graph_function\u001b[0;34m(self, args, kwargs, override_flat_arg_shapes)\u001b[0m\n\u001b[1;32m   3204\u001b[0m             \u001b[0marg_names\u001b[0m\u001b[0;34m=\u001b[0m\u001b[0marg_names\u001b[0m\u001b[0;34m,\u001b[0m\u001b[0;34m\u001b[0m\u001b[0;34m\u001b[0m\u001b[0m\n\u001b[1;32m   3205\u001b[0m             \u001b[0moverride_flat_arg_shapes\u001b[0m\u001b[0;34m=\u001b[0m\u001b[0moverride_flat_arg_shapes\u001b[0m\u001b[0;34m,\u001b[0m\u001b[0;34m\u001b[0m\u001b[0;34m\u001b[0m\u001b[0m\n\u001b[0;32m-> 3206\u001b[0;31m             capture_by_value=self._capture_by_value),\n\u001b[0m\u001b[1;32m   3207\u001b[0m         \u001b[0mself\u001b[0m\u001b[0;34m.\u001b[0m\u001b[0m_function_attributes\u001b[0m\u001b[0;34m,\u001b[0m\u001b[0;34m\u001b[0m\u001b[0;34m\u001b[0m\u001b[0m\n\u001b[1;32m   3208\u001b[0m         \u001b[0mfunction_spec\u001b[0m\u001b[0;34m=\u001b[0m\u001b[0mself\u001b[0m\u001b[0;34m.\u001b[0m\u001b[0mfunction_spec\u001b[0m\u001b[0;34m,\u001b[0m\u001b[0;34m\u001b[0m\u001b[0;34m\u001b[0m\u001b[0m\n",
            "\u001b[0;32m/usr/local/lib/python3.6/dist-packages/tensorflow/python/framework/func_graph.py\u001b[0m in \u001b[0;36mfunc_graph_from_py_func\u001b[0;34m(name, python_func, args, kwargs, signature, func_graph, autograph, autograph_options, add_control_dependencies, arg_names, op_return_value, collections, capture_by_value, override_flat_arg_shapes)\u001b[0m\n\u001b[1;32m    988\u001b[0m         \u001b[0m_\u001b[0m\u001b[0;34m,\u001b[0m \u001b[0moriginal_func\u001b[0m \u001b[0;34m=\u001b[0m \u001b[0mtf_decorator\u001b[0m\u001b[0;34m.\u001b[0m\u001b[0munwrap\u001b[0m\u001b[0;34m(\u001b[0m\u001b[0mpython_func\u001b[0m\u001b[0;34m)\u001b[0m\u001b[0;34m\u001b[0m\u001b[0;34m\u001b[0m\u001b[0m\n\u001b[1;32m    989\u001b[0m \u001b[0;34m\u001b[0m\u001b[0m\n\u001b[0;32m--> 990\u001b[0;31m       \u001b[0mfunc_outputs\u001b[0m \u001b[0;34m=\u001b[0m \u001b[0mpython_func\u001b[0m\u001b[0;34m(\u001b[0m\u001b[0;34m*\u001b[0m\u001b[0mfunc_args\u001b[0m\u001b[0;34m,\u001b[0m \u001b[0;34m**\u001b[0m\u001b[0mfunc_kwargs\u001b[0m\u001b[0;34m)\u001b[0m\u001b[0;34m\u001b[0m\u001b[0;34m\u001b[0m\u001b[0m\n\u001b[0m\u001b[1;32m    991\u001b[0m \u001b[0;34m\u001b[0m\u001b[0m\n\u001b[1;32m    992\u001b[0m       \u001b[0;31m# invariant: `func_outputs` contains only Tensors, CompositeTensors,\u001b[0m\u001b[0;34m\u001b[0m\u001b[0;34m\u001b[0m\u001b[0;34m\u001b[0m\u001b[0m\n",
            "\u001b[0;32m/usr/local/lib/python3.6/dist-packages/tensorflow/python/eager/def_function.py\u001b[0m in \u001b[0;36mwrapped_fn\u001b[0;34m(*args, **kwds)\u001b[0m\n\u001b[1;32m    632\u001b[0m             \u001b[0mxla_context\u001b[0m\u001b[0;34m.\u001b[0m\u001b[0mExit\u001b[0m\u001b[0;34m(\u001b[0m\u001b[0;34m)\u001b[0m\u001b[0;34m\u001b[0m\u001b[0;34m\u001b[0m\u001b[0m\n\u001b[1;32m    633\u001b[0m         \u001b[0;32melse\u001b[0m\u001b[0;34m:\u001b[0m\u001b[0;34m\u001b[0m\u001b[0;34m\u001b[0m\u001b[0m\n\u001b[0;32m--> 634\u001b[0;31m           \u001b[0mout\u001b[0m \u001b[0;34m=\u001b[0m \u001b[0mweak_wrapped_fn\u001b[0m\u001b[0;34m(\u001b[0m\u001b[0;34m)\u001b[0m\u001b[0;34m.\u001b[0m\u001b[0m__wrapped__\u001b[0m\u001b[0;34m(\u001b[0m\u001b[0;34m*\u001b[0m\u001b[0margs\u001b[0m\u001b[0;34m,\u001b[0m \u001b[0;34m**\u001b[0m\u001b[0mkwds\u001b[0m\u001b[0;34m)\u001b[0m\u001b[0;34m\u001b[0m\u001b[0;34m\u001b[0m\u001b[0m\n\u001b[0m\u001b[1;32m    635\u001b[0m         \u001b[0;32mreturn\u001b[0m \u001b[0mout\u001b[0m\u001b[0;34m\u001b[0m\u001b[0;34m\u001b[0m\u001b[0m\n\u001b[1;32m    636\u001b[0m \u001b[0;34m\u001b[0m\u001b[0m\n",
            "\u001b[0;32m/usr/local/lib/python3.6/dist-packages/tensorflow/python/framework/func_graph.py\u001b[0m in \u001b[0;36mwrapper\u001b[0;34m(*args, **kwargs)\u001b[0m\n\u001b[1;32m    975\u001b[0m           \u001b[0;32mexcept\u001b[0m \u001b[0mException\u001b[0m \u001b[0;32mas\u001b[0m \u001b[0me\u001b[0m\u001b[0;34m:\u001b[0m  \u001b[0;31m# pylint:disable=broad-except\u001b[0m\u001b[0;34m\u001b[0m\u001b[0;34m\u001b[0m\u001b[0m\n\u001b[1;32m    976\u001b[0m             \u001b[0;32mif\u001b[0m \u001b[0mhasattr\u001b[0m\u001b[0;34m(\u001b[0m\u001b[0me\u001b[0m\u001b[0;34m,\u001b[0m \u001b[0;34m\"ag_error_metadata\"\u001b[0m\u001b[0;34m)\u001b[0m\u001b[0;34m:\u001b[0m\u001b[0;34m\u001b[0m\u001b[0;34m\u001b[0m\u001b[0m\n\u001b[0;32m--> 977\u001b[0;31m               \u001b[0;32mraise\u001b[0m \u001b[0me\u001b[0m\u001b[0;34m.\u001b[0m\u001b[0mag_error_metadata\u001b[0m\u001b[0;34m.\u001b[0m\u001b[0mto_exception\u001b[0m\u001b[0;34m(\u001b[0m\u001b[0me\u001b[0m\u001b[0;34m)\u001b[0m\u001b[0;34m\u001b[0m\u001b[0;34m\u001b[0m\u001b[0m\n\u001b[0m\u001b[1;32m    978\u001b[0m             \u001b[0;32melse\u001b[0m\u001b[0;34m:\u001b[0m\u001b[0;34m\u001b[0m\u001b[0;34m\u001b[0m\u001b[0m\n\u001b[1;32m    979\u001b[0m               \u001b[0;32mraise\u001b[0m\u001b[0;34m\u001b[0m\u001b[0;34m\u001b[0m\u001b[0m\n",
            "\u001b[0;31mValueError\u001b[0m: in user code:\n\n    /usr/local/lib/python3.6/dist-packages/tensorflow/python/keras/engine/training.py:805 train_function  *\n        return step_function(self, iterator)\n    /usr/local/lib/python3.6/dist-packages/tensorflow/python/keras/engine/training.py:795 step_function  **\n        outputs = model.distribute_strategy.run(run_step, args=(data,))\n    /usr/local/lib/python3.6/dist-packages/tensorflow/python/distribute/distribute_lib.py:1259 run\n        return self._extended.call_for_each_replica(fn, args=args, kwargs=kwargs)\n    /usr/local/lib/python3.6/dist-packages/tensorflow/python/distribute/distribute_lib.py:2730 call_for_each_replica\n        return self._call_for_each_replica(fn, args, kwargs)\n    /usr/local/lib/python3.6/dist-packages/tensorflow/python/distribute/distribute_lib.py:3417 _call_for_each_replica\n        return fn(*args, **kwargs)\n    /usr/local/lib/python3.6/dist-packages/tensorflow/python/keras/engine/training.py:788 run_step  **\n        outputs = model.train_step(data)\n    /usr/local/lib/python3.6/dist-packages/tensorflow/python/keras/engine/training.py:754 train_step\n        y_pred = self(x, training=True)\n    /usr/local/lib/python3.6/dist-packages/tensorflow/python/keras/engine/base_layer.py:998 __call__\n        input_spec.assert_input_compatibility(self.input_spec, inputs, self.name)\n    /usr/local/lib/python3.6/dist-packages/tensorflow/python/keras/engine/input_spec.py:207 assert_input_compatibility\n        ' input tensors. Inputs received: ' + str(inputs))\n\n    ValueError: Layer model_2 expects 3 input(s), but it received 2 input tensors. Inputs received: [<tf.Tensor 'IteratorGetNext:0' shape=(None, None, None, None) dtype=float32>, <tf.Tensor 'IteratorGetNext:1' shape=(None, None, None, None) dtype=float32>]\n"
          ]
        }
      ]
    },
    {
      "cell_type": "markdown",
      "metadata": {
        "id": "cxKZezuqs1eq"
      },
      "source": [
        "Что-то никак не могу понять, почему он не хочет работать на 3 ветках. На 2 же работал..."
      ]
    },
    {
      "cell_type": "markdown",
      "metadata": {
        "id": "o5su9s1HwXh0"
      },
      "source": [
        " \r\n",
        "\r\n",
        "---\r\n",
        "\r\n",
        "---\r\n",
        "\r\n",
        "\r\n",
        "\r\n"
      ]
    },
    {
      "cell_type": "markdown",
      "metadata": {
        "id": "7V0bkucIwXeP"
      },
      "source": [
        "В процессе выполнения возникли вопросы."
      ]
    },
    {
      "cell_type": "markdown",
      "metadata": {
        "id": "BYOIr4zdwXVF"
      },
      "source": [
        "1. Почему не стоит делать слой конкотинации сразу после слоев Dropout (сеть вылетает с ошибкой)?\r\n",
        "\r\n",
        "2. Попыталась сделать 2 подряд слоя конволюции с понижением количества нейронов (128 -> 64), тоже начал странно ругаться. Причину не нашла.\r\n",
        "\r\n",
        "3. Да и в принципе так и не нашла вариант, который принципиально мог бы повысить точность((("
      ]
    }
  ]
}