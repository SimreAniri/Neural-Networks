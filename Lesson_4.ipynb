{
  "nbformat": 4,
  "nbformat_minor": 0,
  "metadata": {
    "colab": {
      "name": "Копия блокнота \"Копия блокнота \"Копия блокнота \"Lesson 4.ipynb\"\"\"\"",
      "provenance": [],
      "collapsed_sections": [],
      "authorship_tag": "ABX9TyOJQWzoqWgND0QbnnqIs0kJ",
      "include_colab_link": true
    },
    "kernelspec": {
      "name": "python3",
      "display_name": "Python 3"
    },
    "accelerator": "GPU"
  },
  "cells": [
    {
      "cell_type": "markdown",
      "metadata": {
        "id": "view-in-github",
        "colab_type": "text"
      },
      "source": [
        "<a href=\"https://colab.research.google.com/github/SimreAniri/Neural-Networks/blob/master/Lesson_4.ipynb\" target=\"_parent\"><img src=\"https://colab.research.google.com/assets/colab-badge.svg\" alt=\"Open In Colab\"/></a>"
      ]
    },
    {
      "cell_type": "code",
      "metadata": {
        "id": "LAxu566RwqDA"
      },
      "source": [
        "import numpy as np\n",
        "import matplotlib.pyplot as plt\n",
        "\n",
        "import keras\n",
        "from keras.datasets import cifar10\n",
        "from keras.preprocessing.image import ImageDataGenerator\n",
        "from keras.models import Sequential, Model\n",
        "from keras.layers import Dense, Dropout, Activation, Flatten, Input\n",
        "from keras.layers import Conv2D, MaxPooling2D, Concatenate\n",
        "\n",
        "from tensorflow.keras.utils import plot_model "
      ],
      "execution_count": null,
      "outputs": []
    },
    {
      "cell_type": "code",
      "metadata": {
        "id": "wbVm4UmB0ZOu"
      },
      "source": [
        "classes=['самолет', 'автомобиль', 'птица', 'кот', 'олень', 'собака', 'лягушка', 'лошадь', 'корабль', 'грузовик']"
      ],
      "execution_count": null,
      "outputs": []
    },
    {
      "cell_type": "code",
      "metadata": {
        "id": "mHo8p8jnwx6y"
      },
      "source": [
        "# установка параметров нейросети\n",
        "batch_size = 32\n",
        "num_classes = 10\n",
        "epochs = 5\n",
        "data_augmentation = True\n",
        "num_predictions = 20"
      ],
      "execution_count": null,
      "outputs": []
    },
    {
      "cell_type": "code",
      "metadata": {
        "id": "VSzqmH-Mw7lE",
        "colab": {
          "base_uri": "https://localhost:8080/"
        },
        "outputId": "42bfdf35-2db8-467e-9a78-6296311a20e6"
      },
      "source": [
        "# разделение тренировочной и тестовой выборки\n",
        "(x_train, y_train), (x_test, y_test) = cifar10.load_data()\n",
        "print('x_train shape:', x_train.shape)\n",
        "print(x_train.shape[0], 'тренировочные примеры')\n",
        "print(x_test.shape[0], 'тестовые примеры')"
      ],
      "execution_count": null,
      "outputs": [
        {
          "output_type": "stream",
          "text": [
            "Downloading data from https://www.cs.toronto.edu/~kriz/cifar-10-python.tar.gz\n",
            "170500096/170498071 [==============================] - 2s 0us/step\n",
            "x_train shape: (50000, 32, 32, 3)\n",
            "50000 тренировочные примеры\n",
            "10000 тестовые примеры\n"
          ],
          "name": "stdout"
        }
      ]
    },
    {
      "cell_type": "code",
      "metadata": {
        "id": "aR9VZ1UGw_0g"
      },
      "source": [
        "# преобразование матрицы чисел 0-9 в бинарную матрицу чисел 0-1\n",
        "y_train = keras.utils.to_categorical(y_train, num_classes)\n",
        "y_test = keras.utils.to_categorical(y_test, num_classes)"
      ],
      "execution_count": null,
      "outputs": []
    },
    {
      "cell_type": "code",
      "metadata": {
        "id": "WgVpBXH0_XtW"
      },
      "source": [
        "x_train = x_train.astype('float32')\n",
        "x_test = x_test.astype('float32')\n",
        "x_train /= 255\n",
        "x_test /= 255"
      ],
      "execution_count": null,
      "outputs": []
    },
    {
      "cell_type": "code",
      "metadata": {
        "id": "3gVH5O4HBurk",
        "colab": {
          "base_uri": "https://localhost:8080/"
        },
        "outputId": "da2914a0-f713-4725-efb9-5935088499a5"
      },
      "source": [
        "# конфигурирование слоев нейросети\n",
        "model = Sequential()\n",
        "\n",
        "# слои нейросети отвественные за свертку и max-pooling\n",
        "model.add(Conv2D(32, (3, 3), padding='same',\n",
        "                 input_shape=x_train.shape[1:]))\n",
        "model.add(Activation('relu'))\n",
        "model.add(Conv2D(32, (3, 3)))\n",
        "model.add(Activation('relu'))\n",
        "model.add(MaxPooling2D(pool_size=(2, 2)))\n",
        "model.add(Dropout(0.25))\n",
        "\n",
        "model.add(Conv2D(64, (3, 3), padding='same'))\n",
        "model.add(Activation('relu'))\n",
        "model.add(Conv2D(64, (3, 3)))\n",
        "model.add(Activation('relu'))\n",
        "model.add(MaxPooling2D(pool_size=(2, 2)))\n",
        "model.add(Dropout(0.25))\n",
        "\n",
        "# полносвязные слои нейронной сети\n",
        "model.add(Flatten())\n",
        "model.add(Dense(512))\n",
        "model.add(Activation('relu'))\n",
        "model.add(Dropout(0.5))\n",
        "model.add(Dense(num_classes))\n",
        "model.add(Activation('softmax'))\n",
        "\n",
        "# инициализация RMSprop optimizer\n",
        "opt = keras.optimizers.RMSprop(lr=0.0001, decay=1e-6)\n",
        "\n",
        "# компиляция модели\n",
        "model.compile(loss='categorical_crossentropy',\n",
        "              optimizer=opt,\n",
        "              metrics=['accuracy'])\n",
        "\n",
        "\n",
        "if not data_augmentation:\n",
        "    print('Не используется data augmentation')\n",
        "    model.fit(x_train, y_train,\n",
        "              batch_size=batch_size,\n",
        "              epochs=epochs,\n",
        "              validation_data=(x_test, y_test),\n",
        "              shuffle=True)\n",
        "else:\n",
        "    print('Использование data augmentation в реальном времени')\n",
        "    # Препроцессинг и data augmentation в реальном времени:\n",
        "    datagen = ImageDataGenerator(\n",
        "        featurewise_center=False,\n",
        "        samplewise_center=False,\n",
        "        featurewise_std_normalization=False,\n",
        "        samplewise_std_normalization=False,\n",
        "        zca_whitening=False, \n",
        "        zca_epsilon=1e-06, \n",
        "        rotation_range=0, \n",
        "        width_shift_range=0.1,\n",
        "        height_shift_range=0.1,\n",
        "        shear_range=0., \n",
        "        zoom_range=0., \n",
        "        channel_shift_range=0.,\n",
        "        fill_mode='nearest',\n",
        "        cval=0.,\n",
        "        horizontal_flip=True,\n",
        "        vertical_flip=False,\n",
        "        rescale=None,\n",
        "        preprocessing_function=None,\n",
        "        data_format=None,\n",
        "        validation_split=0.0)\n",
        "\n",
        "    # запуск data augmentation через fit\n",
        "    #datagen.fit(x_train)\n",
        "\n",
        "    # запуск data augmentation через fit_generator\n",
        "    model.fit_generator(datagen.flow(x_train, y_train,\n",
        "                                     batch_size=batch_size),\n",
        "                        epochs=epochs,\n",
        "                        validation_data=(x_test, y_test),\n",
        "                        workers=4)\n",
        "\n",
        "\n",
        "# проверка работы обученной модели\n",
        "scores = model.evaluate(x_test, y_test, verbose=1)\n",
        "print('Test loss:', scores[0])\n",
        "print('Test accuracy:', scores[1])"
      ],
      "execution_count": null,
      "outputs": [
        {
          "output_type": "stream",
          "text": [
            "Использование data augmentation в реальном времени\n",
            "Epoch 1/5\n"
          ],
          "name": "stdout"
        },
        {
          "output_type": "stream",
          "text": [
            "/usr/local/lib/python3.6/dist-packages/tensorflow/python/keras/engine/training.py:1844: UserWarning: `Model.fit_generator` is deprecated and will be removed in a future version. Please use `Model.fit`, which supports generators.\n",
            "  warnings.warn('`Model.fit_generator` is deprecated and '\n"
          ],
          "name": "stderr"
        },
        {
          "output_type": "stream",
          "text": [
            "1563/1563 [==============================] - 38s 20ms/step - loss: 2.0522 - accuracy: 0.2338 - val_loss: 1.5782 - val_accuracy: 0.4301\n",
            "Epoch 2/5\n",
            "1563/1563 [==============================] - 31s 20ms/step - loss: 1.6473 - accuracy: 0.3962 - val_loss: 1.3939 - val_accuracy: 0.4980\n",
            "Epoch 3/5\n",
            "1563/1563 [==============================] - 31s 20ms/step - loss: 1.5134 - accuracy: 0.4505 - val_loss: 1.2927 - val_accuracy: 0.5400\n",
            "Epoch 4/5\n",
            "1563/1563 [==============================] - 31s 20ms/step - loss: 1.4208 - accuracy: 0.4859 - val_loss: 1.2042 - val_accuracy: 0.5739\n",
            "Epoch 5/5\n",
            "1563/1563 [==============================] - 31s 20ms/step - loss: 1.3552 - accuracy: 0.5102 - val_loss: 1.1739 - val_accuracy: 0.5812\n",
            "313/313 [==============================] - 1s 3ms/step - loss: 1.1739 - accuracy: 0.5812\n",
            "Test loss: 1.1739498376846313\n",
            "Test accuracy: 0.5812000036239624\n"
          ],
          "name": "stdout"
        }
      ]
    },
    {
      "cell_type": "code",
      "metadata": {
        "id": "1qzh-Cv4z8Qn",
        "colab": {
          "base_uri": "https://localhost:8080/",
          "height": 281
        },
        "outputId": "458c3ecb-e7bf-40d4-cf55-d72e51cc261c"
      },
      "source": [
        "N = 83\n",
        "y_p=model.predict(x_test[N:N+1][:,:,:])\n",
        "y_t = np.argmax(y_test[N:N+1], axis = 1 )\n",
        "y_i = np.argmax(y_p, axis = 1 )\n",
        "plt.imshow(x_test[N][:,:,:])\n",
        "plt.title('это : '+classes[y_t[0]]+'- опознан как : '+classes[y_i[0]])\n",
        "plt.show()"
      ],
      "execution_count": null,
      "outputs": [
        {
          "output_type": "display_data",
          "data": {
            "image/png": "[encoded data removed]",
            "text/plain": [
              "<Figure size 432x288 with 1 Axes>"
            ]
          },
          "metadata": {
            "tags": [],
            "needs_background": "light"
          }
        }
      ]
    },
    {
      "cell_type": "code",
      "metadata": {
        "id": "MD6C_QsyRLw6",
        "colab": {
          "base_uri": "https://localhost:8080/"
        },
        "outputId": "ce3d0f8c-e205-4ce5-8112-e40330c71548"
      },
      "source": [
        "x_train.shape[1:]"
      ],
      "execution_count": null,
      "outputs": [
        {
          "output_type": "execute_result",
          "data": {
            "text/plain": [
              "(32, 32, 3)"
            ]
          },
          "metadata": {
            "tags": []
          },
          "execution_count": 9
        }
      ]
    },
    {
      "cell_type": "markdown",
      "metadata": {
        "id": "aZERlzFpy1SV"
      },
      "source": [
        "Попробуем сделать несколько нитей:"
      ]
    },
    {
      "cell_type": "code",
      "metadata": {
        "id": "q-anGZ4Sykno"
      },
      "source": [
        "first_input = Input(shape=x_train.shape[1:])\n",
        "x11 = Conv2D(32, (3, 3), padding='same', activation='relu')(first_input)\n",
        "x11 = Conv2D(32, (3, 3), activation='relu')(x11)\n",
        "x11 = MaxPooling2D(pool_size=(2, 2))(x11)\n",
        "x11 = Dropout(0.25)(x11)\n",
        "\n",
        "x11 = Conv2D(64, (3, 3), padding='same', activation='relu')(x11)\n",
        "x11 = Conv2D(64, (3, 3), activation='relu')(x11)\n",
        "first = MaxPooling2D(pool_size=(2, 2))(x11)\n",
        "\n",
        "\n",
        "x22 = Conv2D(32, (3, 3), padding='same', activation='relu')(first_input)\n",
        "x22 = Conv2D(32, (3, 3), activation='relu')(x22)\n",
        "x22 = MaxPooling2D(pool_size=(2, 2))(x22)\n",
        "x22 = Dropout(0.25)(x22)\n",
        "\n",
        "x22 = Conv2D(64, (3, 3), padding='same', activation='relu')(x22)\n",
        "x22 = Conv2D(64, (3, 3), activation='relu')(x22)\n",
        "second = MaxPooling2D(pool_size=(2, 2))(x22)\n",
        "\n",
        "merge_one = Concatenate()([first, second])\n",
        "\n",
        "x = Flatten()(merge_one)\n",
        "x = Dense(512, activation='relu')(x)\n",
        "x = Dropout(0.5)(x)\n",
        "x = Dense(num_classes, activation='softmax')(x)\n",
        "\n",
        "model2 = Model(inputs=first_input, outputs=x)"
      ],
      "execution_count": null,
      "outputs": []
    },
    {
      "cell_type": "code",
      "metadata": {
        "id": "N2Ff3WN2-cs3"
      },
      "source": [
        "# компиляция модели\n",
        "model2.compile(loss='categorical_crossentropy',\n",
        "              optimizer='SGD',\n",
        "              metrics=['accuracy'])"
      ],
      "execution_count": null,
      "outputs": []
    },
    {
      "cell_type": "code",
      "metadata": {
        "id": "ti0KFybN_riN",
        "colab": {
          "base_uri": "https://localhost:8080/",
          "height": 1000
        },
        "outputId": "4db6b1f3-d527-47ab-c366-00a214b6d49e"
      },
      "source": [
        "plot_model(model2, 'model2.png')"
      ],
      "execution_count": null,
      "outputs": [
        {
          "output_type": "execute_result",
          "data": {
            "image/png": "[encoded data removed]",
            "text/plain": [
              "<IPython.core.display.Image object>"
            ]
          },
          "metadata": {
            "tags": []
          },
          "execution_count": 12
        }
      ]
    },
    {
      "cell_type": "code",
      "metadata": {
        "id": "0WyPo34ITbk2",
        "colab": {
          "base_uri": "https://localhost:8080/"
        },
        "outputId": "cb11d44a-99aa-49df-8081-e6a8b18b9d1e"
      },
      "source": [
        "model2.summary()"
      ],
      "execution_count": null,
      "outputs": [
        {
          "output_type": "stream",
          "text": [
            "Model: \"model\"\n",
            "__________________________________________________________________________________________________\n",
            "Layer (type)                    Output Shape         Param #     Connected to                     \n",
            "==================================================================================================\n",
            "input_1 (InputLayer)            [(None, 32, 32, 3)]  0                                            \n",
            "__________________________________________________________________________________________________\n",
            "conv2d_4 (Conv2D)               (None, 32, 32, 32)   896         input_1[0][0]                    \n",
            "__________________________________________________________________________________________________\n",
            "conv2d_8 (Conv2D)               (None, 32, 32, 32)   896         input_1[0][0]                    \n",
            "__________________________________________________________________________________________________\n",
            "conv2d_5 (Conv2D)               (None, 30, 30, 32)   9248        conv2d_4[0][0]                   \n",
            "__________________________________________________________________________________________________\n",
            "conv2d_9 (Conv2D)               (None, 30, 30, 32)   9248        conv2d_8[0][0]                   \n",
            "__________________________________________________________________________________________________\n",
            "max_pooling2d_2 (MaxPooling2D)  (None, 15, 15, 32)   0           conv2d_5[0][0]                   \n",
            "__________________________________________________________________________________________________\n",
            "max_pooling2d_4 (MaxPooling2D)  (None, 15, 15, 32)   0           conv2d_9[0][0]                   \n",
            "__________________________________________________________________________________________________\n",
            "dropout_3 (Dropout)             (None, 15, 15, 32)   0           max_pooling2d_2[0][0]            \n",
            "__________________________________________________________________________________________________\n",
            "dropout_4 (Dropout)             (None, 15, 15, 32)   0           max_pooling2d_4[0][0]            \n",
            "__________________________________________________________________________________________________\n",
            "conv2d_6 (Conv2D)               (None, 15, 15, 64)   18496       dropout_3[0][0]                  \n",
            "__________________________________________________________________________________________________\n",
            "conv2d_10 (Conv2D)              (None, 15, 15, 64)   18496       dropout_4[0][0]                  \n",
            "__________________________________________________________________________________________________\n",
            "conv2d_7 (Conv2D)               (None, 13, 13, 64)   36928       conv2d_6[0][0]                   \n",
            "__________________________________________________________________________________________________\n",
            "conv2d_11 (Conv2D)              (None, 13, 13, 64)   36928       conv2d_10[0][0]                  \n",
            "__________________________________________________________________________________________________\n",
            "max_pooling2d_3 (MaxPooling2D)  (None, 6, 6, 64)     0           conv2d_7[0][0]                   \n",
            "__________________________________________________________________________________________________\n",
            "max_pooling2d_5 (MaxPooling2D)  (None, 6, 6, 64)     0           conv2d_11[0][0]                  \n",
            "__________________________________________________________________________________________________\n",
            "concatenate (Concatenate)       (None, 6, 6, 128)    0           max_pooling2d_3[0][0]            \n",
            "                                                                 max_pooling2d_5[0][0]            \n",
            "__________________________________________________________________________________________________\n",
            "flatten_1 (Flatten)             (None, 4608)         0           concatenate[0][0]                \n",
            "__________________________________________________________________________________________________\n",
            "dense_2 (Dense)                 (None, 512)          2359808     flatten_1[0][0]                  \n",
            "__________________________________________________________________________________________________\n",
            "dropout_5 (Dropout)             (None, 512)          0           dense_2[0][0]                    \n",
            "__________________________________________________________________________________________________\n",
            "dense_3 (Dense)                 (None, 10)           5130        dropout_5[0][0]                  \n",
            "==================================================================================================\n",
            "Total params: 2,496,074\n",
            "Trainable params: 2,496,074\n",
            "Non-trainable params: 0\n",
            "__________________________________________________________________________________________________\n"
          ],
          "name": "stdout"
        }
      ]
    },
    {
      "cell_type": "code",
      "metadata": {
        "id": "akxejIBESkgD"
      },
      "source": [
        "data_augmentation = False"
      ],
      "execution_count": null,
      "outputs": []
    },
    {
      "cell_type": "code",
      "metadata": {
        "id": "YQpB2_ZFVmTL"
      },
      "source": [
        "batch_size = 32\r\n",
        "num_classes = 10\r\n",
        "epochs = 5\r\n",
        "num_predictions = 20"
      ],
      "execution_count": null,
      "outputs": []
    },
    {
      "cell_type": "code",
      "metadata": {
        "id": "bdDPCw4G57Og",
        "colab": {
          "base_uri": "https://localhost:8080/"
        },
        "outputId": "2922f818-310f-4fb5-a25c-225941d89b90"
      },
      "source": [
        "if not data_augmentation:\n",
        "    print('Не используется data augmentation')\n",
        "    model2.fit(x_train, y_train, \n",
        "                batch_size=batch_size,\n",
        "                epochs=epochs,\n",
        "                validation_data=(x_test, y_test),\n",
        "                shuffle=True)\n",
        "    \n",
        "else:\n",
        "    print('Использование data augmentation в реальном времени')\n",
        "    # Препроцессинг и data augmentation в реальном времени:\n",
        "    datagen = ImageDataGenerator(\n",
        "        featurewise_center=False,\n",
        "        samplewise_center=False,\n",
        "        featurewise_std_normalization=False,\n",
        "        samplewise_std_normalization=False,\n",
        "        zca_whitening=False, \n",
        "        zca_epsilon=1e-06, \n",
        "        rotation_range=0, \n",
        "        width_shift_range=0.1,\n",
        "        height_shift_range=0.1,\n",
        "        shear_range=0., \n",
        "        zoom_range=0., \n",
        "        channel_shift_range=0.,\n",
        "        fill_mode='nearest',\n",
        "        cval=0.,\n",
        "        horizontal_flip=True,\n",
        "        vertical_flip=False,\n",
        "        rescale=None,\n",
        "        preprocessing_function=None,\n",
        "        data_format=None,\n",
        "        validation_split=0.0)\n",
        "\n",
        "    # запуск data augmentation через fit_generator\n",
        "    model2.fit_generator(datagen.flow(x_train, y_train,\n",
        "                                     batch_size=batch_size),\n",
        "                        epochs=epochs,\n",
        "                        validation_data=(x_test, y_test),\n",
        "                        workers=4)"
      ],
      "execution_count": null,
      "outputs": [
        {
          "output_type": "stream",
          "text": [
            "Не используется data augmentation\n",
            "Epoch 1/5\n",
            "1563/1563 [==============================] - 11s 7ms/step - loss: 2.1486 - accuracy: 0.2013 - val_loss: 1.7846 - val_accuracy: 0.3624\n",
            "Epoch 2/5\n",
            "1563/1563 [==============================] - 10s 7ms/step - loss: 1.7482 - accuracy: 0.3700 - val_loss: 1.5558 - val_accuracy: 0.4388\n",
            "Epoch 3/5\n",
            "1563/1563 [==============================] - 10s 7ms/step - loss: 1.5642 - accuracy: 0.4370 - val_loss: 1.3907 - val_accuracy: 0.4992\n",
            "Epoch 4/5\n",
            "1563/1563 [==============================] - 10s 7ms/step - loss: 1.4317 - accuracy: 0.4854 - val_loss: 1.2918 - val_accuracy: 0.5359\n",
            "Epoch 5/5\n",
            "1563/1563 [==============================] - 10s 7ms/step - loss: 1.3264 - accuracy: 0.5259 - val_loss: 1.2285 - val_accuracy: 0.5592\n"
          ],
          "name": "stdout"
        }
      ]
    },
    {
      "cell_type": "code",
      "metadata": {
        "id": "bTEKpPxv-TOh",
        "colab": {
          "base_uri": "https://localhost:8080/"
        },
        "outputId": "370eb030-6510-41be-b6d8-1d45fff4ca7f"
      },
      "source": [
        "# проверка работы обученной модели\r\n",
        "scores = model2.evaluate(x_test, y_test, verbose=1)\r\n",
        "print('Test loss:', scores[0])\r\n",
        "print('Test accuracy:', scores[1])"
      ],
      "execution_count": null,
      "outputs": [
        {
          "output_type": "stream",
          "text": [
            "313/313 [==============================] - 1s 4ms/step - loss: 1.2285 - accuracy: 0.5592\n",
            "Test loss: 1.2284717559814453\n",
            "Test accuracy: 0.5591999888420105\n"
          ],
          "name": "stdout"
        }
      ]
    },
    {
      "cell_type": "code",
      "metadata": {
        "id": "SY9rTmdvTINr",
        "colab": {
          "base_uri": "https://localhost:8080/",
          "height": 281
        },
        "outputId": "5d7eb714-c9db-4adf-c76a-6569941a9495"
      },
      "source": [
        "N = 83\r\n",
        "y_p=model2.predict(x_test[N:N+1][:,:,:])\r\n",
        "y_t = np.argmax(y_test[N:N+1], axis = 1 )\r\n",
        "y_i = np.argmax(y_p, axis = 1 )\r\n",
        "plt.imshow(x_test[N][:,:,:])\r\n",
        "plt.title('это : '+classes[y_t[0]]+'- опознан как : '+classes[y_i[0]])\r\n",
        "plt.show()"
      ],
      "execution_count": null,
      "outputs": [
        {
          "output_type": "display_data",
          "data": {
            "image/png": "[encoded data removed]",
            "text/plain": [
              "<Figure size 432x288 with 1 Axes>"
            ]
          },
          "metadata": {
            "tags": [],
            "needs_background": "light"
          }
        }
      ]
    },
    {
      "cell_type": "code",
      "metadata": {
        "id": "yGWDYQqFXAfq"
      },
      "source": [
        "first_input = Input(shape=x_train.shape[1:])\r\n",
        "x11 = Conv2D(32, (3, 3), padding='same', activation='relu')(first_input)\r\n",
        "x11 = Conv2D(32, (3, 3), activation='relu')(x11)\r\n",
        "x11 = MaxPooling2D(pool_size=(2, 2))(x11)\r\n",
        "x11 = Dropout(0.25)(x11)\r\n",
        "\r\n",
        "x11 = Conv2D(64, (3, 3), padding='same', activation='relu')(x11)\r\n",
        "x11 = Conv2D(128, (3, 3), activation='relu')(x11)\r\n",
        "first = MaxPooling2D(pool_size=(2, 2))(x11)\r\n",
        "\r\n",
        "\r\n",
        "x22 = Conv2D(32, (3, 3), padding='same', activation='relu')(first_input)\r\n",
        "x22 = Conv2D(32, (3, 3), activation='relu')(x22)\r\n",
        "x22 = MaxPooling2D(pool_size=(2, 2))(x22)\r\n",
        "x22 = Dropout(0.25)(x22)\r\n",
        "\r\n",
        "x22 = Conv2D(64, (3, 3), padding='same', activation='relu')(x22)\r\n",
        "x22 = Conv2D(128, (3, 3), activation='relu')(x22)\r\n",
        "second = MaxPooling2D(pool_size=(2, 2))(x22)\r\n",
        "\r\n",
        "merge_one = Concatenate()([first, second])\r\n",
        "\r\n",
        "x = Flatten()(merge_one)\r\n",
        "x = Dense(512, activation='relu')(x)\r\n",
        "x = Dropout(0.5)(x)\r\n",
        "x = Dense(num_classes, activation='softmax')(x)\r\n",
        "\r\n",
        "model3 = Model(inputs=first_input, outputs=x)"
      ],
      "execution_count": null,
      "outputs": []
    },
    {
      "cell_type": "code",
      "metadata": {
        "id": "y3kwGkWjYlJ8"
      },
      "source": [
        "# компиляция модели\r\n",
        "model3.compile(loss='categorical_crossentropy',\r\n",
        "              optimizer='SGD',\r\n",
        "              metrics=['accuracy'])"
      ],
      "execution_count": null,
      "outputs": []
    },
    {
      "cell_type": "code",
      "metadata": {
        "id": "w5xkMPz7YpjM",
        "colab": {
          "base_uri": "https://localhost:8080/"
        },
        "outputId": "9bac8e46-eab8-4832-ba86-19ff8ad18bd5"
      },
      "source": [
        "print('Не используется data augmentation')\r\n",
        "model3.fit(x_train, y_train, \r\n",
        "            batch_size=batch_size,\r\n",
        "            epochs=epochs,\r\n",
        "            validation_data=(x_test, y_test),\r\n",
        "            shuffle=True)"
      ],
      "execution_count": null,
      "outputs": [
        {
          "output_type": "stream",
          "text": [
            "Не используется data augmentation\n",
            "Epoch 1/5\n",
            "1563/1563 [==============================] - 13s 8ms/step - loss: 2.1424 - accuracy: 0.2014 - val_loss: 1.8085 - val_accuracy: 0.3522\n",
            "Epoch 2/5\n",
            "1563/1563 [==============================] - 12s 7ms/step - loss: 1.7409 - accuracy: 0.3737 - val_loss: 1.5272 - val_accuracy: 0.4591\n",
            "Epoch 3/5\n",
            "1563/1563 [==============================] - 12s 7ms/step - loss: 1.5208 - accuracy: 0.4487 - val_loss: 1.4574 - val_accuracy: 0.4784\n",
            "Epoch 4/5\n",
            "1563/1563 [==============================] - 12s 8ms/step - loss: 1.3927 - accuracy: 0.5032 - val_loss: 1.2990 - val_accuracy: 0.5429\n",
            "Epoch 5/5\n",
            "1563/1563 [==============================] - 12s 8ms/step - loss: 1.2966 - accuracy: 0.5360 - val_loss: 1.1981 - val_accuracy: 0.5782\n"
          ],
          "name": "stdout"
        },
        {
          "output_type": "execute_result",
          "data": {
            "text/plain": [
              "<tensorflow.python.keras.callbacks.History at 0x7fd2b4696668>"
            ]
          },
          "metadata": {
            "tags": []
          },
          "execution_count": 23
        }
      ]
    },
    {
      "cell_type": "code",
      "metadata": {
        "id": "DtDuFl3GYvyi",
        "colab": {
          "base_uri": "https://localhost:8080/"
        },
        "outputId": "47d393ae-7040-40dd-b79a-cadbeeeaa5a1"
      },
      "source": [
        "# проверка работы обученной модели\r\n",
        "scores = model3.evaluate(x_test, y_test, verbose=1)\r\n",
        "print('Test loss:', scores[0])\r\n",
        "print('Test accuracy:', scores[1])"
      ],
      "execution_count": null,
      "outputs": [
        {
          "output_type": "stream",
          "text": [
            "313/313 [==============================] - 1s 3ms/step - loss: 1.1981 - accuracy: 0.5782\n",
            "Test loss: 1.1980620622634888\n",
            "Test accuracy: 0.5781999826431274\n"
          ],
          "name": "stdout"
        }
      ]
    },
    {
      "cell_type": "code",
      "metadata": {
        "id": "dWDYtLGtY2ny",
        "colab": {
          "base_uri": "https://localhost:8080/",
          "height": 281
        },
        "outputId": "5993866b-7f4d-4cfa-be1e-b3a68f047835"
      },
      "source": [
        "N = 919\r\n",
        "y_p=model3.predict(x_test[N:N+1][:,:,:])\r\n",
        "y_t = np.argmax(y_test[N:N+1], axis = 1 )\r\n",
        "y_i = np.argmax(y_p, axis = 1 )\r\n",
        "plt.imshow(x_test[N][:,:,:])\r\n",
        "plt.title('это : '+classes[y_t[0]]+'- опознан как : '+classes[y_i[0]])\r\n",
        "plt.show()"
      ],
      "execution_count": null,
      "outputs": [
        {
          "output_type": "display_data",
          "data": {
            "image/png": "[encoded data removed]",
            "text/plain": [
              "<Figure size 432x288 with 1 Axes>"
            ]
          },
          "metadata": {
            "tags": [],
            "needs_background": "light"
          }
        }
      ]
    },
    {
      "cell_type": "markdown",
      "metadata": {
        "id": "IJ0T8asXfPgJ"
      },
      "source": [
        "Есть небольшой рост метрики от увеличения ширины слоев"
      ]
    },
    {
      "cell_type": "code",
      "metadata": {
        "id": "fOkD1wX4Y6YR"
      },
      "source": [
        "first_input = Input(shape=x_train.shape[1:])\r\n",
        "x11 = Conv2D(32, (3, 3), padding='same', activation='relu')(first_input)\r\n",
        "x11 = Conv2D(32, (3, 3), activation='relu')(x11)\r\n",
        "x11 = MaxPooling2D(pool_size=(2, 2))(x11)\r\n",
        "x11 = Dropout(0.25)(x11)\r\n",
        "\r\n",
        "x11 = Conv2D(64, (3, 3), padding='same', activation='relu')(x11)\r\n",
        "x11 = Conv2D(64, (3, 3), activation='relu')(x11)\r\n",
        "first = MaxPooling2D(pool_size=(2, 2))(x11)\r\n",
        "\r\n",
        "\r\n",
        "x22 = Conv2D(32, (3, 3), padding='same', activation='relu')(first_input)\r\n",
        "x22 = Conv2D(32, (3, 3), activation='relu')(x22)\r\n",
        "x22 = MaxPooling2D(pool_size=(2, 2))(x22)\r\n",
        "x22 = Dropout(0.25)(x22)\r\n",
        "\r\n",
        "x22 = Conv2D(64, (3, 3), padding='same', activation='relu')(x22)\r\n",
        "x22 = Conv2D(64, (3, 3), activation='relu')(x22)\r\n",
        "second = MaxPooling2D(pool_size=(2, 2))(x22)\r\n",
        "\r\n",
        "\r\n",
        "x33 = Conv2D(32, (3, 3), padding='same', activation='relu')(first_input)\r\n",
        "x33 = Conv2D(32, (3, 3), activation='relu')(x33)\r\n",
        "x33 = MaxPooling2D(pool_size=(2, 2))(x33)\r\n",
        "x33 = Dropout(0.25)(x33)\r\n",
        "\r\n",
        "x33 = Conv2D(64, (3, 3), padding='same', activation='relu')(x33)\r\n",
        "x33 = Conv2D(64, (3, 3), activation='relu')(x33)\r\n",
        "third = MaxPooling2D(pool_size=(2, 2))(x33)\r\n",
        "\r\n",
        "\r\n",
        "merge_one = Concatenate()([first, second, third])\r\n",
        "\r\n",
        "x = Flatten()(merge_one)\r\n",
        "x = Dense(512, activation='relu')(x)\r\n",
        "x = Dropout(0.5)(x)\r\n",
        "x = Dense(num_classes, activation='softmax')(x)\r\n",
        "\r\n",
        "model4 = Model(inputs=first_input, outputs=x)"
      ],
      "execution_count": null,
      "outputs": []
    },
    {
      "cell_type": "code",
      "metadata": {
        "id": "PTxgQEsff5S3"
      },
      "source": [
        "# компиляция модели\r\n",
        "model4.compile(loss='categorical_crossentropy',\r\n",
        "              optimizer='SGD',\r\n",
        "              metrics=['accuracy'])"
      ],
      "execution_count": null,
      "outputs": []
    },
    {
      "cell_type": "code",
      "metadata": {
        "colab": {
          "base_uri": "https://localhost:8080/"
        },
        "id": "_nDWTHXlf8gy",
        "outputId": "a78cc7ed-a237-4322-9920-2c82132cb094"
      },
      "source": [
        "print('Не используется data augmentation')\r\n",
        "model4.fit(x_train, y_train, \r\n",
        "            batch_size=batch_size,\r\n",
        "            epochs=epochs,\r\n",
        "            validation_data=(x_test, y_test),\r\n",
        "            shuffle=True)"
      ],
      "execution_count": null,
      "outputs": [
        {
          "output_type": "stream",
          "text": [
            "Не используется data augmentation\n",
            "Epoch 1/5\n",
            "1563/1563 [==============================] - 15s 9ms/step - loss: 2.1800 - accuracy: 0.1871 - val_loss: 1.8884 - val_accuracy: 0.3261\n",
            "Epoch 2/5\n",
            "1563/1563 [==============================] - 14s 9ms/step - loss: 1.7813 - accuracy: 0.3595 - val_loss: 1.5431 - val_accuracy: 0.4519\n",
            "Epoch 3/5\n",
            "1563/1563 [==============================] - 14s 9ms/step - loss: 1.5502 - accuracy: 0.4429 - val_loss: 1.3698 - val_accuracy: 0.5094\n",
            "Epoch 4/5\n",
            "1563/1563 [==============================] - 14s 9ms/step - loss: 1.4149 - accuracy: 0.4888 - val_loss: 1.3019 - val_accuracy: 0.5455\n",
            "Epoch 5/5\n",
            "1563/1563 [==============================] - 14s 9ms/step - loss: 1.3235 - accuracy: 0.5273 - val_loss: 1.2214 - val_accuracy: 0.5600\n"
          ],
          "name": "stdout"
        },
        {
          "output_type": "execute_result",
          "data": {
            "text/plain": [
              "<tensorflow.python.keras.callbacks.History at 0x7fd2b43f0588>"
            ]
          },
          "metadata": {
            "tags": []
          },
          "execution_count": 29
        }
      ]
    },
    {
      "cell_type": "code",
      "metadata": {
        "colab": {
          "base_uri": "https://localhost:8080/"
        },
        "id": "_DET1Y5CgE2B",
        "outputId": "136e4ded-1286-488f-9c57-d0fb937b9748"
      },
      "source": [
        "# проверка работы обученной модели\r\n",
        "scores = model4.evaluate(x_test, y_test, verbose=1)\r\n",
        "print('Test loss:', scores[0])\r\n",
        "print('Test accuracy:', scores[1])"
      ],
      "execution_count": null,
      "outputs": [
        {
          "output_type": "stream",
          "text": [
            "313/313 [==============================] - 1s 4ms/step - loss: 1.2214 - accuracy: 0.5600\n",
            "Test loss: 1.221399188041687\n",
            "Test accuracy: 0.5600000023841858\n"
          ],
          "name": "stdout"
        }
      ]
    },
    {
      "cell_type": "code",
      "metadata": {
        "colab": {
          "base_uri": "https://localhost:8080/",
          "height": 281
        },
        "id": "ZsWR3azqgJJB",
        "outputId": "5e40c668-08eb-436c-cd6b-6b90c931ae1f"
      },
      "source": [
        "N = 919\r\n",
        "y_p=model4.predict(x_test[N:N+1][:,:,:])\r\n",
        "y_t = np.argmax(y_test[N:N+1], axis = 1 )\r\n",
        "y_i = np.argmax(y_p, axis = 1 )\r\n",
        "plt.imshow(x_test[N][:,:,:])\r\n",
        "plt.title('это : '+classes[y_t[0]]+'- опознан как : '+classes[y_i[0]])\r\n",
        "plt.show()"
      ],
      "execution_count": null,
      "outputs": [
        {
          "output_type": "display_data",
          "data": {
            "image/png": "[encoded data removed]",
            "text/plain": [
              "<Figure size 432x288 with 1 Axes>"
            ]
          },
          "metadata": {
            "tags": [],
            "needs_background": "light"
          }
        }
      ]
    },
    {
      "cell_type": "markdown",
      "metadata": {
        "id": "Kuo2tqTriaQ0"
      },
      "source": [
        "Дополнительная ветвь не улудшила метрику"
      ]
    },
    {
      "cell_type": "code",
      "metadata": {
        "id": "npjT7E5Mh-Wm"
      },
      "source": [
        "first_input = Input(shape=x_train.shape[1:])\r\n",
        "x11 = Conv2D(32, (5, 5), padding='same', activation='relu')(first_input)\r\n",
        "x11 = Conv2D(32, (5, 5), activation='relu')(x11)\r\n",
        "x11 = MaxPooling2D(pool_size=(2, 2))(x11)\r\n",
        "x11 = Dropout(0.25)(x11)\r\n",
        "\r\n",
        "x11 = Conv2D(32, (5, 5), padding='same', activation='relu')(x11)\r\n",
        "x11 = Conv2D(32, (5, 5), activation='relu')(x11)\r\n",
        "first = MaxPooling2D(pool_size=(2, 2))(x11)\r\n",
        "\r\n",
        "\r\n",
        "x22 = Conv2D(64, (5, 5), padding='same', activation='relu')(first_input)\r\n",
        "x22 = Conv2D(64, (5, 5), activation='relu')(x22)\r\n",
        "x22 = MaxPooling2D(pool_size=(2, 2))(x22)\r\n",
        "x22 = Dropout(0.25)(x22)\r\n",
        "\r\n",
        "x22 = Conv2D(64, (5, 5), padding='same', activation='relu')(x22)\r\n",
        "x22 = Conv2D(64, (5, 5), activation='relu')(x22)\r\n",
        "second = MaxPooling2D(pool_size=(2, 2))(x22)\r\n",
        "\r\n",
        "\r\n",
        "x33 = Conv2D(64, (5, 5), padding='same', activation='relu')(first_input)\r\n",
        "x33 = Conv2D(64, (5, 5), activation='relu')(x33)\r\n",
        "x33 = MaxPooling2D(pool_size=(2, 2))(x33)\r\n",
        "x33 = Dropout(0.25)(x33)\r\n",
        "\r\n",
        "x33 = Conv2D(128, (5, 5), padding='same', activation='relu')(x33)\r\n",
        "x33 = Conv2D(128, (5, 5), activation='relu')(x33)\r\n",
        "third = MaxPooling2D(pool_size=(2, 2))(x33)\r\n",
        "\r\n",
        "\r\n",
        "merge_one = Concatenate()([first, second, third])\r\n",
        "\r\n",
        "x = Flatten()(merge_one)\r\n",
        "x = Dense(512, activation='relu')(x)\r\n",
        "x = Dropout(0.5)(x)\r\n",
        "x = Dense(num_classes, activation='softmax')(x)\r\n",
        "\r\n",
        "model5 = Model(inputs=first_input, outputs=x)"
      ],
      "execution_count": null,
      "outputs": []
    },
    {
      "cell_type": "code",
      "metadata": {
        "id": "52V6a6wVi2gC"
      },
      "source": [
        "# компиляция модели\r\n",
        "model5.compile(loss='categorical_crossentropy',\r\n",
        "              optimizer='SGD',\r\n",
        "              metrics=['accuracy'])"
      ],
      "execution_count": null,
      "outputs": []
    },
    {
      "cell_type": "code",
      "metadata": {
        "colab": {
          "base_uri": "https://localhost:8080/"
        },
        "id": "sbopu3_wi2gK",
        "outputId": "19f58afd-a619-447a-d8cb-737efd0d3dec"
      },
      "source": [
        "print('Не используется data augmentation')\r\n",
        "model5.fit(x_train, y_train, \r\n",
        "            batch_size=batch_size,\r\n",
        "            epochs=epochs,\r\n",
        "            validation_data=(x_test, y_test),\r\n",
        "            shuffle=True)"
      ],
      "execution_count": null,
      "outputs": [
        {
          "output_type": "stream",
          "text": [
            "Не используется data augmentation\n",
            "Epoch 1/5\n",
            "1563/1563 [==============================] - 28s 17ms/step - loss: 2.1243 - accuracy: 0.2084 - val_loss: 1.6462 - val_accuracy: 0.4038\n",
            "Epoch 2/5\n",
            "1563/1563 [==============================] - 26s 17ms/step - loss: 1.6556 - accuracy: 0.3977 - val_loss: 1.4513 - val_accuracy: 0.4762\n",
            "Epoch 3/5\n",
            "1563/1563 [==============================] - 26s 17ms/step - loss: 1.4655 - accuracy: 0.4726 - val_loss: 1.4110 - val_accuracy: 0.5024\n",
            "Epoch 4/5\n",
            "1563/1563 [==============================] - 26s 17ms/step - loss: 1.3396 - accuracy: 0.5193 - val_loss: 1.2421 - val_accuracy: 0.5507\n",
            "Epoch 5/5\n",
            "1563/1563 [==============================] - 26s 17ms/step - loss: 1.2443 - accuracy: 0.5608 - val_loss: 1.1476 - val_accuracy: 0.5923\n"
          ],
          "name": "stdout"
        },
        {
          "output_type": "execute_result",
          "data": {
            "text/plain": [
              "<tensorflow.python.keras.callbacks.History at 0x7fd2b4170860>"
            ]
          },
          "metadata": {
            "tags": []
          },
          "execution_count": 34
        }
      ]
    },
    {
      "cell_type": "code",
      "metadata": {
        "colab": {
          "base_uri": "https://localhost:8080/"
        },
        "id": "lO7VbJDpi2gK",
        "outputId": "31ef5ab1-e1e1-4612-a43f-463c556fce3b"
      },
      "source": [
        "# проверка работы обученной модели\r\n",
        "scores = model5.evaluate(x_test, y_test, verbose=1)\r\n",
        "print('Test loss:', scores[0])\r\n",
        "print('Test accuracy:', scores[1])"
      ],
      "execution_count": null,
      "outputs": [
        {
          "output_type": "stream",
          "text": [
            "313/313 [==============================] - 2s 6ms/step - loss: 1.1476 - accuracy: 0.5923\n",
            "Test loss: 1.1476157903671265\n",
            "Test accuracy: 0.5922999978065491\n"
          ],
          "name": "stdout"
        }
      ]
    },
    {
      "cell_type": "code",
      "metadata": {
        "colab": {
          "base_uri": "https://localhost:8080/",
          "height": 319
        },
        "id": "zr01tJSli2gL",
        "outputId": "ecfe5c33-a957-401a-e915-411f6ce8b5bc"
      },
      "source": [
        "N = 919\r\n",
        "y_p=model5.predict(x_test[N:N+1][:,:,:])\r\n",
        "y_t = np.argmax(y_test[N:N+1], axis = 1 )\r\n",
        "y_i = np.argmax(y_p, axis = 1 )\r\n",
        "plt.imshow(x_test[N][:,:,:])\r\n",
        "plt.title('это : '+classes[y_t[0]]+'- опознан как : '+classes[y_i[0]])\r\n",
        "plt.show()"
      ],
      "execution_count": null,
      "outputs": [
        {
          "output_type": "stream",
          "text": [
            "WARNING:tensorflow:5 out of the last 5 calls to <function Model.make_predict_function.<locals>.predict_function at 0x7fd2b43e57b8> triggered tf.function retracing. Tracing is expensive and the excessive number of tracings could be due to (1) creating @tf.function repeatedly in a loop, (2) passing tensors with different shapes, (3) passing Python objects instead of tensors. For (1), please define your @tf.function outside of the loop. For (2), @tf.function has experimental_relax_shapes=True option that relaxes argument shapes that can avoid unnecessary retracing. For (3), please refer to https://www.tensorflow.org/guide/function#controlling_retracing and https://www.tensorflow.org/api_docs/python/tf/function for  more details.\n"
          ],
          "name": "stdout"
        },
        {
          "output_type": "display_data",
          "data": {
            "image/png": "[encoded data removed]",
            "text/plain": [
              "<Figure size 432x288 with 1 Axes>"
            ]
          },
          "metadata": {
            "tags": [],
            "needs_background": "light"
          }
        }
      ]
    },
    {
      "cell_type": "markdown",
      "metadata": {
        "id": "RHl8OYs4q76l"
      },
      "source": [
        "Попробуем дообучить последний вариант сети"
      ]
    },
    {
      "cell_type": "code",
      "metadata": {
        "id": "x9kGrg05rRak"
      },
      "source": [
        "epochs = 10"
      ],
      "execution_count": null,
      "outputs": []
    },
    {
      "cell_type": "code",
      "metadata": {
        "id": "H9jGZgL6i-Sn",
        "colab": {
          "base_uri": "https://localhost:8080/"
        },
        "outputId": "5eef4036-8c92-43cd-a8aa-ed77da1b7d9a"
      },
      "source": [
        "print('Использование data augmentation в реальном времени')\r\n",
        "# Препроцессинг и data augmentation в реальном времени:\r\n",
        "datagen = ImageDataGenerator(\r\n",
        "    featurewise_center=False,\r\n",
        "    samplewise_center=False,\r\n",
        "    featurewise_std_normalization=False,\r\n",
        "    samplewise_std_normalization=False,\r\n",
        "    zca_whitening=False, \r\n",
        "    zca_epsilon=1e-06, \r\n",
        "    rotation_range=0, \r\n",
        "    width_shift_range=0.1,\r\n",
        "    height_shift_range=0.1,\r\n",
        "    shear_range=0., \r\n",
        "    zoom_range=0., \r\n",
        "    channel_shift_range=0.,\r\n",
        "    fill_mode='nearest',\r\n",
        "    cval=0.,\r\n",
        "    horizontal_flip=True,\r\n",
        "    vertical_flip=False,\r\n",
        "    rescale=None,\r\n",
        "    preprocessing_function=None,\r\n",
        "    data_format=None,\r\n",
        "    validation_split=0.0)\r\n",
        "\r\n",
        "# запуск data augmentation через fit_generator\r\n",
        "model5.fit_generator(datagen.flow(x_train, y_train,\r\n",
        "                                  batch_size=batch_size),\r\n",
        "                    epochs=epochs,\r\n",
        "                    validation_data=(x_test, y_test),\r\n",
        "                    workers=4)"
      ],
      "execution_count": null,
      "outputs": [
        {
          "output_type": "stream",
          "text": [
            "Использование data augmentation в реальном времени\n",
            "Epoch 1/10\n",
            "   3/1563 [..............................] - ETA: 51s - loss: 1.1241 - accuracy: 0.5833 "
          ],
          "name": "stdout"
        },
        {
          "output_type": "stream",
          "text": [
            "/usr/local/lib/python3.6/dist-packages/tensorflow/python/keras/engine/training.py:1844: UserWarning: `Model.fit_generator` is deprecated and will be removed in a future version. Please use `Model.fit`, which supports generators.\n",
            "  warnings.warn('`Model.fit_generator` is deprecated and '\n"
          ],
          "name": "stderr"
        },
        {
          "output_type": "stream",
          "text": [
            "1563/1563 [==============================] - 37s 23ms/step - loss: 1.0132 - accuracy: 0.6417 - val_loss: 0.9039 - val_accuracy: 0.6813\n",
            "Epoch 2/10\n",
            "1563/1563 [==============================] - 36s 23ms/step - loss: 0.9765 - accuracy: 0.6560 - val_loss: 0.9192 - val_accuracy: 0.6819\n",
            "Epoch 3/10\n",
            "1563/1563 [==============================] - 36s 23ms/step - loss: 0.9397 - accuracy: 0.6709 - val_loss: 0.8063 - val_accuracy: 0.7236\n",
            "Epoch 4/10\n",
            "1563/1563 [==============================] - 37s 23ms/step - loss: 0.9065 - accuracy: 0.6824 - val_loss: 0.7822 - val_accuracy: 0.7256\n",
            "Epoch 5/10\n",
            "1563/1563 [==============================] - 37s 24ms/step - loss: 0.8729 - accuracy: 0.6943 - val_loss: 0.7597 - val_accuracy: 0.7371\n",
            "Epoch 6/10\n",
            "1563/1563 [==============================] - 37s 23ms/step - loss: 0.8462 - accuracy: 0.7031 - val_loss: 0.7369 - val_accuracy: 0.7415\n",
            "Epoch 7/10\n",
            "1563/1563 [==============================] - 37s 23ms/step - loss: 0.8209 - accuracy: 0.7130 - val_loss: 0.7623 - val_accuracy: 0.7387\n",
            "Epoch 8/10\n",
            "1563/1563 [==============================] - 36s 23ms/step - loss: 0.7954 - accuracy: 0.7217 - val_loss: 0.7165 - val_accuracy: 0.7521\n",
            "Epoch 9/10\n",
            "1563/1563 [==============================] - 36s 23ms/step - loss: 0.7748 - accuracy: 0.7275 - val_loss: 0.6749 - val_accuracy: 0.7654\n",
            "Epoch 10/10\n",
            "1563/1563 [==============================] - 37s 23ms/step - loss: 0.7579 - accuracy: 0.7344 - val_loss: 0.6558 - val_accuracy: 0.7705\n"
          ],
          "name": "stdout"
        },
        {
          "output_type": "execute_result",
          "data": {
            "text/plain": [
              "<tensorflow.python.keras.callbacks.History at 0x7fd2ac5ea128>"
            ]
          },
          "metadata": {
            "tags": []
          },
          "execution_count": 41
        }
      ]
    },
    {
      "cell_type": "code",
      "metadata": {
        "id": "V1kmrrmnIkpM",
        "colab": {
          "base_uri": "https://localhost:8080/"
        },
        "outputId": "88f01b76-51e7-4ac4-a0eb-9ecf789abd23"
      },
      "source": [
        "# проверка работы обученной модели\r\n",
        "scores = model5.evaluate(x_test, y_test, verbose=1)\r\n",
        "print('Test loss:', scores[0])\r\n",
        "print('Test accuracy:', scores[1])"
      ],
      "execution_count": null,
      "outputs": [
        {
          "output_type": "stream",
          "text": [
            "313/313 [==============================] - 2s 6ms/step - loss: 0.6558 - accuracy: 0.7705\n",
            "Test loss: 0.6557536721229553\n",
            "Test accuracy: 0.7705000042915344\n"
          ],
          "name": "stdout"
        }
      ]
    },
    {
      "cell_type": "code",
      "metadata": {
        "id": "Xt6DpEEHJNUF",
        "colab": {
          "base_uri": "https://localhost:8080/",
          "height": 281
        },
        "outputId": "50ccd06d-1a91-4f8c-de37-433bbc69bae3"
      },
      "source": [
        "N = 919\r\n",
        "y_p=model5.predict(x_test[N:N+1][:,:,:])\r\n",
        "y_t = np.argmax(y_test[N:N+1], axis = 1 )\r\n",
        "y_i = np.argmax(y_p, axis = 1 )\r\n",
        "plt.imshow(x_test[N][:,:,:])\r\n",
        "plt.title('это : '+classes[y_t[0]]+'- опознан как : '+classes[y_i[0]])\r\n",
        "plt.show()"
      ],
      "execution_count": null,
      "outputs": [
        {
          "output_type": "display_data",
          "data": {
            "image/png": "[encoded data removed]",
            "text/plain": [
              "<Figure size 432x288 with 1 Axes>"
            ]
          },
          "metadata": {
            "tags": [],
            "needs_background": "light"
          }
        }
      ]
    },
    {
      "cell_type": "code",
      "metadata": {
        "id": "UljXlyPGKISD",
        "colab": {
          "base_uri": "https://localhost:8080/",
          "height": 281
        },
        "outputId": "29b7989e-febf-4202-a459-5294ebf38557"
      },
      "source": [
        "N = 49\r\n",
        "y_p=model5.predict(x_test[N:N+1][:,:,:])\r\n",
        "y_t = np.argmax(y_test[N:N+1], axis = 1 )\r\n",
        "y_i = np.argmax(y_p, axis = 1 )\r\n",
        "plt.imshow(x_test[N][:,:,:])\r\n",
        "plt.title('это : '+classes[y_t[0]]+'- опознан как : '+classes[y_i[0]])\r\n",
        "plt.show()"
      ],
      "execution_count": null,
      "outputs": [
        {
          "output_type": "display_data",
          "data": {
            "image/png": "[encoded data removed]",
            "text/plain": [
              "<Figure size 432x288 with 1 Axes>"
            ]
          },
          "metadata": {
            "tags": [],
            "needs_background": "light"
          }
        }
      ]
    },
    {
      "cell_type": "markdown",
      "metadata": {
        "id": "o5su9s1HwXh0"
      },
      "source": [
        " \r\n",
        "\r\n",
        "---\r\n",
        "\r\n",
        "---\r\n",
        "\r\n",
        "\r\n",
        "\r\n"
      ]
    }
  ]
}